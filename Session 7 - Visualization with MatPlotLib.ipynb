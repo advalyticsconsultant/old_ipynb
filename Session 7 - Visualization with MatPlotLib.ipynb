{
 "cells": [
  {
   "cell_type": "markdown",
   "id": "7f5fc47a-3017-4b9f-bd26-59580a121501",
   "metadata": {},
   "source": [
    "### Plotting using MatPlotLib\n",
    "`MatPlotLib` is a popular visualization library in Python. It creates very basic visuals based on the data that we provide it. To plot any type of visual in matplotlib, we need to create the underlying dataframe using pandas.\n",
    "\n",
    "We need to import it:<br>\n",
    "`import matplotlib.pyplot as plt`\n",
    "\n",
    "We need to import `matplotlib.pyplot` because the visualization functions are in a sub-module of the matplotlib library. If we don't use the above statement, we would need to write extra code making the final script confusing."
   ]
  },
  {
   "cell_type": "code",
   "execution_count": null,
   "id": "50246ab3-fae0-4ac7-b247-ca6d71cd572d",
   "metadata": {},
   "outputs": [],
   "source": [
    "import matplotlib.pyplot as plt\n",
    "import pandas as pd"
   ]
  },
  {
   "cell_type": "code",
   "execution_count": null,
   "id": "f7543a3d-1b21-42b1-8616-4965c8a9dfcd",
   "metadata": {},
   "outputs": [],
   "source": [
    "orders = pd.read_excel(r\"E:\\data\\superstore.xls\")"
   ]
  },
  {
   "cell_type": "code",
   "execution_count": null,
   "id": "3b9399c9-2af6-4d55-9963-e37e378935d2",
   "metadata": {},
   "outputs": [],
   "source": [
    "orders['Order Year'] = orders['Order Date'].dt.year\n",
    "orders['Order Month Number'] = orders['Order Date'].dt.month\n",
    "orders['Order Month'] = orders['Order Date'].dt.strftime('%B')\n",
    "orders['Ship Delay'] = (orders['Ship Date'] - orders['Order Date']).dt.days"
   ]
  },
  {
   "cell_type": "markdown",
   "id": "6d6ba9cf-cedc-42f3-b04d-bd813486e7a4",
   "metadata": {},
   "source": [
    "### Line charts in `matplotlib`\n",
    "\n",
    "Line charts in matplotlib can be created using the `plt.plot(x_axis, y_axis)` function. Here:\n",
    "- `x_axis`: field in the dataframe that we want to display on the x-axis\n",
    "- `y-axis`: field in the dataframe that we want to display on the y-axis\n",
    "\n",
    "Some other commonly used configurations in the `plt.plot()` function are:\n",
    "- `color`: changes the color of the line\n",
    "- `marker`: adds markers to the plotted points on the line\n",
    "- `linestyle`: controls the type of line\n",
    "- `linewidth`: controls the width of the line\n",
    "- `markersize`: controls the size of the marker"
   ]
  },
  {
   "cell_type": "markdown",
   "id": "66342555-352a-4d5b-b2b8-85284f5cefc1",
   "metadata": {},
   "source": [
    "#### Sales by Year"
   ]
  },
  {
   "cell_type": "code",
   "execution_count": null,
   "id": "fa9aa686-c84d-4250-abb0-1abde1cc7b65",
   "metadata": {},
   "outputs": [],
   "source": [
    "annual_sales = orders.groupby(['Order Year']).agg({'Sales':['sum']}).reset_index()\n",
    "annual_sales.columns = annual_sales.columns.map('_'.join)\n",
    "annual_sales"
   ]
  },
  {
   "cell_type": "code",
   "execution_count": null,
   "id": "be045f60-7417-42e7-9f03-b600fbe1fd7e",
   "metadata": {},
   "outputs": [],
   "source": [
    "plt.plot(annual_sales['Order Year_'], annual_sales['Sales_sum'], marker='*', color='green', linestyle='--')\n",
    "plt.show()"
   ]
  },
  {
   "cell_type": "markdown",
   "id": "262daf46-bdf9-469f-a824-13dbe75cc7ed",
   "metadata": {},
   "source": [
    "### `fmt` shorthand\n",
    "\n",
    "In the `plt.plot()` function, instead of using keyword arguments (like `color`, `marker`, `linestyle`) we can use the `fmt` notation to customize the chart. `fmt` is a simple format string in which we specify the `linestyle`, `marker` and `color` of the line."
   ]
  },
  {
   "cell_type": "code",
   "execution_count": null,
   "id": "4143461f-0b1d-46ab-86a8-0dd97a062405",
   "metadata": {},
   "outputs": [],
   "source": [
    "plt.plot(annual_sales['Order Year_'], annual_sales['Sales_sum'], '--*g')\n",
    "plt.show()"
   ]
  },
  {
   "cell_type": "markdown",
   "id": "99a77348-3ff0-40c7-bbee-6cebe05350a6",
   "metadata": {},
   "source": [
    "### Other matplotlib Configurations\n",
    "\n",
    "We can add a title to the plot using the `plt.title(chart_title)` function.<br> Here, `chart_title` is a string, which we want to display as the chart title.\n",
    "\n",
    "Similarly, we can add a title to the x-axis and the y-axis using `plt.xlabel(x_axis_title)` and `plt.ylabel(y_axis_title)` respectively.\n",
    "\n",
    "To change the size of the chart, we can use the `plt.figure(figsize=(width, height))` function.\n",
    "\n",
    "We can control the tick values on either axis using the `xticks` or `yticks` function.\n",
    "\n",
    "When we specify the `label` in the `plt.plot()` function, we can use the `plt.legend()` function to display a legend in the chart."
   ]
  },
  {
   "cell_type": "code",
   "execution_count": null,
   "id": "8be03676-9533-4682-b081-9cca95019ee4",
   "metadata": {},
   "outputs": [],
   "source": [
    "plt.figure(figsize=(8, 6))\n",
    "plt.plot(annual_sales['Order Year_'], annual_sales['Sales_sum'], label='Sales')\n",
    "plt.title('Sales by Year')\n",
    "plt.xlabel('Order Year')\n",
    "plt.ylabel('Sales')\n",
    "plt.yticks(range(0, int(annual_sales['Sales_sum'].max())+1, 200000))\n",
    "plt.xticks(range(annual_sales['Order Year_'].min(),annual_sales['Order Year_'].max()+1))\n",
    "plt.legend(loc='upper left')\n",
    "plt.show()"
   ]
  },
  {
   "cell_type": "markdown",
   "id": "9863c493-e874-4cbe-aa8a-dcc91d153aa8",
   "metadata": {},
   "source": [
    "#### Profit in each month for each year"
   ]
  },
  {
   "cell_type": "code",
   "execution_count": null,
   "id": "b1a100a5-4176-4cad-9253-f69cc093d004",
   "metadata": {},
   "outputs": [],
   "source": [
    "data = orders.groupby(['Order Year', 'Order Month', 'Order Month Number']).agg({'Profit':['sum']}).reset_index()\n",
    "data.columns = data.columns.map('_'.join)\n",
    "data.sort_values(by=['Order Year_', 'Order Month Number_'], inplace=True)\n",
    "\n",
    "plt.figure(figsize=(10, 6))\n",
    "for year in data['Order Year_'].unique():\n",
    "    plt.plot(data.loc[data['Order Year_'] == year, 'Order Month_'], data.loc[data['Order Year_'] == year, 'Profit_sum'], label=year)\n",
    "plt.legend()\n",
    "plt.show()"
   ]
  },
  {
   "cell_type": "markdown",
   "id": "3b08ff8e-2355-422f-b9df-6879b677629f",
   "metadata": {},
   "source": [
    "#### Profit by Month (Discrete) Line Chart"
   ]
  },
  {
   "cell_type": "code",
   "execution_count": null,
   "id": "fc918760-3dad-4e3b-a435-4aa199f08979",
   "metadata": {},
   "outputs": [],
   "source": [
    "monthly_profit = orders.groupby(['Order Month Number', 'Order Month']).agg({'Profit':['sum']}).reset_index()\n",
    "monthly_profit.columns = monthly_profit.columns.map('_'.join)\n",
    "\n",
    "plt.figure(figsize=(8, 6))\n",
    "plt.plot(monthly_profit['Order Month_'], monthly_profit['Profit_sum'])\n",
    "plt.title('Profit by Month (Discrete)')\n",
    "plt.xlabel('Order Month')\n",
    "plt.ylabel('Profit')\n",
    "plt.show()"
   ]
  },
  {
   "cell_type": "markdown",
   "id": "82ce9193-1f21-46f2-87c3-d84eaac08a81",
   "metadata": {},
   "source": [
    "#### Profit by Month (Continuous) Line Chart"
   ]
  },
  {
   "cell_type": "code",
   "execution_count": null,
   "id": "d3488f7a-0401-485d-afc3-033545b5d114",
   "metadata": {},
   "outputs": [],
   "source": [
    "monthly_profit = orders.groupby(orders['Order Month Number'].apply(str) + '-' + orders['Order Year'].apply(str)).agg({'Profit':['sum']}).reset_index()\n",
    "monthly_profit.columns = monthly_profit.columns.map('_'.join)\n",
    "\n",
    "plt.figure(figsize=(8, 6))\n",
    "plt.plot(monthly_profit['index_'], monthly_profit['Profit_sum'])\n",
    "plt.title('Profit by Month (Continuous)')\n",
    "plt.xlabel('Order Month')\n",
    "plt.ylabel('Profit')\n",
    "plt.show()"
   ]
  },
  {
   "cell_type": "markdown",
   "id": "70ade26b-98f0-4ae4-a3f5-1ac8af5ec52c",
   "metadata": {},
   "source": [
    "### Bar plots in `matplotlib`\n",
    "\n",
    "We can create bar plots in matplotlib using the `plt.bar(x_axis, y_axis)` function."
   ]
  },
  {
   "cell_type": "markdown",
   "id": "e9edf19c-8bc7-4211-b40d-452baa15928a",
   "metadata": {},
   "source": [
    "#### Bar chart to display total ship delay in various ship modes"
   ]
  },
  {
   "cell_type": "code",
   "execution_count": null,
   "id": "3d15d39d-456f-45bf-a1f5-b4bbfda9e8c9",
   "metadata": {},
   "outputs": [],
   "source": [
    "ship_delay = orders.groupby(['Ship Mode']).agg({'Ship Delay':['sum']}).reset_index()\n",
    "ship_delay.columns = ship_delay.columns.map('_'.join)\n",
    "\n",
    "plt.figure(figsize=(8, 6))\n",
    "plt.bar(ship_delay['Ship Mode_'], ship_delay['Ship Delay_sum'])\n",
    "plt.title('Total Ship Delay in each Ship Mode')\n",
    "plt.xlabel('Ship Mode')\n",
    "plt.ylabel('Ship Delay\\n(days)')\n",
    "plt.show()"
   ]
  },
  {
   "cell_type": "markdown",
   "id": "d6e55992-5baf-468d-81be-8106fea4eb0b",
   "metadata": {},
   "source": [
    "#### Total Profit in each Sub-Category"
   ]
  },
  {
   "cell_type": "code",
   "execution_count": null,
   "id": "2273a0cf-b273-44df-b471-8fb3010b41bb",
   "metadata": {
    "scrolled": true
   },
   "outputs": [],
   "source": [
    "sc_profit = orders.groupby(['Category', 'Sub-Category']).agg({'Profit':['sum']}).reset_index()\n",
    "sc_profit.columns = sc_profit.columns.map('_'.join)\n",
    "\n",
    "plt.figure(figsize=(8, 6))\n",
    "plt.bar(sc_profit['Sub-Category_'], sc_profit['Profit_sum'])\n",
    "plt.title('Profit in each Sub-Category')\n",
    "plt.xlabel('Sub-Category')\n",
    "plt.ylabel('Profit')\n",
    "plt.show()"
   ]
  },
  {
   "cell_type": "code",
   "execution_count": null,
   "id": "30f812db-9a5f-426f-9763-c915521465c3",
   "metadata": {},
   "outputs": [],
   "source": [
    "for category in sc_profit['Category_']:\n",
    "    category_wise_data = sc_profit[sc_profit['Category_'] == category]\n",
    "    plt.bar(category_wise_data['Sub-Category_'], category_wise_data['Profit_sum'])"
   ]
  },
  {
   "cell_type": "markdown",
   "id": "5cb05ab1-3b88-4225-aff5-45280109238c",
   "metadata": {},
   "source": [
    "#### Profit of Each Segment in Each Category (Grouped Bar Chart)"
   ]
  },
  {
   "cell_type": "code",
   "execution_count": null,
   "id": "29089276-8fe2-404b-af7d-4ca90a8ad35b",
   "metadata": {
    "scrolled": true
   },
   "outputs": [],
   "source": [
    "data = orders.groupby(['Category', 'Segment']).agg({'Profit':['sum']}).reset_index()\n",
    "data.columns = data.columns.map('_'.join)\n",
    "\n",
    "data.pivot(index='Category_', columns='Segment_', values='Profit_sum').plot(kind='bar')\n",
    "plt.legend(loc='upper left', ncols=3)\n",
    "plt.show()"
   ]
  },
  {
   "cell_type": "markdown",
   "id": "3be0efff-e5bb-466c-8a3c-2842bec999b3",
   "metadata": {},
   "source": [
    "#### Orders in Each Segment and Ship Mode (stacked bar chart)"
   ]
  },
  {
   "cell_type": "code",
   "execution_count": null,
   "id": "6f1382bc-4136-495b-bb1e-42cce92a5b42",
   "metadata": {},
   "outputs": [],
   "source": [
    "data = orders.groupby(['Segment', 'Ship Mode']).agg({'Order ID':['nunique']}).reset_index()\n",
    "data.columns = data.columns.map('_'.join)\n",
    "data.pivot(columns='Ship Mode_', index='Segment_', values='Order ID_nunique').plot(kind='bar', stacked=True)\n",
    "plt.show()"
   ]
  },
  {
   "cell_type": "markdown",
   "id": "05d4e416-31b2-4c50-91e1-a176172488c2",
   "metadata": {},
   "source": [
    "### Pie charts using `matplotlib`\n",
    "\n",
    "We can create pie charts in matplotlib using `plt.pie(measure, labels=dimension, autopct)` function. Here:<br>\n",
    "- `measure`: this is the numeric value based on which each slice is sized\n",
    "- `labels`: this is the dimension based on which we name color the slices\n",
    "- `autopct`: format in which to display the percentage value of the slice"
   ]
  },
  {
   "cell_type": "code",
   "execution_count": null,
   "id": "89bc1baf-e1eb-462e-9983-e6c2ae09a4cd",
   "metadata": {},
   "outputs": [],
   "source": [
    "data = orders.groupby(['Region']).agg({'Sales':['sum']}).reset_index()\n",
    "data.columns = data.columns.map('_'.join)\n",
    "\n",
    "plt.pie(data['Sales_sum'], labels=data['Region_'], autopct='%.2f')\n",
    "plt.show()"
   ]
  },
  {
   "cell_type": "markdown",
   "id": "46738ec7-b57c-4703-982b-17e7d99ec02c",
   "metadata": {},
   "source": [
    "#### Donut Charts with `matplotlib`\n",
    "\n",
    "We can convert a pie chart into a donut chart in matplotlib by using the `wedgeprops` argument in the `plt.pie()` function. We can pass multiple customizations in the `wedgeprops` dictionary, but for a simple donut chart we pass<br>\n",
    "- `width`: the size of the center of the donut"
   ]
  },
  {
   "cell_type": "code",
   "execution_count": null,
   "id": "d9269e6e-9f65-4f28-87d6-b8bf181718f6",
   "metadata": {},
   "outputs": [],
   "source": [
    "plt.pie(data['Sales_sum'], labels=data['Region_'], wedgeprops={'width':0.3}, autopct='%.2f')\n",
    "plt.show()"
   ]
  },
  {
   "cell_type": "markdown",
   "id": "d8da9d8a-d528-433a-9d5f-69af8572877f",
   "metadata": {},
   "source": [
    "### Line and Bar chart in matplotlib"
   ]
  },
  {
   "cell_type": "markdown",
   "id": "6fa41ea1-85bf-40aa-899f-f3506d1acba3",
   "metadata": {},
   "source": [
    "#### Bar chart to display number of orders and line chart to display total profit, based on Segment in the same chart"
   ]
  },
  {
   "cell_type": "code",
   "execution_count": null,
   "id": "a6504622-cbfd-4f5d-a47a-d54dafad52dc",
   "metadata": {},
   "outputs": [],
   "source": [
    "dual_chart = orders.groupby(['Segment']).agg({'Profit':['sum'], 'Sales':['sum']}).reset_index()\n",
    "dual_chart.columns = dual_chart.columns.map('_'.join)\n",
    "dual_chart\n",
    "\n",
    "plt.bar(dual_chart['Segment_'], dual_chart['Sales_sum'])\n",
    "plt.plot(dual_chart['Segment_'], dual_chart['Profit_sum'], color='green')\n",
    "plt.show()"
   ]
  },
  {
   "cell_type": "markdown",
   "id": "26b2345a-c874-4949-9ee8-7e1a2625c85a",
   "metadata": {},
   "source": [
    "### Dual axis chart using matplotlib\n",
    "\n",
    "We can create a dual axis chart in matplotlib by using `plt.subplots()` and the `axes_object.twinx()` method. The `twinx()` is used to create a new chart axes, which replicates the x-axis of an existing chart."
   ]
  },
  {
   "cell_type": "code",
   "execution_count": null,
   "id": "3c48cb78-1adb-4e45-a8cd-1d9045986041",
   "metadata": {},
   "outputs": [],
   "source": [
    "fig, ax = plt.subplots()\n",
    "\n",
    "ax1 = ax.twinx()\n",
    "\n",
    "ax.bar(dual_chart['Segment_'], dual_chart['Sales_sum'])\n",
    "ax1.plot(dual_chart['Segment_'], dual_chart['Profit_sum'], color='yellow')"
   ]
  },
  {
   "cell_type": "markdown",
   "id": "e26ea4a7-a93d-44d0-af95-b76626d7f92d",
   "metadata": {},
   "source": [
    "### Creating a dashboard using `plt.subplots(nrows, ncols)`\n",
    "\n",
    "We can combine multiple charts to appear grouped together using this function. We simply specify the number of rows and columns we want in the \"dashboard\" and assign charts to those positions."
   ]
  },
  {
   "cell_type": "code",
   "execution_count": null,
   "id": "76cb880e-0bae-41e7-9601-1eca907da694",
   "metadata": {},
   "outputs": [],
   "source": [
    "fig, ax = plt.subplots(2, 2, figsize=(30, 20), dpi=300)\n",
    "\n",
    "line_chart = orders.groupby(['Order Year', 'Order Month', 'Order Month Number']).agg({'Profit':['sum']}).reset_index()\n",
    "line_chart.columns = line_chart.columns.map('_'.join)\n",
    "line_chart.sort_values(by=['Order Year_', 'Order Month Number_'], inplace=True)\n",
    "\n",
    "for year in line_chart['Order Year_'].unique():\n",
    "    ax[0, 0].plot(line_chart.loc[line_chart['Order Year_'] == year, 'Order Month_'], line_chart.loc[line_chart['Order Year_'] == year, 'Profit_sum'], label=year)\n",
    "\n",
    "ax[0, 0].set_title('Total Profit (Monthly) for each Year')\n",
    "ax[0, 0].legend()\n",
    "\n",
    "donut_chart = orders.groupby(['Region']).agg({'Sales':['sum']}).reset_index()\n",
    "donut_chart.columns = donut_chart.columns.map('_'.join)\n",
    "\n",
    "ax[0, 1].pie(donut_chart['Sales_sum'], labels=donut_chart['Region_'], autopct='%.2f', wedgeprops={'width':0.3})\n",
    "ax[0, 1].set_title('Total Sales by Region')\n",
    "\n",
    "bar_chart = orders.groupby(['Category', 'Segment']).agg({'Profit':['sum']}).reset_index()\n",
    "bar_chart.columns = bar_chart.columns.map('_'.join)\n",
    "bar_chart.pivot(index='Category_', columns='Segment_', values='Profit_sum').plot(kind='bar', ax=ax[1, 0])\n",
    "ax[1, 0].legend(loc='upper left', ncols=3)\n",
    "\n",
    "ax[1, 0].set_title('Total Profit for Each Segment by Category')\n",
    "\n",
    "ax[1, 1].bar(dual_chart['Segment_'], dual_chart['Sales_sum'], label='Sales')\n",
    "ax1 = ax[1, 1].twinx()\n",
    "ax1.plot(dual_chart['Segment_'], dual_chart['Profit_sum'], color='yellow', label='Profit')\n",
    "ax[1, 1].set_title('Total Profit and Sales for each Segment')\n",
    "ax1.legend()\n",
    "ax[1, 1].legend(loc=4)\n",
    "\n",
    "fig.savefig(r'E:\\dashboard.jpg')"
   ]
  }
 ],
 "metadata": {
  "kernelspec": {
   "display_name": "Python 3 (ipykernel)",
   "language": "python",
   "name": "python3"
  },
  "language_info": {
   "codemirror_mode": {
    "name": "ipython",
    "version": 3
   },
   "file_extension": ".py",
   "mimetype": "text/x-python",
   "name": "python",
   "nbconvert_exporter": "python",
   "pygments_lexer": "ipython3",
   "version": "3.12.4"
  }
 },
 "nbformat": 4,
 "nbformat_minor": 5
}
