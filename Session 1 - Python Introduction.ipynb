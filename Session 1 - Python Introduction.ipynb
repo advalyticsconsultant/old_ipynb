{
 "cells": [
  {
   "cell_type": "markdown",
   "id": "841e157d-a35e-4d2c-8c0a-f353cce6f954",
   "metadata": {},
   "source": [
    "### What is Python?\n",
    "\n",
    "Python is a programming language used to create programs to solve business requirements. Through Python, we can make programs which can\n",
    "- extract data from websites\n",
    "- download data files from websites\n",
    "- prepare data for analysis\n",
    "- create visualizations/reports\n",
    "- upload data from files onto company servers\n",
    "- create machine learning applications\n",
    "- create a comprehensive program which can do all of these things\n",
    "\n",
    "### Why use Python?\n",
    "- supported across different platforms\n",
    "- allows creating optimized solutions to our requirements without extra features\n",
    "- easier to learn than Java or C because of easier syntax\n",
    "- has a lot of open source libraries/packages/modules which contain code that we can use to develop our solution without coding a lot"
   ]
  },
  {
   "cell_type": "markdown",
   "id": "8469e526-9cdf-47fc-ad37-659f8e7f2900",
   "metadata": {},
   "source": [
    "### Using Jupyter Notebook\n",
    "Jupyter Notebook is an program which allows us to develop Python programs. It has an easy interface, making program development effortless.\n",
    "\n",
    "To write Python programs in Jupyter Notebook, we first need to start Jupyter Notebook. This can be found in the Anaconda menu.\n",
    "\n",
    "![Image](https://miro.medium.com/v2/resize:fit:1200/1*CrzFvh-ha0mkhUrA3q786A.png)\n",
    "\n",
    "After clicking on `Launch`, Jupyter Notebook will start in your default browser.\n",
    "![Image](https://d1rwhvwstyk9gu.cloudfront.net/2019/10/jupyter_home_page.png)\n",
    "\n",
    "We will now create a new folder to store the scripts we write in our sessions.\n",
    "- In this interface, click on `New` > `Folder`\n",
    "- We will then a give name to this folder<br>\n",
    "![Image](https://imagingsolution.net/wordpress/wp-content/uploads/2017/05/Jupyter-Notebook-Make-New-Program_1.png)\n",
    "<br>\n",
    "- Once the folder is created and renamed, we will double-click on it, to open the folder.\n",
    "- In the new folder, we will create a new Python notebook in Jupyter where we will write our code.\n",
    "  Click on `New` > `Python 3 (ipykernel)` or `Python 3` (under Notebooks)<br>\n",
    "![Image](https://cdn.fs.teachablecdn.com/ADNupMnWyR7kCWRvm76Laz/resize=width:1000/https://www.filepicker.io/api/file/7YXo1ZGTLiOKHJshJpWy)\n",
    "<br>\n",
    "- This will open a new tab, which is our new Jupyter Notebook, where we will write our code.<br>\n",
    "![Image](https://files.realpython.com/media/02_new_notebook.015b2f84bb60.png)\n",
    "  You can rename this notebook by clicking on `Untitled`\n",
    "![Image](https://www.earthdatascience.org/images/courses/earth-analytics/bootcamp/jupyter-interface/rename-existing-notebook.png)\n",
    "\n",
    "\n",
    "Jupyter Notebook allows us to break down our Python script into blocks. Each code block is contained in a cell.\n",
    "![Image](https://files.realpython.com/media/02_new_notebook.015b2f84bb60.png)<br>\n",
    "This allows us to write and debug our script easily.\n",
    "\n",
    "When the cell does not display a blinking cursor, it is in `Select` mode, we cannot write code in it. To write code in a selected cell, we press `Enter` on the selected cell.\n",
    "\n",
    "## Jupyter Notebook Shortcuts\n",
    "`Ctrl` + `Enter`: run selected cell<br>\n",
    "`Shift` + `Enter`: run selected cell and add a new cell below it (or go to the next cell)<br>\n",
    "`Ctrl` + `/`: commenting out selected statement\n",
    "\n",
    "Cells can be run in both `Select` mode and `Edit` mode.\n",
    "\n",
    "The follwoing shortcuts only work if the cell is in `Select` mode:<br>\n",
    "`A`: add cell above current cell<br>\n",
    "`B`: add cell below current cell<br>\n",
    "`X`: delete current cell"
   ]
  },
  {
   "cell_type": "markdown",
   "id": "2e5fd06b-9c38-4b73-b9f2-61de58fc5722",
   "metadata": {},
   "source": [
    "## Symbols in Python\n",
    "There are a lot of symbols used in Python, each of which has a name and a purpose:<br>\n",
    "|Symbol|Name|Location|Purpose|\n",
    "|---|---|---|---|\n",
    "|~|Tilde|should be next to `1` key, use `Shift`+ `key` to enter it|can be used as a not operator|\n",
    "|&|Ampersand|should be with the `7` key, use `Shift` + `7` key to enter it|used as AND operator|\n",
    "|*|Asterisk|should be with `8` key, use `Shift` + `8` key to enter it|used as multiplication operator or placeholder|\n",
    "|()|Round Brackets|should be with `9` and `0` key respectively, use `Shift` + `9`/`0` to enter it||\n",
    "|{}|Curly Brackets|should be near `Backspace` key, use `Shift` + `key` to enter it||\n",
    "|[]|Square Brackets|should be near `Backspace` key||\n",
    "|`\\|`|Pipe|should be near `Backspace` key, use `Shift`+`key`|can be used as OR operator|\n",
    "|`\\`|Backslash|should be near `Backspace` key||\n",
    "|/|Forward slash|should be near `Shift` key||\n",
    "|:|Colon|should be near `Enter` key, use `Shift`+`key`|used to start a new scope in script|\n",
    "|;|Semicolon|should be with `colon` key||\n",
    "|'|Apostrophe|should be near `Enter` key|used for strings|\n",
    "|\"|Quote|should be near `Enter` key, use `Shift`+`key` to enter|used for strings|\n",
    "|#|Hash|should be with `3` key, use `Shift`+`3` to enter|used for single line comments|"
   ]
  },
  {
   "cell_type": "markdown",
   "id": "fc6ca14c-47b0-4d9d-ad5f-0a711c4cf6ec",
   "metadata": {},
   "source": [
    "### Python Programming Rules\n",
    "1. Python is case-sensitive<br>\n",
    "   `puneet` is not the same as `PUNEET` or `Puneet` or `pUnEeT`"
   ]
  },
  {
   "cell_type": "code",
   "execution_count": 1,
   "id": "fe2cfb08-a297-4288-b784-fd936aafc4c8",
   "metadata": {},
   "outputs": [
    {
     "data": {
      "text/plain": [
       "False"
      ]
     },
     "execution_count": 1,
     "metadata": {},
     "output_type": "execute_result"
    }
   ],
   "source": [
    "'puneet' == 'PUNEET'"
   ]
  },
  {
   "cell_type": "code",
   "execution_count": 2,
   "id": "0445d74a-baf6-4936-9fe2-c5a669d8f6a8",
   "metadata": {},
   "outputs": [
    {
     "data": {
      "text/plain": [
       "False"
      ]
     },
     "execution_count": 2,
     "metadata": {},
     "output_type": "execute_result"
    }
   ],
   "source": [
    "'puneet' == 'Puneet'"
   ]
  },
  {
   "cell_type": "code",
   "execution_count": 3,
   "id": "18773efd-1be4-4cd3-af19-00d8afe93b7a",
   "metadata": {},
   "outputs": [
    {
     "ename": "NameError",
     "evalue": "name 'MyName' is not defined",
     "output_type": "error",
     "traceback": [
      "\u001b[1;31m---------------------------------------------------------------------------\u001b[0m",
      "\u001b[1;31mNameError\u001b[0m                                 Traceback (most recent call last)",
      "Cell \u001b[1;32mIn[3], line 2\u001b[0m\n\u001b[0;32m      1\u001b[0m myname \u001b[38;5;241m=\u001b[39m \u001b[38;5;124m'\u001b[39m\u001b[38;5;124mPuneet\u001b[39m\u001b[38;5;124m'\u001b[39m\n\u001b[1;32m----> 2\u001b[0m \u001b[38;5;28mprint\u001b[39m(\u001b[43mMyName\u001b[49m)\n",
      "\u001b[1;31mNameError\u001b[0m: name 'MyName' is not defined"
     ]
    }
   ],
   "source": [
    "myname = 'Puneet'\n",
    "print(MyName)"
   ]
  },
  {
   "cell_type": "markdown",
   "id": "b0eee784-5cc0-4109-9699-478fc6fa6f05",
   "metadata": {},
   "source": [
    "2. Variable names cannot start with numbers or special characters<br>\n",
    "   `1variable`, `!variable`, etc. -> invalid variable name"
   ]
  },
  {
   "cell_type": "code",
   "execution_count": 4,
   "id": "719bb460-da41-438e-9b29-80e60fdaf51a",
   "metadata": {},
   "outputs": [
    {
     "ename": "SyntaxError",
     "evalue": "invalid decimal literal (958200670.py, line 1)",
     "output_type": "error",
     "traceback": [
      "\u001b[1;36m  Cell \u001b[1;32mIn[4], line 1\u001b[1;36m\u001b[0m\n\u001b[1;33m    1name = 'Puneet'\u001b[0m\n\u001b[1;37m    ^\u001b[0m\n\u001b[1;31mSyntaxError\u001b[0m\u001b[1;31m:\u001b[0m invalid decimal literal\n"
     ]
    }
   ],
   "source": [
    "1name = 'Puneet'"
   ]
  },
  {
   "cell_type": "code",
   "execution_count": 5,
   "id": "146416b8-173a-42de-9aa6-79d81188bf78",
   "metadata": {},
   "outputs": [
    {
     "ename": "SyntaxError",
     "evalue": "invalid syntax (3903601166.py, line 1)",
     "output_type": "error",
     "traceback": [
      "\u001b[1;36m  Cell \u001b[1;32mIn[5], line 1\u001b[1;36m\u001b[0m\n\u001b[1;33m    $salary = 29000\u001b[0m\n\u001b[1;37m    ^\u001b[0m\n\u001b[1;31mSyntaxError\u001b[0m\u001b[1;31m:\u001b[0m invalid syntax\n"
     ]
    }
   ],
   "source": [
    "$salary = 29000"
   ]
  },
  {
   "cell_type": "markdown",
   "id": "a542af3d-ce1e-47d7-8338-0db893572e16",
   "metadata": {},
   "source": [
    "3. Variable names cannot contain space or special characters (except for `_` (underscore))<br>\n",
    "   `name 1`, `first name`, `name@`, etc. -> invalid variable name<br>\n",
    "   `name_1`, `first_name`, etc. -> valid variable name"
   ]
  },
  {
   "cell_type": "code",
   "execution_count": 6,
   "id": "eaf9cdaa-106a-45fa-978b-9e5d49f44d59",
   "metadata": {},
   "outputs": [
    {
     "ename": "SyntaxError",
     "evalue": "invalid syntax (2229490955.py, line 1)",
     "output_type": "error",
     "traceback": [
      "\u001b[1;36m  Cell \u001b[1;32mIn[6], line 1\u001b[1;36m\u001b[0m\n\u001b[1;33m    first name = 'Puneet'\u001b[0m\n\u001b[1;37m          ^\u001b[0m\n\u001b[1;31mSyntaxError\u001b[0m\u001b[1;31m:\u001b[0m invalid syntax\n"
     ]
    }
   ],
   "source": [
    "first name = 'Puneet'"
   ]
  },
  {
   "cell_type": "code",
   "execution_count": 7,
   "id": "b683862d-5a55-4cfc-8806-948955dfbd0b",
   "metadata": {},
   "outputs": [
    {
     "ename": "SyntaxError",
     "evalue": "cannot assign to function call here. Maybe you meant '==' instead of '='? (321148552.py, line 1)",
     "output_type": "error",
     "traceback": [
      "\u001b[1;36m  Cell \u001b[1;32mIn[7], line 1\u001b[1;36m\u001b[0m\n\u001b[1;33m    name(1) = 'Puneet'\u001b[0m\n\u001b[1;37m    ^\u001b[0m\n\u001b[1;31mSyntaxError\u001b[0m\u001b[1;31m:\u001b[0m cannot assign to function call here. Maybe you meant '==' instead of '='?\n"
     ]
    }
   ],
   "source": [
    "name(1) = 'Puneet'"
   ]
  },
  {
   "cell_type": "code",
   "execution_count": 8,
   "id": "01c914f6-8fe5-4512-aef3-7bf7cfb98ace",
   "metadata": {},
   "outputs": [],
   "source": [
    "first_name = 'Puneet'"
   ]
  },
  {
   "cell_type": "code",
   "execution_count": 9,
   "id": "f5c3aec7-9899-4422-8f34-408e49a72b77",
   "metadata": {},
   "outputs": [],
   "source": [
    "name1 = 'Puneet'"
   ]
  },
  {
   "cell_type": "markdown",
   "id": "4f166062-b3f5-42f5-b975-acdffdd702e2",
   "metadata": {},
   "source": [
    "4. Python keywords cannot be used as variable names.<br>\n",
    "   These keywords are: `False`, `None`, `True`, `and`, `as`, `assert`, `async`, `await`, `break`, `class`, `continue`, `def`, `del`, `elif`, `else`, `except`, `finally`, `for`, `from`, `global`, `if`, `import`, `in`, `is`, `lambda`, `nonlocal`, `not`, `or`, `pass`, `raise`, `return`, `try`, `while`, `with`, `yield`<br>\n",
    "   When you type a keyword in Jupyter Notebook (or any other IDE), it is highlighted."
   ]
  },
  {
   "cell_type": "code",
   "execution_count": 10,
   "id": "4789b5e0-20e3-45d9-974e-40b6549a2159",
   "metadata": {},
   "outputs": [
    {
     "ename": "SyntaxError",
     "evalue": "invalid syntax (3594483855.py, line 1)",
     "output_type": "error",
     "traceback": [
      "\u001b[1;36m  Cell \u001b[1;32mIn[10], line 1\u001b[1;36m\u001b[0m\n\u001b[1;33m    def = 10\u001b[0m\n\u001b[1;37m        ^\u001b[0m\n\u001b[1;31mSyntaxError\u001b[0m\u001b[1;31m:\u001b[0m invalid syntax\n"
     ]
    }
   ],
   "source": [
    "def = 10"
   ]
  },
  {
   "cell_type": "markdown",
   "id": "fd599c14-b9f0-4fef-9e87-5d32caad69a4",
   "metadata": {},
   "source": [
    "5. spaces don't make a lot of difference, but should be used appropriately to make the code readable<br>\n",
    "   We can write an entire Python script without using multiple lines, but using semi-colon to separate statements<br>"
   ]
  },
  {
   "cell_type": "code",
   "execution_count": 11,
   "id": "20a120c6-ef16-4568-9b95-e71580b5c852",
   "metadata": {},
   "outputs": [
    {
     "name": "stdout",
     "output_type": "stream",
     "text": [
      "hello\n",
      "world\n"
     ]
    }
   ],
   "source": [
    "print('hello');           print('world')\n",
    "# this makes the code difficult to read"
   ]
  },
  {
   "cell_type": "code",
   "execution_count": 12,
   "id": "d581280e-6050-41dd-a247-f2509af14c79",
   "metadata": {},
   "outputs": [
    {
     "name": "stdout",
     "output_type": "stream",
     "text": [
      "hello\n",
      "world\n"
     ]
    }
   ],
   "source": [
    "# we should write code properly\n",
    "print('hello')\n",
    "print('world')"
   ]
  },
  {
   "cell_type": "markdown",
   "id": "b8217dbd-f7ef-4b40-a091-5e61b7b8007b",
   "metadata": {},
   "source": [
    "6. `''` and `\"\"` are interchangeable, but should not be mixed<br>\n",
    "   `'Puneet'` and `\"Puneet\"` - valid<br>\n",
    "   `'Puneet\"` - invalid\n",
    "\n",
    "To make things simple, we use either one of apostrophe or double-quotes.\n",
    "- It is easier to use apostrophes since we don't have to press `Shift`, for double-quotes we need to press `Shift`\n",
    "- Double quotes are useful if our string contains apostrophe in it."
   ]
  },
  {
   "cell_type": "code",
   "execution_count": 13,
   "id": "88e603c7-133c-4169-9aba-813fa7ab2f7b",
   "metadata": {},
   "outputs": [
    {
     "ename": "SyntaxError",
     "evalue": "unterminated string literal (detected at line 2) (2502832355.py, line 2)",
     "output_type": "error",
     "traceback": [
      "\u001b[1;36m  Cell \u001b[1;32mIn[13], line 2\u001b[1;36m\u001b[0m\n\u001b[1;33m    name = 'Jas O'Carroll'\u001b[0m\n\u001b[1;37m                         ^\u001b[0m\n\u001b[1;31mSyntaxError\u001b[0m\u001b[1;31m:\u001b[0m unterminated string literal (detected at line 2)\n"
     ]
    }
   ],
   "source": [
    "# for example, in Superstore orders table, there is a customer whose name is Jas O'Carroll\n",
    "name = 'Jas O'Carroll'"
   ]
  },
  {
   "cell_type": "code",
   "execution_count": 14,
   "id": "63531b1a-0bfd-4151-9491-d5d2d0fc1cf2",
   "metadata": {},
   "outputs": [],
   "source": [
    "# specifying this customer's name in single quotes gives an error because python thinks that the string ends after 'O'\n",
    "# we can instead use double-qoutes here\n",
    "name = \"Jas O'Carroll\""
   ]
  },
  {
   "cell_type": "code",
   "execution_count": 15,
   "id": "2f59b00f-910c-449a-8b43-259249bafe6e",
   "metadata": {},
   "outputs": [],
   "source": [
    "# we can also use a backslash before the apostrophe in the name to tell Python to ignore this apostrophe\n",
    "# this can be a bit inconvenient\n",
    "name = 'Jas O\\'Carroll' "
   ]
  },
  {
   "cell_type": "markdown",
   "id": "fbbe86e3-2d61-41ea-a08a-afba17bd164b",
   "metadata": {},
   "source": [
    "7. Variable names should be\n",
    "   - easy to understand and use\n",
    "   - not too long"
   ]
  },
  {
   "cell_type": "code",
   "execution_count": 16,
   "id": "72fdb18d-fd20-4454-8c20-ad30a165dd0a",
   "metadata": {},
   "outputs": [],
   "source": [
    "name = 'Puneet'\n",
    "# this is a valid variable name, but can be confusing in a script because name can mean full name or something else"
   ]
  },
  {
   "cell_type": "code",
   "execution_count": 17,
   "id": "532715e2-98bd-4eef-9071-712824565892",
   "metadata": {},
   "outputs": [],
   "source": [
    "first_name_of_superstore_customer = 'Puneet'\n",
    "# this is also a valid variable name but can be too long and confusing to use in a script"
   ]
  },
  {
   "cell_type": "code",
   "execution_count": 18,
   "id": "f8aff62d-d03b-4b88-99fc-af5a9bf29d46",
   "metadata": {},
   "outputs": [],
   "source": [
    "f_name = 'Puneet'\n",
    "# this is a valid variable name, but can be confusing in a script"
   ]
  },
  {
   "cell_type": "code",
   "execution_count": 19,
   "id": "448fe965-95e6-4c81-8fd0-2854ac9eaed8",
   "metadata": {},
   "outputs": [],
   "source": [
    "name_1 = 'Puneet'\n",
    "# this is valid variable name, but can be confusing in a script"
   ]
  },
  {
   "cell_type": "code",
   "execution_count": 20,
   "id": "c13ad70d-3cc3-40f8-af62-e725e46d62b2",
   "metadata": {},
   "outputs": [],
   "source": [
    "first_name = 'Puneet'\n",
    "# this is an example of a good variable name because first name would generally mean the first name of a person and\n",
    "# it is also not very long or confusing"
   ]
  },
  {
   "cell_type": "code",
   "execution_count": 21,
   "id": "2771d80b-3701-45b2-92fa-dec65f7f67a8",
   "metadata": {},
   "outputs": [
    {
     "data": {
      "text/plain": [
       "2"
      ]
     },
     "execution_count": 21,
     "metadata": {},
     "output_type": "execute_result"
    }
   ],
   "source": [
    "# Python supports polymorphism which simply means that one thing can do multiple things\n",
    "# for example, + over here can add to numbers\n",
    "var_1 = 1 + 1\n",
    "var_1"
   ]
  },
  {
   "cell_type": "code",
   "execution_count": 22,
   "id": "6e1d3284-3866-425f-8fc6-4f49fdc208af",
   "metadata": {},
   "outputs": [
    {
     "data": {
      "text/plain": [
       "'Puneet Kumar'"
      ]
     },
     "execution_count": 22,
     "metadata": {},
     "output_type": "execute_result"
    }
   ],
   "source": [
    "# but + can also be used for concatenating strings\n",
    "first_name = 'Puneet'\n",
    "last_name = 'Kumar'\n",
    "full_name = first_name + ' ' + last_name\n",
    "full_name"
   ]
  },
  {
   "cell_type": "code",
   "execution_count": 31,
   "id": "a6cd9133-5813-4899-8691-8dc9376a9969",
   "metadata": {},
   "outputs": [
    {
     "ename": "TypeError",
     "evalue": "'str' object is not callable",
     "output_type": "error",
     "traceback": [
      "\u001b[1;31m---------------------------------------------------------------------------\u001b[0m",
      "\u001b[1;31mTypeError\u001b[0m                                 Traceback (most recent call last)",
      "Cell \u001b[1;32mIn[31], line 3\u001b[0m\n\u001b[0;32m      1\u001b[0m \u001b[38;5;66;03m# but polymorphism can also lead to errors\u001b[39;00m\n\u001b[0;32m      2\u001b[0m \u001b[38;5;66;03m# for example,\u001b[39;00m\n\u001b[1;32m----> 3\u001b[0m first_name \u001b[38;5;241m=\u001b[39m \u001b[38;5;28;43minput\u001b[39;49m\u001b[43m(\u001b[49m\u001b[38;5;124;43m'\u001b[39;49m\u001b[38;5;124;43mEnter first name: \u001b[39;49m\u001b[38;5;124;43m'\u001b[39;49m\u001b[43m)\u001b[49m\n",
      "\u001b[1;31mTypeError\u001b[0m: 'str' object is not callable"
     ]
    }
   ],
   "source": [
    "# but polymorphism can also lead to errors\n",
    "# for example,\n",
    "first_name = input('Enter first name: ')"
   ]
  },
  {
   "cell_type": "code",
   "execution_count": 32,
   "id": "4f9fc33c-3d04-4ca4-8a8c-14eeee43843e",
   "metadata": {},
   "outputs": [
    {
     "name": "stdout",
     "output_type": "stream",
     "text": [
      "\n"
     ]
    }
   ],
   "source": [
    "# in the above script, input() is used as a function to get input from a user\n",
    "print(first_name)"
   ]
  },
  {
   "cell_type": "code",
   "execution_count": 33,
   "id": "7a200287-94a3-43f9-8cc1-47f157a057e1",
   "metadata": {},
   "outputs": [
    {
     "name": "stdout",
     "output_type": "stream",
     "text": [
      "Puneet Kumar\n"
     ]
    }
   ],
   "source": [
    "# but we can also create a variable named input\n",
    "input = 'Puneet Kumar'\n",
    "print(input)"
   ]
  },
  {
   "cell_type": "code",
   "execution_count": 34,
   "id": "9732c282-93f6-4481-9890-232db3ca15c8",
   "metadata": {},
   "outputs": [
    {
     "ename": "TypeError",
     "evalue": "'str' object is not callable",
     "output_type": "error",
     "traceback": [
      "\u001b[1;31m---------------------------------------------------------------------------\u001b[0m",
      "\u001b[1;31mTypeError\u001b[0m                                 Traceback (most recent call last)",
      "Cell \u001b[1;32mIn[34], line 2\u001b[0m\n\u001b[0;32m      1\u001b[0m \u001b[38;5;66;03m# this will make Python forget that input is a function in this script\u001b[39;00m\n\u001b[1;32m----> 2\u001b[0m last_name \u001b[38;5;241m=\u001b[39m \u001b[38;5;28;43minput\u001b[39;49m\u001b[43m(\u001b[49m\u001b[38;5;124;43m'\u001b[39;49m\u001b[38;5;124;43mEnter last name: \u001b[39;49m\u001b[38;5;124;43m'\u001b[39;49m\u001b[43m)\u001b[49m\n",
      "\u001b[1;31mTypeError\u001b[0m: 'str' object is not callable"
     ]
    }
   ],
   "source": [
    "# this will make Python forget that input is a function in this script\n",
    "last_name = input('Enter last name: ')"
   ]
  },
  {
   "cell_type": "markdown",
   "id": "ad20f128-05a1-45be-aff3-f92ab84f01c0",
   "metadata": {},
   "source": [
    "### Choose an appropriate, easy to understand, write and use variable name."
   ]
  },
  {
   "cell_type": "markdown",
   "id": "f32c62dd-5df5-49fc-b944-89b6bab978f7",
   "metadata": {},
   "source": [
    "## Variables\n",
    "Variables are used in a program to use dynamic literal values without modifying the code a lot."
   ]
  },
  {
   "cell_type": "code",
   "execution_count": 35,
   "id": "f7193d26-17ff-4cb9-aea7-233f6231f453",
   "metadata": {},
   "outputs": [
    {
     "name": "stdout",
     "output_type": "stream",
     "text": [
      "6 is even\n"
     ]
    }
   ],
   "source": [
    "# this code checks whether a number is even or odd\n",
    "if 6 % 2 == 0:\n",
    "    print('6 is even')\n",
    "elif 6 % 2 != 0:\n",
    "    print('6 is odd')"
   ]
  },
  {
   "cell_type": "markdown",
   "id": "ba28d1dc-4477-4570-b643-e2a3ab7e5478",
   "metadata": {},
   "source": [
    "### This code works well for the number 6, because it is hard-coded (the actual value to be used is written in the code). If we wanted to check another number, we will have to manually replace 6 wherever it is written."
   ]
  },
  {
   "cell_type": "code",
   "execution_count": 36,
   "id": "27b4c39f-e9a9-498b-9415-df6eeac1793e",
   "metadata": {},
   "outputs": [
    {
     "name": "stdout",
     "output_type": "stream",
     "text": [
      "9 is odd\n"
     ]
    }
   ],
   "source": [
    "# this code checks whether a number is even or odd\n",
    "if 9 % 2 == 0:\n",
    "    print('9 is even')\n",
    "elif 9 % 2 != 0:\n",
    "    print('9 is odd')"
   ]
  },
  {
   "cell_type": "markdown",
   "id": "75d1c596-0bc1-41ea-8d32-ffc8c2331b08",
   "metadata": {},
   "source": [
    "### The problem with this is not only that we need to manually replace the number in the code, but also, in fully developed programs, the code is not modified at all. The code remains the same, but the values used in the code change. To use dynamic values in the code, we use variables.\n",
    "\n",
    "### Variable is simply an identifier (a word) which stores a value in it, that can be used in the code. In Python, all variables are objects. Objects are a type of programming construct which store information about a value, along with the value.\n",
    "\n",
    "### For example, the name of a person is a variable. But when you hear a person's name, your mind remembers that person along with a lot of other details (like your last conversation, where you met them, their age, gender, qualifications, etc.). Similarly in Python, when we create a variable, we not only assign values to it, but Python also stores other details about that value. These details are called attributes of the object."
   ]
  },
  {
   "cell_type": "code",
   "execution_count": 37,
   "id": "4d92c58a-c174-439c-af40-de1e5fde95f1",
   "metadata": {},
   "outputs": [],
   "source": [
    "# modifying the above code by adding a variable to it\n",
    "age = 13"
   ]
  },
  {
   "cell_type": "code",
   "execution_count": 38,
   "id": "523ab414-f152-4cf6-a1ba-e901f56b342b",
   "metadata": {},
   "outputs": [
    {
     "name": "stdout",
     "output_type": "stream",
     "text": [
      "Odd\n"
     ]
    }
   ],
   "source": [
    "if age % 2 == 0:\n",
    "    print('Even')\n",
    "elif age % 2 != 0:\n",
    "    print('Odd')"
   ]
  },
  {
   "cell_type": "code",
   "execution_count": 39,
   "id": "0ae99560-1357-4a68-b6eb-b2db18c93518",
   "metadata": {},
   "outputs": [
    {
     "name": "stdout",
     "output_type": "stream",
     "text": [
      "age is odd\n"
     ]
    }
   ],
   "source": [
    "# let's try to print the same message in this code as our previous code\n",
    "if age % 2 == 0:\n",
    "    print('age is even')\n",
    "elif age % 2 != 0:\n",
    "    print('age is odd')"
   ]
  },
  {
   "cell_type": "markdown",
   "id": "7dffa061-d67a-4d58-adaf-f7e5e8f16c7b",
   "metadata": {},
   "source": [
    "### We want to display the the value of age instead of the name of the variable. But when we write anything between apostrophes/quotes, Python considers it as a string. There are multiple ways to insert the value of a variable into a string. The simplest way to do it is using `f-strings` (formatted strings)."
   ]
  },
  {
   "cell_type": "code",
   "execution_count": 40,
   "id": "ec7eee4f-9910-4ea2-ac7e-0646084a7a40",
   "metadata": {},
   "outputs": [
    {
     "name": "stdout",
     "output_type": "stream",
     "text": [
      "My name is name.\n"
     ]
    }
   ],
   "source": [
    "# f-string is a feature in Python which allows inserting the value of a variable into a string, while using the variable name.\n",
    "# SYNTAX:\n",
    "# f'string part {variable} string part'\n",
    "name = 'Puneet'\n",
    "print('My name is name.')"
   ]
  },
  {
   "cell_type": "code",
   "execution_count": 41,
   "id": "eda3a014-71b8-4a70-ba5e-67e3f033e630",
   "metadata": {},
   "outputs": [
    {
     "name": "stdout",
     "output_type": "stream",
     "text": [
      "My name is Puneet.\n"
     ]
    }
   ],
   "source": [
    "print(f'My name is {name}.')"
   ]
  },
  {
   "cell_type": "code",
   "execution_count": 42,
   "id": "a4a60925-fc76-4985-9f29-114cedb7700c",
   "metadata": {},
   "outputs": [
    {
     "name": "stdout",
     "output_type": "stream",
     "text": [
      "13 is odd\n"
     ]
    }
   ],
   "source": [
    "if age % 2 == 0:\n",
    "    print(f'{age} is even')\n",
    "elif age % 2 != 0:\n",
    "    print(f'{age} is odd')"
   ]
  },
  {
   "cell_type": "markdown",
   "id": "14fbb667-e9ef-49bf-88a3-59417c6232e8",
   "metadata": {},
   "source": [
    "### Let's try to understand this program.\n",
    "```\n",
    "age = 9\n",
    "if age % 2 == 0:\n",
    "    print(f'{age} is even')\n",
    "elif age % 2 != 0:\n",
    "    print(f'{age} is odd')\n",
    "```\n",
    "\n",
    "```\n",
    "age = 9\n",
    "```\n",
    "\n",
    "### In this statement, we are assigning the literal value `9` to the variable `age`. Before using a variable, we need to define it. Here, we are using the simple assignment operator `=` to assign the value `9` to variable `age`.\n",
    "\n",
    "```\n",
    "if age % 2 == 0:\n",
    "```\n",
    "\n",
    "### In this statement, we are using a conditional statement construct. In Python, conditional statements start with the keyword `if`. We are telling Python, to test the value of `age`. The test is whether `age` is divisible by `2` or not. This test is done using two operators:\n",
    "#### 1. an arithmetic (mathematical) operator, `%` (`modulus` or `mod`)<br>2. a comparison (relational) operator, `==` (`equality`)\n",
    "\n",
    "### The test is simply that if the remainder of `age` when divided by `2` is `0`, then print that the value is even.<br>Notice how we have ended this statement with a `:`; this tells Python to run the code after this `:` only if the test passes. If the test fails, don't run the code after `:`.\n",
    "\n",
    "```\n",
    "    print(f'{age} is even')\n",
    "```\n",
    "\n",
    "### This statement is simply an f-string which prints the value of age with the string '` is even`'.<br>Notice how there is some space before `print`. This space tells Python that the code should only run if the test before this statement passes. This is called an `indented block`. With conditional statements, indentation is very important. Any code that needs to be run only if the above condition is true, should belong to the same indentation.\n",
    "\n",
    "```\n",
    "elif age % 2 != 0:\n",
    "```\n",
    "\n",
    "### This statement is specifying our next test to Python. The test is to check whether the remainder of `age` when divided by `2` is not zero. Here we are using a new comparison operator: `!=` (not equal to). When we want to specify multiple tests/criteria in conditional statements, we start the structure with an `if`, and the remaining criteria are specified using `elif`. This statement is only run if the criteria above it fails. Notice how there is no indentation before `elif`. This is because the condition we want to check should be run if the condition above this statement fails. Here also we are using `:` to specify the start of a block of code, which should be run only when this criteria passes.\n",
    "\n",
    "```\n",
    "    print(f'{age} is odd')\n",
    "```\n",
    "\n",
    "### Similar to the age is even statement, this statement has an indentation (meaning that it belongs the `elif` block). Instead of printing 'age is even', this statement prints 'age is odd'.\n",
    "\n",
    "\n"
   ]
  },
  {
   "cell_type": "markdown",
   "id": "789e284e-2468-4e3a-b45f-0bef10e76d47",
   "metadata": {},
   "source": [
    "## Operators\n",
    "There are many types of operators in Python, which are used for different reasons. They are categorised based on some common application.\n",
    "\n",
    "### Arithmetic/Mathematical Operators\n",
    "These are the group of operators which perform mathematical operations.\n",
    "\n",
    "| Symbol | Operation |\n",
    "| --- | --- |\n",
    "| + | addition |\n",
    "| - | subtraction |\n",
    "| * | multiplication |\n",
    "| / | division |\n",
    "| % | modulus/remainder |\n",
    "| // | integer division |\n",
    "| ** | exponentiation (raised to the power) |\n",
    "\n",
    "### Comparison/Relational Operators\n",
    "These are the group of operators which compare two values (compares LHS to RHS).\n",
    "\n",
    "| Symbol | Operation |\n",
    "| --- | --- |\n",
    "| > | greater than |\n",
    "| >= | greater than or equal to |\n",
    "| < | less than |\n",
    "| <= | less than or equal to |\n",
    "| == | equal to |\n",
    "| != | not equal to |\n",
    "\n",
    "#### Notice how the operator for `equal to` is `==` and not `=`. This is because `=` is an assignment operator.\n",
    "\n",
    "### Assignment Operators\n",
    "These are the group of operators which perform mathematical operations to the variable on the LHS and assign it the new value.\n",
    "\n",
    "| Symbol | Operation | Usage | Same as Writing |\n",
    "| --- | --- | --- | --- |\n",
    "| = | assigns the value on the RHS to the variable in LHS |||\n",
    "| += | addition; add value to the variable | a += n | a = a + n |\n",
    "| -= | subtraction; subtract value from the variable | a -= n | a = a - n |\n",
    "| *= | multiplication; multiply the variable | a *= n | a = a * n |\n",
    "| /= | division; divide the variable | a /= n | a = a / n |\n",
    "| %= | modulus/remainder; assign the remainder of the value | a %= n | a = a % n |\n",
    "| //= | integer division; assign the quotient of integer division | a //= n | a = a // n |\n",
    "| **= | exponentiation (raised to the power) | a **= n | a = a ** n |\n",
    "\n",
    "### Logical Operators\n",
    "These are the group of operators which perform a logical operation on the operands.\n",
    "\n",
    "| Keyword | Meaning |\n",
    "| --- | --- |\n",
    "| and | both LHS and RHS must be true (for example, LHS = 1, RHS = 1 $\\implies$ True, but LHS = 2 and RHS = 1 $\\implies$ False|\n",
    "| or | either one or both the sides must be true, LHS = (2 > 3) and RHS = (4 > 1) $\\implies$ LHS = `False` and RHS = `True`, so `LHS or RHS` will be true|\n",
    "| not | LHS is not the same as RHS; for example, 'p' not in 'Kumar' will give `True` |\n",
    "\n",
    "AND\n",
    "\n",
    "| LHS | RHS | Result |\n",
    "| --- | --- | --- |\n",
    "| False | False | False |\n",
    "| False | True | False |\n",
    "| True | False | False |\n",
    "| True | True | True |\n",
    "\n",
    "OR\n",
    "\n",
    "| LHS | RHS | Result |\n",
    "| --- | --- | --- |\n",
    "| False | False | False |\n",
    "| False | True | True |\n",
    "| True | False | True |\n",
    "| True | True | True |\n",
    "\n",
    "NOT\n",
    "\n",
    "| Operand | Result |\n",
    "| --- | --- |\n",
    "| False | True |\n",
    "| True | False |\n"
   ]
  },
  {
   "cell_type": "markdown",
   "id": "938757b8-d0bb-4a7e-9965-79dd662db16c",
   "metadata": {},
   "source": [
    "## Functions and Methods\n",
    "A function is a group of statements, which can be used multiple times in a script without having to write the entire code (wrapped in the function) again and again. This makes the code easier to use and read.\n",
    "- Python contains a lot of predefined functions, such as: `print()`, `type()`, `input()`, `len()` etc.\n",
    "- if there is some code that we want to use again and again in our script, we can wrap those statements in a user-defined function\n",
    "\n",
    "Methods are similar to functions, but they are only defined for a specific object. Functions are general-purpose and can be used with any type of object, methods cannot be used with every object because they are not defined for every object."
   ]
  },
  {
   "cell_type": "code",
   "execution_count": 43,
   "id": "70ca2b44-6a49-440c-9d03-27eee7f93c3e",
   "metadata": {},
   "outputs": [],
   "source": [
    "full_name = 'Puneet Kumar'\n",
    "age = 28"
   ]
  },
  {
   "cell_type": "code",
   "execution_count": 44,
   "id": "55ec5289-8f24-48e6-9f12-e467c8c334ae",
   "metadata": {},
   "outputs": [
    {
     "data": {
      "text/plain": [
       "str"
      ]
     },
     "execution_count": 44,
     "metadata": {},
     "output_type": "execute_result"
    }
   ],
   "source": [
    "type(full_name)"
   ]
  },
  {
   "cell_type": "code",
   "execution_count": 45,
   "id": "a19e9705-7bf8-4cf4-883d-6ae02b302c2c",
   "metadata": {},
   "outputs": [
    {
     "data": {
      "text/plain": [
       "int"
      ]
     },
     "execution_count": 45,
     "metadata": {},
     "output_type": "execute_result"
    }
   ],
   "source": [
    "type(age)"
   ]
  },
  {
   "cell_type": "code",
   "execution_count": 46,
   "id": "a231c6e4-7fbc-4a3a-8863-98ad2e5724d6",
   "metadata": {},
   "outputs": [
    {
     "name": "stdout",
     "output_type": "stream",
     "text": [
      "Puneet Kumar\n"
     ]
    }
   ],
   "source": [
    "print(full_name)"
   ]
  },
  {
   "cell_type": "code",
   "execution_count": 47,
   "id": "0c3312d8-d721-487d-8921-2e155761f9a2",
   "metadata": {},
   "outputs": [
    {
     "name": "stdout",
     "output_type": "stream",
     "text": [
      "28\n"
     ]
    }
   ],
   "source": [
    "print(age)"
   ]
  },
  {
   "cell_type": "code",
   "execution_count": 48,
   "id": "1d5acf66-c1b3-4d1c-85a7-652e2bf507d3",
   "metadata": {},
   "outputs": [
    {
     "name": "stdout",
     "output_type": "stream",
     "text": [
      "Puneet Kumar 28\n"
     ]
    }
   ],
   "source": [
    "print(full_name, age)"
   ]
  },
  {
   "cell_type": "code",
   "execution_count": 49,
   "id": "68bd138a-68c2-471d-8881-d1316192c0bf",
   "metadata": {},
   "outputs": [
    {
     "ename": "TypeError",
     "evalue": "type() takes 1 or 3 arguments",
     "output_type": "error",
     "traceback": [
      "\u001b[1;31m---------------------------------------------------------------------------\u001b[0m",
      "\u001b[1;31mTypeError\u001b[0m                                 Traceback (most recent call last)",
      "Cell \u001b[1;32mIn[49], line 1\u001b[0m\n\u001b[1;32m----> 1\u001b[0m \u001b[38;5;28;43mtype\u001b[39;49m\u001b[43m(\u001b[49m\u001b[43mfull_name\u001b[49m\u001b[43m,\u001b[49m\u001b[43m \u001b[49m\u001b[43mage\u001b[49m\u001b[43m)\u001b[49m\n",
      "\u001b[1;31mTypeError\u001b[0m: type() takes 1 or 3 arguments"
     ]
    }
   ],
   "source": [
    "type(full_name, age)"
   ]
  },
  {
   "cell_type": "code",
   "execution_count": 50,
   "id": "eddbb617-615d-4b4f-8f8b-fdab13c45286",
   "metadata": {},
   "outputs": [
    {
     "data": {
      "text/plain": [
       "'PUNEET KUMAR'"
      ]
     },
     "execution_count": 50,
     "metadata": {},
     "output_type": "execute_result"
    }
   ],
   "source": [
    "full_name.upper()"
   ]
  },
  {
   "cell_type": "code",
   "execution_count": 51,
   "id": "767b94a4-2e55-4b3d-a840-3f348f0e98bf",
   "metadata": {},
   "outputs": [
    {
     "data": {
      "text/plain": [
       "True"
      ]
     },
     "execution_count": 51,
     "metadata": {},
     "output_type": "execute_result"
    }
   ],
   "source": [
    "age.is_integer()"
   ]
  },
  {
   "cell_type": "code",
   "execution_count": 52,
   "id": "9edd8c62-a447-4144-8d81-b98734998c8b",
   "metadata": {},
   "outputs": [
    {
     "data": {
      "text/plain": [
       "['Puneet', 'Kumar']"
      ]
     },
     "execution_count": 52,
     "metadata": {},
     "output_type": "execute_result"
    }
   ],
   "source": [
    "full_name.split(' ')"
   ]
  },
  {
   "cell_type": "code",
   "execution_count": 53,
   "id": "58d6cc71-9f16-4895-a500-98bfc95e1fdb",
   "metadata": {},
   "outputs": [
    {
     "data": {
      "text/plain": [
       "list"
      ]
     },
     "execution_count": 53,
     "metadata": {},
     "output_type": "execute_result"
    }
   ],
   "source": [
    "type(full_name.split(' '))"
   ]
  },
  {
   "cell_type": "code",
   "execution_count": 54,
   "id": "71fbea54-5be0-4e79-bc1a-17533493b747",
   "metadata": {},
   "outputs": [],
   "source": [
    "num_1 = 3"
   ]
  },
  {
   "cell_type": "code",
   "execution_count": 55,
   "id": "749bed8e-4bf4-45fe-bcea-4b294de8f24e",
   "metadata": {},
   "outputs": [],
   "source": [
    "data_type_num_1 = type(num_1)"
   ]
  },
  {
   "cell_type": "code",
   "execution_count": 56,
   "id": "2202e5ac-137f-4e73-ab60-2d4c60c7d9f4",
   "metadata": {},
   "outputs": [
    {
     "data": {
      "text/plain": [
       "int"
      ]
     },
     "execution_count": 56,
     "metadata": {},
     "output_type": "execute_result"
    }
   ],
   "source": [
    "data_type_num_1"
   ]
  },
  {
   "cell_type": "code",
   "execution_count": 57,
   "id": "fbe84c9d-2cdc-48c3-a743-a2ee88ac811d",
   "metadata": {},
   "outputs": [
    {
     "name": "stdout",
     "output_type": "stream",
     "text": [
      "3\n"
     ]
    }
   ],
   "source": [
    "print_num_1 = print(num_1)"
   ]
  },
  {
   "cell_type": "code",
   "execution_count": 58,
   "id": "cb0f31b6-3203-4a9f-afd5-b4c28944b3be",
   "metadata": {},
   "outputs": [],
   "source": [
    "print_num_1"
   ]
  },
  {
   "cell_type": "code",
   "execution_count": 59,
   "id": "1c33f15f-106e-4e14-a84f-613605a79702",
   "metadata": {},
   "outputs": [
    {
     "data": {
      "text/plain": [
       "type"
      ]
     },
     "execution_count": 59,
     "metadata": {},
     "output_type": "execute_result"
    }
   ],
   "source": [
    "type(data_type_num_1)"
   ]
  },
  {
   "cell_type": "code",
   "execution_count": 60,
   "id": "3c2e1fa7-b730-45ea-b8c7-e71a74896053",
   "metadata": {},
   "outputs": [
    {
     "data": {
      "text/plain": [
       "NoneType"
      ]
     },
     "execution_count": 60,
     "metadata": {},
     "output_type": "execute_result"
    }
   ],
   "source": [
    "type(print_num_1)"
   ]
  },
  {
   "cell_type": "markdown",
   "id": "88d34d44-6565-4a3d-be86-b74b32782bd7",
   "metadata": {},
   "source": [
    "### Syntax for creating functions\n",
    "```\n",
    "def function_name():\n",
    "    function body\n",
    "``` "
   ]
  },
  {
   "cell_type": "code",
   "execution_count": 61,
   "id": "3c4faf27-aada-4a18-914a-039203db89f3",
   "metadata": {},
   "outputs": [],
   "source": [
    "def user_greeting():\n",
    "    user_name = input('Enter your full name: ')\n",
    "    print(f'Hi {user_name}!')"
   ]
  },
  {
   "cell_type": "code",
   "execution_count": 62,
   "id": "9fef32db-bad3-4218-8ba8-45906dbd1dbd",
   "metadata": {},
   "outputs": [
    {
     "ename": "TypeError",
     "evalue": "'str' object is not callable",
     "output_type": "error",
     "traceback": [
      "\u001b[1;31m---------------------------------------------------------------------------\u001b[0m",
      "\u001b[1;31mTypeError\u001b[0m                                 Traceback (most recent call last)",
      "Cell \u001b[1;32mIn[62], line 1\u001b[0m\n\u001b[1;32m----> 1\u001b[0m \u001b[43muser_greeting\u001b[49m\u001b[43m(\u001b[49m\u001b[43m)\u001b[49m\n",
      "Cell \u001b[1;32mIn[61], line 2\u001b[0m, in \u001b[0;36muser_greeting\u001b[1;34m()\u001b[0m\n\u001b[0;32m      1\u001b[0m \u001b[38;5;28;01mdef\u001b[39;00m \u001b[38;5;21muser_greeting\u001b[39m():\n\u001b[1;32m----> 2\u001b[0m     user_name \u001b[38;5;241m=\u001b[39m \u001b[38;5;28;43minput\u001b[39;49m\u001b[43m(\u001b[49m\u001b[38;5;124;43m'\u001b[39;49m\u001b[38;5;124;43mEnter your full name: \u001b[39;49m\u001b[38;5;124;43m'\u001b[39;49m\u001b[43m)\u001b[49m\n\u001b[0;32m      3\u001b[0m     \u001b[38;5;28mprint\u001b[39m(\u001b[38;5;124mf\u001b[39m\u001b[38;5;124m'\u001b[39m\u001b[38;5;124mHi \u001b[39m\u001b[38;5;132;01m{\u001b[39;00muser_name\u001b[38;5;132;01m}\u001b[39;00m\u001b[38;5;124m!\u001b[39m\u001b[38;5;124m'\u001b[39m)\n",
      "\u001b[1;31mTypeError\u001b[0m: 'str' object is not callable"
     ]
    }
   ],
   "source": [
    "user_greeting()"
   ]
  },
  {
   "cell_type": "code",
   "execution_count": 63,
   "id": "1148b101-a955-4311-a509-6c1dd36685ee",
   "metadata": {},
   "outputs": [
    {
     "ename": "TypeError",
     "evalue": "'str' object is not callable",
     "output_type": "error",
     "traceback": [
      "\u001b[1;31m---------------------------------------------------------------------------\u001b[0m",
      "\u001b[1;31mTypeError\u001b[0m                                 Traceback (most recent call last)",
      "Cell \u001b[1;32mIn[63], line 1\u001b[0m\n\u001b[1;32m----> 1\u001b[0m \u001b[38;5;28mtype\u001b[39m(\u001b[43muser_greeting\u001b[49m\u001b[43m(\u001b[49m\u001b[43m)\u001b[49m)\n",
      "Cell \u001b[1;32mIn[61], line 2\u001b[0m, in \u001b[0;36muser_greeting\u001b[1;34m()\u001b[0m\n\u001b[0;32m      1\u001b[0m \u001b[38;5;28;01mdef\u001b[39;00m \u001b[38;5;21muser_greeting\u001b[39m():\n\u001b[1;32m----> 2\u001b[0m     user_name \u001b[38;5;241m=\u001b[39m \u001b[38;5;28;43minput\u001b[39;49m\u001b[43m(\u001b[49m\u001b[38;5;124;43m'\u001b[39;49m\u001b[38;5;124;43mEnter your full name: \u001b[39;49m\u001b[38;5;124;43m'\u001b[39;49m\u001b[43m)\u001b[49m\n\u001b[0;32m      3\u001b[0m     \u001b[38;5;28mprint\u001b[39m(\u001b[38;5;124mf\u001b[39m\u001b[38;5;124m'\u001b[39m\u001b[38;5;124mHi \u001b[39m\u001b[38;5;132;01m{\u001b[39;00muser_name\u001b[38;5;132;01m}\u001b[39;00m\u001b[38;5;124m!\u001b[39m\u001b[38;5;124m'\u001b[39m)\n",
      "\u001b[1;31mTypeError\u001b[0m: 'str' object is not callable"
     ]
    }
   ],
   "source": [
    "type(user_greeting())"
   ]
  },
  {
   "cell_type": "code",
   "execution_count": 64,
   "id": "192acd82-66c3-4f1c-8657-a234355d0266",
   "metadata": {},
   "outputs": [],
   "source": [
    "def user_name():\n",
    "    name = input('Enter your full name:')\n",
    "    return name.split(' ')[0], name.split(' ')[-1]"
   ]
  },
  {
   "cell_type": "code",
   "execution_count": 65,
   "id": "cea3a05f-21fd-4354-97be-ef7819530eb5",
   "metadata": {},
   "outputs": [
    {
     "ename": "TypeError",
     "evalue": "'str' object is not callable",
     "output_type": "error",
     "traceback": [
      "\u001b[1;31m---------------------------------------------------------------------------\u001b[0m",
      "\u001b[1;31mTypeError\u001b[0m                                 Traceback (most recent call last)",
      "Cell \u001b[1;32mIn[65], line 1\u001b[0m\n\u001b[1;32m----> 1\u001b[0m \u001b[43muser_name\u001b[49m\u001b[43m(\u001b[49m\u001b[43m)\u001b[49m\n",
      "Cell \u001b[1;32mIn[64], line 2\u001b[0m, in \u001b[0;36muser_name\u001b[1;34m()\u001b[0m\n\u001b[0;32m      1\u001b[0m \u001b[38;5;28;01mdef\u001b[39;00m \u001b[38;5;21muser_name\u001b[39m():\n\u001b[1;32m----> 2\u001b[0m     name \u001b[38;5;241m=\u001b[39m \u001b[38;5;28;43minput\u001b[39;49m\u001b[43m(\u001b[49m\u001b[38;5;124;43m'\u001b[39;49m\u001b[38;5;124;43mEnter your full name:\u001b[39;49m\u001b[38;5;124;43m'\u001b[39;49m\u001b[43m)\u001b[49m\n\u001b[0;32m      3\u001b[0m     \u001b[38;5;28;01mreturn\u001b[39;00m name\u001b[38;5;241m.\u001b[39msplit(\u001b[38;5;124m'\u001b[39m\u001b[38;5;124m \u001b[39m\u001b[38;5;124m'\u001b[39m)[\u001b[38;5;241m0\u001b[39m], name\u001b[38;5;241m.\u001b[39msplit(\u001b[38;5;124m'\u001b[39m\u001b[38;5;124m \u001b[39m\u001b[38;5;124m'\u001b[39m)[\u001b[38;5;241m-\u001b[39m\u001b[38;5;241m1\u001b[39m]\n",
      "\u001b[1;31mTypeError\u001b[0m: 'str' object is not callable"
     ]
    }
   ],
   "source": [
    "user_name()"
   ]
  },
  {
   "cell_type": "code",
   "execution_count": 66,
   "id": "f31a49b1-aba5-45a1-b8c9-cfb537c8bdc4",
   "metadata": {},
   "outputs": [
    {
     "ename": "TypeError",
     "evalue": "'str' object is not callable",
     "output_type": "error",
     "traceback": [
      "\u001b[1;31m---------------------------------------------------------------------------\u001b[0m",
      "\u001b[1;31mTypeError\u001b[0m                                 Traceback (most recent call last)",
      "Cell \u001b[1;32mIn[66], line 1\u001b[0m\n\u001b[1;32m----> 1\u001b[0m \u001b[38;5;28mtype\u001b[39m(\u001b[43muser_name\u001b[49m\u001b[43m(\u001b[49m\u001b[43m)\u001b[49m)\n",
      "Cell \u001b[1;32mIn[64], line 2\u001b[0m, in \u001b[0;36muser_name\u001b[1;34m()\u001b[0m\n\u001b[0;32m      1\u001b[0m \u001b[38;5;28;01mdef\u001b[39;00m \u001b[38;5;21muser_name\u001b[39m():\n\u001b[1;32m----> 2\u001b[0m     name \u001b[38;5;241m=\u001b[39m \u001b[38;5;28;43minput\u001b[39;49m\u001b[43m(\u001b[49m\u001b[38;5;124;43m'\u001b[39;49m\u001b[38;5;124;43mEnter your full name:\u001b[39;49m\u001b[38;5;124;43m'\u001b[39;49m\u001b[43m)\u001b[49m\n\u001b[0;32m      3\u001b[0m     \u001b[38;5;28;01mreturn\u001b[39;00m name\u001b[38;5;241m.\u001b[39msplit(\u001b[38;5;124m'\u001b[39m\u001b[38;5;124m \u001b[39m\u001b[38;5;124m'\u001b[39m)[\u001b[38;5;241m0\u001b[39m], name\u001b[38;5;241m.\u001b[39msplit(\u001b[38;5;124m'\u001b[39m\u001b[38;5;124m \u001b[39m\u001b[38;5;124m'\u001b[39m)[\u001b[38;5;241m-\u001b[39m\u001b[38;5;241m1\u001b[39m]\n",
      "\u001b[1;31mTypeError\u001b[0m: 'str' object is not callable"
     ]
    }
   ],
   "source": [
    "type(user_name())"
   ]
  },
  {
   "cell_type": "code",
   "execution_count": null,
   "id": "e9e2f816-6bf1-4f62-ba8f-066140fa50ab",
   "metadata": {},
   "outputs": [],
   "source": []
  }
 ],
 "metadata": {
  "kernelspec": {
   "display_name": "Python 3 (ipykernel)",
   "language": "python",
   "name": "python3"
  },
  "language_info": {
   "codemirror_mode": {
    "name": "ipython",
    "version": 3
   },
   "file_extension": ".py",
   "mimetype": "text/x-python",
   "name": "python",
   "nbconvert_exporter": "python",
   "pygments_lexer": "ipython3",
   "version": "3.9.12"
  }
 },
 "nbformat": 4,
 "nbformat_minor": 5
}
