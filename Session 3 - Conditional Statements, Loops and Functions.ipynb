{
 "cells": [
  {
   "cell_type": "code",
   "execution_count": null,
   "id": "c2040bf4-d0a0-4eef-9695-398fb1494681",
   "metadata": {},
   "outputs": [],
   "source": [
    "bio = {'full_name': 'Puneet Kumar'\n",
    "      ,'age': 28\n",
    "      ,'skills': {'Alteryx': 10\n",
    "                 ,'SQL': 10\n",
    "                 ,'Python': 7\n",
    "                 ,'Tableau': 10\n",
    "                 ,'Power BI': 7\n",
    "                 ,'Excel': 5}\n",
    "      ,'gender': 'male'\n",
    "      ,'employed': True}"
   ]
  },
  {
   "cell_type": "markdown",
   "id": "bda459d0-4a88-40bf-adc4-fb01a6464e73",
   "metadata": {},
   "source": [
    "### Conditional Statements\n",
    "Conditional statements are a construct in programming which allow us to specify different code for different conditions.\n",
    "\n",
    "In Python, the syntax for conditional statements is:\n",
    "```\n",
    "if condition_1:\n",
    "    code if condition_1 is true\n",
    "elif condition_2:\n",
    "    code if condition_2 is true\n",
    "...\n",
    "elif condition_n:\n",
    "    code if condition_n is true\n",
    "else:\n",
    "    default code\n",
    "```\n",
    "\n",
    "Here, `elif` and `else` are optional and need only be added as required. In case of `else`, we cannot specify a condition. If `else` is specified, it will be run in case the `if` condition fails. \n",
    "\n",
    "In conditional statements the condition is a Boolean expression"
   ]
  },
  {
   "cell_type": "code",
   "execution_count": null,
   "id": "aa81e500-4a7a-45d7-b32d-a84ebcab86a7",
   "metadata": {},
   "outputs": [],
   "source": [
    "# using only if\n",
    "# let's say we want to run a part of code only if one condition is satisified\n",
    "# we want to print skills from bio if the user is unemployed\n",
    "if not bio['employed']:\n",
    "    print(bio['skills'])"
   ]
  },
  {
   "cell_type": "code",
   "execution_count": null,
   "id": "69396b97-3ff5-4628-b9d4-350dd2abd74a",
   "metadata": {},
   "outputs": [],
   "source": [
    "# let's modify the above code so that if the user is employed,\n",
    "# the program prints 'User employed'\n",
    "if not bio['employed']:\n",
    "    print(bio['skills'])\n",
    "else:\n",
    "    print('User employed.')"
   ]
  },
  {
   "cell_type": "markdown",
   "id": "626aaeba-ab5f-4c39-8db7-800fc08bb333",
   "metadata": {},
   "source": [
    "Let's try another `if...else` statement, this time using `elif`. We want to:\n",
    "1. print `User has only one skill.` if the number of skills specified in `bio['skills']` is one\n",
    "2. print `User has n skills.` if the number of skills specified is greater than 1.<br>\n",
    "   Here, `n` is the number of skills user has specified. \n",
    "4. the dafault value which we want to print is `User is still learning.`"
   ]
  },
  {
   "cell_type": "code",
   "execution_count": null,
   "id": "efefbccd-177d-4927-b727-242598b93f2b",
   "metadata": {},
   "outputs": [],
   "source": [
    "if len(bio['skills']) == 1:\n",
    "    print('User has one skill.')\n",
    "elif len(bio['skills']) > 1:\n",
    "    print(f'User has {len(bio['skills'])} skills.')\n",
    "else:\n",
    "    print('User is still learning.')"
   ]
  },
  {
   "cell_type": "markdown",
   "id": "e3cb7933-9442-4ad6-ab53-df150526eafb",
   "metadata": {},
   "source": [
    "Let's modify this program.\n",
    "1. If the user has only one skill, we want to print `Save in database.`. Then, we want to check whether this skill is either `SAS` or `Python`. If the skill is either of the two, we want to print `Shortlist for RM_20042024`.\n",
    "2. If the user has more than 1 skills, we print `Save in database.` and check whether `Python`, `SQL` and `Power BI` are all in the skillset. If all the technologies are in the skillset, then we want to print `Shortlist for RM_21042024`.\n",
    "3. By default, we want to print `Not shortlisted.`"
   ]
  },
  {
   "cell_type": "code",
   "execution_count": null,
   "id": "e37b2e64-c936-4941-a9dc-56e8dd5e9774",
   "metadata": {},
   "outputs": [],
   "source": [
    "if len(bio['skills']) == 1:\n",
    "    print('Save in database.')\n",
    "\n",
    "    if ('SAS' == bio['skills']) or ('Python' == bio['skills']):\n",
    "        print('Shortlist for RM_20042024.')\n",
    "\n",
    "elif len(bio['skills']) > 1:\n",
    "    print('Save in database.')\n",
    "\n",
    "    if ('Python' in bio['skills']) and ('SQL' in bio['skills']) and ('Power BI' in bio['skills']):\n",
    "        print('Shortlist for RM_21042024.')\n",
    "else:\n",
    "    print('Not shortlisted.')"
   ]
  },
  {
   "cell_type": "code",
   "execution_count": null,
   "id": "877c8c9e-178f-4535-9eab-3c20bbdc419b",
   "metadata": {},
   "outputs": [],
   "source": [
    "# let's modify this program to make it more optimized\n",
    "# notice how candidate data is saved in database if they have 1 or more skills.\n",
    "# inour code, we are specifying the code for printing 'Save in database.' twice.\n",
    "# we can modify this program by printing 'Save in database.' only once.\n",
    "if len(bio['skills']) >= 1:\n",
    "    print('Save in database.')\n",
    "\n",
    "    if ('SAS' == bio['skills']) or ('Python' == bio['skills']):\n",
    "        print('Shortlist for RM_20042024.')\n",
    "\n",
    "    elif ('Python' in bio['skills']) and ('SQL' in bio['skills']) and ('Power BI' in bio['skills']):\n",
    "        print('Shortlist for RM_21042024.')\n",
    "else:\n",
    "    print('Not shortlisted.')"
   ]
  },
  {
   "cell_type": "markdown",
   "id": "d9cfb9de-f012-4b8e-9bd2-887f230f282b",
   "metadata": {},
   "source": [
    "### Loops\n",
    "\n",
    "Loop is a programming construct which allows us to repeat a code segment. This can be either for a predefined number of times or undefined number of times.\n",
    "\n",
    "Python supports two looping constructs, `for` and `while`.\n",
    "- `for` is used when we want to run a predefined number of loops\n",
    "- `while` is used when we don't know how many times the loop needs to be run."
   ]
  },
  {
   "cell_type": "code",
   "execution_count": null,
   "id": "6c6725bd-b476-4978-883b-9565928f09d4",
   "metadata": {},
   "outputs": [],
   "source": [
    "full_name = 'Puneet Kumar'"
   ]
  },
  {
   "cell_type": "code",
   "execution_count": null,
   "id": "aadedfe9-11ce-4c3e-bbcc-caa1fa061bb2",
   "metadata": {},
   "outputs": [],
   "source": [
    "# let's write a program to print each character in full_name separately\n",
    "for char in full_name:\n",
    "    print(char)"
   ]
  },
  {
   "cell_type": "markdown",
   "id": "9d5c1efe-246c-4f9f-82ae-5e4fd64992e9",
   "metadata": {},
   "source": [
    "### Let's write another program which asks the candidate for the number of skills they have, and adds those skills to a list."
   ]
  },
  {
   "cell_type": "code",
   "execution_count": null,
   "id": "6b8e361d-c6bc-4749-9992-4194039bf2a7",
   "metadata": {},
   "outputs": [],
   "source": [
    "skills = []\n",
    "\n",
    "num_skills = input('Enter the number of skills you have: ')\n",
    "\n",
    "for i in range(int(num_skills)):\n",
    "    skill = input(f'Enter skill No.{i+1}: ')\n",
    "    skills.append(skill)\n",
    "\n",
    "print(skills)    "
   ]
  },
  {
   "cell_type": "markdown",
   "id": "499c1c0c-61e6-4413-a87a-3bc3583dcc10",
   "metadata": {},
   "source": [
    "#### Let's modify this program to ask the candidate their\n",
    "1. name\n",
    "2. age\n",
    "3. gender\n",
    "4. serving notice period\n",
    "5. number of skills\n",
    "6. name of each skill\n",
    "\n",
    "We will add each provided value into a dictionary."
   ]
  },
  {
   "cell_type": "code",
   "execution_count": null,
   "id": "de3bc7b4-f805-43ea-88fb-0497d9a799ad",
   "metadata": {
    "scrolled": true
   },
   "outputs": [],
   "source": [
    "skills = []\n",
    "bio = {}\n",
    "\n",
    "name = input('Enter your full name: ')\n",
    "bio.update({'candidate_name':name})\n",
    "\n",
    "age = input('Enter your age: ')\n",
    "bio.update({'candidate_age':float(age)})\n",
    "\n",
    "gender = input('Enter your gender: ')\n",
    "bio.update({'candidate_gender':gender})\n",
    "\n",
    "notice_period = input('Are your serving your notice period?\\n')\n",
    "bio.update({'notice_period_status':notice_period})\n",
    "\n",
    "num_skills = input('Enter the number of skills you have: ')\n",
    "\n",
    "for i in range(int(num_skills)):\n",
    "    skill = input(f'Skill No.{i+1}: ')\n",
    "    skills.append(skill)\n",
    "\n",
    "bio.update({'skills':skills})\n",
    "\n",
    "print(bio)"
   ]
  },
  {
   "cell_type": "markdown",
   "id": "8908a785-95ef-49a4-a7ee-992a31087f3e",
   "metadata": {},
   "source": [
    "### Functions for Descriptive Analysis\n",
    "\n",
    "Let's try to create a few functions that we can use to perform summary analysis."
   ]
  },
  {
   "cell_type": "code",
   "execution_count": null,
   "id": "17bfba2f-aa54-41eb-aa76-01b07dc10b39",
   "metadata": {},
   "outputs": [],
   "source": [
    "ages = [74, 98, 55, 81, 54, 47, 94, 74, 98, 55, 81, 54, 74, 98, 55, 81, 54, 7, 94, 74, 98, 55, 81, 54, 47, 94, 25, 91, 74, 98, \n",
    "        55, 81, 54, 47, 94, 74, 98, 55, 81, 54, 47, 94, 25, 91, 82, 39, 64, 99, 96, 35, 45, 91, 81, 56, 98, 71, 28, 29, 69, 41,\n",
    "        32, 42, 74, 90, 71, 78, 39, 79, 94, 74]"
   ]
  },
  {
   "cell_type": "markdown",
   "id": "f2820cd4-117d-44b2-afa3-3fd945f41c02",
   "metadata": {},
   "source": [
    "1. `sum_func()`"
   ]
  },
  {
   "cell_type": "code",
   "execution_count": null,
   "id": "10ae445f-8264-4e6f-a344-406a92f7a009",
   "metadata": {},
   "outputs": [],
   "source": [
    "# function for summation\n",
    "def sum_func(values):\n",
    "    total = 0\n",
    "    for value in values:\n",
    "        total += value\n",
    "\n",
    "    return total"
   ]
  },
  {
   "cell_type": "code",
   "execution_count": null,
   "id": "5ea18ffa-7a24-4752-9494-5d020302b431",
   "metadata": {},
   "outputs": [],
   "source": [
    "# sum of ages\n",
    "sum_of_ages = sum_func(ages)\n",
    "sum_of_ages"
   ]
  },
  {
   "cell_type": "markdown",
   "id": "bda1d912-2af9-410e-91a7-e09c0938322e",
   "metadata": {},
   "source": [
    "2. `count_func()`\n",
    "   - describes the size of our dataset. It also allows us to understand the frequency distribution of values in an attribute in our dataset."
   ]
  },
  {
   "cell_type": "code",
   "execution_count": null,
   "id": "59839c27-5172-485c-b6a8-3101f11ed6cd",
   "metadata": {},
   "outputs": [],
   "source": [
    "# function for counting values\n",
    "def count_func(a):\n",
    "    count = 0\n",
    "\n",
    "    for value in a:\n",
    "        count += 1\n",
    "\n",
    "    return count"
   ]
  },
  {
   "cell_type": "code",
   "execution_count": null,
   "id": "2e503df0-290f-445b-9063-86210e096193",
   "metadata": {},
   "outputs": [],
   "source": [
    "count_of_ages = count_func(ages)\n",
    "count_of_ages"
   ]
  },
  {
   "cell_type": "markdown",
   "id": "d5533649-08b4-4181-aa1b-b4423e0b9a71",
   "metadata": {},
   "source": [
    "3. `average_func()`\n",
    "   - helps understanding the \"typical\" value of an attribute in a dataset. While it is simple to calculate it, it is prone to outliers which can give a misleading typical value."
   ]
  },
  {
   "cell_type": "code",
   "execution_count": null,
   "id": "c2fbf7b6-2b4b-42bd-b791-70fe4ca51e12",
   "metadata": {},
   "outputs": [],
   "source": [
    "# function for calculating average\n",
    "def average_func(a):\n",
    "    return sum_func(a) / count_func(a)"
   ]
  },
  {
   "cell_type": "code",
   "execution_count": null,
   "id": "aff67bc3-3476-48c1-9a67-7fb7ab7641bb",
   "metadata": {},
   "outputs": [],
   "source": [
    "average_age = average_func(ages)\n",
    "average_age"
   ]
  },
  {
   "cell_type": "markdown",
   "id": "13cc1e7a-f0f3-4b4d-b87d-1e7f961819d5",
   "metadata": {},
   "source": [
    "4. `median_func()`\n",
    "   - gives us the value which is the center-most in our data. This value divides the data into two equal parts, providing a better representative value. It is also not prone to outliers."
   ]
  },
  {
   "cell_type": "markdown",
   "id": "e3a21faa-d05c-47f7-a228-82da525aaabd",
   "metadata": {},
   "source": [
    "### Bubble Sort Sorting Algorithm\n",
    "\n",
    "Bubble sort is a sorting algorithm. It sorts values in a variable by comparing each value with other values in the variable.\n",
    "\n",
    "For example, let's say we have a list:<br>\n",
    "$\\text{sales} = [11, 8, 6, 2, 4, 1]$\n",
    "\n",
    "The algorithm would sort the above $\\text{sales}$ values by comparing each individual sales value with other sales values.<br>\n",
    "$\\text{count of values in sales}, n = 6$<br>\n",
    "<table>\n",
    "    <tr>\n",
    "        <td>Value</td>\n",
    "        <td>11</td>\n",
    "        <td>8</td>\n",
    "        <td>6</td>\n",
    "        <td>2</td>\n",
    "        <td>4</td>\n",
    "        <td>1</td>\n",
    "    </tr>\n",
    "    <tr>\n",
    "        <td>Index</td>\n",
    "        <td>0</td>\n",
    "        <td>1</td>\n",
    "        <td>2</td>\n",
    "        <td>3</td>\n",
    "        <td>4</td>\n",
    "        <td>5</td>\n",
    "    </tr>\n",
    "</table>\n",
    "\n",
    "Let's breakdown the below code for bubble-sort, using the above set of values.<br>\n",
    "`count_func(sales)` $= 6$<br>\n",
    "$\\implies$ `range(count_func(sales))` $= [0, 1, 2, 3, 4, 5]$\n",
    "\n",
    "Now, when `i` $= 0 \\implies$ `j` (`range(count_func(sales)-i-1)`; $6 - 0 - 1 = 5$) $= [0, 1, 2, 3, 4]$.\n",
    "<table>\n",
    "    <tr>\n",
    "        <th>Iteration</td>\n",
    "        <th style='background-color: red;'>0</th>\n",
    "        <th style='background-color: red;'>1</th>\n",
    "        <th style='background-color: red;'>2</th>\n",
    "        <th style='background-color: red;'>3</th>\n",
    "        <th style='background-color: red;'>4</th>\n",
    "        <th style='background-color: red;'>5</th>\n",
    "    </tr>\n",
    "    <tr>\n",
    "        <td>Original</td>\n",
    "        <td>11</td>\n",
    "        <td>8</td>\n",
    "        <td>6</td>\n",
    "        <td>2</td>\n",
    "        <td>4</td>\n",
    "        <td>1</td>\n",
    "    </tr>\n",
    "    <tr>\n",
    "        <td>sales[0] > sales[1]</td>\n",
    "        <td>8</td>\n",
    "        <td>11</td>\n",
    "        <td>6</td>\n",
    "        <td>2</td>\n",
    "        <td>4</td>\n",
    "        <td>1</td>\n",
    "    </tr>\n",
    "    <tr>\n",
    "        <td>sales[1] > sales[2]</td>\n",
    "        <td>8</td>\n",
    "        <td>6</td>\n",
    "        <td>11</td>\n",
    "        <td>2</td>\n",
    "        <td>4</td>\n",
    "        <td>1</td>\n",
    "    </tr>\n",
    "    <tr>\n",
    "        <td>sales[2] > sales[3]</td>\n",
    "        <td>8</td>\n",
    "        <td>6</td>\n",
    "        <td>2</td>\n",
    "        <td>11</td>\n",
    "        <td>4</td>\n",
    "        <td>1</td>\n",
    "    </tr>\n",
    "    <tr>\n",
    "        <td>sales[3] > sales[4]</td>\n",
    "        <td>8</td>\n",
    "        <td>6</td>\n",
    "        <td>2</td>\n",
    "        <td>4</td>\n",
    "        <td>11</td>\n",
    "        <td>1</td>\n",
    "    </tr>\n",
    "    <tr>\n",
    "        <td>sales[4] > sales[5]</td>\n",
    "        <td>8</td>\n",
    "        <td>6</td>\n",
    "        <td>2</td>\n",
    "        <td>4</td>\n",
    "        <td>1</td>\n",
    "        <td>11</td>\n",
    "    </tr>\n",
    "</table>\n",
    "\n",
    "After all the iterations for `j` have run, the outer loop goes on to the next iteration.<br>Now, `i` $= 1 \\implies$ `j` (`range(count_func(sales)-i-1)`; $6 - 1 - 1 = 4$) $= [0, 1, 2, 3]$.\n",
    "<table>\n",
    "    <tr>\n",
    "        <th>Iteration</td>\n",
    "        <th style='background-color: red;'>0</th>\n",
    "        <th style='background-color: red;'>1</th>\n",
    "        <th style='background-color: red;'>2</th>\n",
    "        <th style='background-color: red;'>3</th>\n",
    "        <th style='background-color: red;'>4</th>\n",
    "        <th>5</th>\n",
    "    </tr>\n",
    "    <tr>\n",
    "        <td>Updated in last iteration</td>\n",
    "        <td>8</td>\n",
    "        <td>6</td>\n",
    "        <td>2</td>\n",
    "        <td>4</td>\n",
    "        <td>1</td>\n",
    "        <td>11</td>\n",
    "    </tr>\n",
    "    <tr>\n",
    "        <td>sales[0] > sales[1]</td>\n",
    "        <td>6</td>\n",
    "        <td>8</td>\n",
    "        <td>2</td>\n",
    "        <td>4</td>\n",
    "        <td>1</td>\n",
    "        <td>11</td>\n",
    "    </tr>\n",
    "    <tr>\n",
    "        <td>sales[1] > sales[2]</td>\n",
    "        <td>6</td>\n",
    "        <td>2</td>\n",
    "        <td>8</td>\n",
    "        <td>4</td>\n",
    "        <td>1</td>\n",
    "        <td>11</td>\n",
    "    </tr>\n",
    "    <tr>\n",
    "        <td>sales[2] > sales[3]</td>\n",
    "        <td>6</td>\n",
    "        <td>2</td>\n",
    "        <td>4</td>\n",
    "        <td>8</td>\n",
    "        <td>1</td>\n",
    "        <td>11</td>\n",
    "    </tr>\n",
    "    <tr>\n",
    "        <td>sales[3] > sales[4]</td>\n",
    "        <td>6</td>\n",
    "        <td>2</td>\n",
    "        <td>4</td>\n",
    "        <td>1</td>\n",
    "        <td>8</td>\n",
    "        <td>11</td>\n",
    "    </tr>\n",
    "</table>\n",
    "\n",
    "Again, after all the iterations for `j`, the algorithm proceeds with the next iteration of `i` $= 2 \\implies$ `j` (`range(count_func(sales)-i-1)`; $6 - 2 - 1 = 3$) $= [0, 1, 2]$\n",
    "<table>\n",
    "    <tr>\n",
    "        <th>Iteration</td>\n",
    "        <th style='background-color: red;'>0</th>\n",
    "        <th style='background-color: red;'>1</th>\n",
    "        <th style='background-color: red;'>2</th>\n",
    "        <th style='background-color: red;'>3</th>\n",
    "        <th>4</th>\n",
    "        <th>5</th>\n",
    "    </tr>\n",
    "    <tr>\n",
    "        <td>Updated in last iteration</td>\n",
    "        <td>6</td>\n",
    "        <td>2</td>\n",
    "        <td>4</td>\n",
    "        <td>1</td>\n",
    "        <td>8</td>\n",
    "        <td>11</td>\n",
    "    </tr>\n",
    "    <tr>\n",
    "        <td>sales[0] > sales[1]</td>\n",
    "        <td>2</td>\n",
    "        <td>6</td>\n",
    "        <td>4</td>\n",
    "        <td>1</td>\n",
    "        <td>8</td>\n",
    "        <td>11</td>\n",
    "    </tr>\n",
    "    <tr>\n",
    "        <td>sales[1] > sales[2]</td>\n",
    "        <td>2</td>\n",
    "        <td>4</td>\n",
    "        <td>6</td>\n",
    "        <td>1</td>\n",
    "        <td>8</td>\n",
    "        <td>11</td>\n",
    "    </tr>\n",
    "    <tr>\n",
    "        <td>sales[2] > sales[3]</td>\n",
    "        <td>2</td>\n",
    "        <td>4</td>\n",
    "        <td>1</td>\n",
    "        <td>6</td>\n",
    "        <td>8</td>\n",
    "        <td>11</td>\n",
    "    </tr>\n",
    "</table>\n",
    "\n",
    "For `i`  $= 3 \\implies$ `j` (`range(count_func(sales)-i-1)`; $6 - 3 - 1 = 2$) $= [0, 1]$\n",
    "<table>\n",
    "    <tr>\n",
    "        <th>Iteration</td>\n",
    "        <th style='background-color: red;'>0</th>\n",
    "        <th style='background-color: red;'>1</th>\n",
    "        <th style='background-color: red;'>2</th>\n",
    "        <th>3</th>\n",
    "        <th>4</th>\n",
    "        <th>5</th>\n",
    "    </tr>\n",
    "    <tr>\n",
    "        <td>Updated in last iteration</td>\n",
    "        <td>2</td>\n",
    "        <td>4</td>\n",
    "        <td>1</td>\n",
    "        <td>6</td>\n",
    "        <td>8</td>\n",
    "        <td>11</td>\n",
    "    </tr>\n",
    "    <tr>\n",
    "        <td>sales[0] > sales[1]</td>\n",
    "        <td>2</td>\n",
    "        <td>4</td>\n",
    "        <td>1</td>\n",
    "        <td>6</td>\n",
    "        <td>8</td>\n",
    "        <td>11</td>\n",
    "    </tr>\n",
    "    <tr>\n",
    "        <td>sales[1] > sales[2]</td>\n",
    "        <td>2</td>\n",
    "        <td>1</td>\n",
    "        <td>4</td>\n",
    "        <td>6</td>\n",
    "        <td>8</td>\n",
    "        <td>11</td>\n",
    "    </tr>\n",
    "</table>\n",
    "\n",
    "For `i` $= 4 \\implies$ `j` (`range(count_func(sales)-i-1)`; $6 - 4 - 1 = 1$) $= [0]$\n",
    "<table>\n",
    "    <tr>\n",
    "        <th>Iteration</td>\n",
    "        <th style='background-color: red;'>0</th>\n",
    "        <th style='background-color: red;'>1</th>\n",
    "        <th>2</th>\n",
    "        <th>3</th>\n",
    "        <th>4</th>\n",
    "        <th>5</th>\n",
    "    </tr>\n",
    "    <tr>\n",
    "        <td>Updated in last iteration</td>\n",
    "        <td>2</td>\n",
    "        <td>1</td>\n",
    "        <td>4</td>\n",
    "        <td>6</td>\n",
    "        <td>8</td>\n",
    "        <td>11</td>\n",
    "    </tr>\n",
    "    <tr>\n",
    "        <td>sales[0] > sales[1]</td>\n",
    "        <td>1</td>\n",
    "        <td>2</td>\n",
    "        <td>4</td>\n",
    "        <td>6</td>\n",
    "        <td>8</td>\n",
    "        <td>11</td>\n",
    "    </tr>\n",
    "</table>\n",
    "\n",
    "For `i` $= 5 \\implies$ `j` (`range(count_func(sales)-i-1)`; $6 - 5 - 1 = 1$) $= []$\n",
    "\n",
    "At the end of all iterations, the values in the variable are sorted in ascending order."
   ]
  },
  {
   "cell_type": "code",
   "execution_count": null,
   "id": "a1fc1559-5179-4ac5-8d66-8f82dcd1f681",
   "metadata": {},
   "outputs": [],
   "source": [
    "# function for sort\n",
    "def sort_func(values, ascending=True):\n",
    "    for i in range(count_func(values)):\n",
    "        for j in range(count_func(values)-i-1):\n",
    "            if ascending:\n",
    "                if values[j] > values[j+1]:\n",
    "                    values[j], values[j+1] = values[j+1], values[j]\n",
    "            elif not ascending:\n",
    "                if values[j] < values[j+1]:\n",
    "                    values[j], values[j+1] = values[j+1], values[j]\n",
    "    return values"
   ]
  },
  {
   "cell_type": "code",
   "execution_count": null,
   "id": "c10d525d-e736-4bb5-854c-d42e3606804a",
   "metadata": {},
   "outputs": [],
   "source": [
    "sorted_ages = sort_func(ages)\n",
    "sorted_ages"
   ]
  },
  {
   "cell_type": "code",
   "execution_count": null,
   "id": "65031f0e-2313-44c4-995c-3c7100ca19b3",
   "metadata": {},
   "outputs": [],
   "source": [
    "# function for median\n",
    "def median_func(a):\n",
    "    a = sort_func(a)\n",
    "\n",
    "    i = count_func(a) // 2\n",
    "    if count_func(a) % 2 != 0:\n",
    "        return a[i]\n",
    "\n",
    "    else:\n",
    "        return (a[i-1] + a[i]) / 2"
   ]
  },
  {
   "cell_type": "code",
   "execution_count": null,
   "id": "be227f42-81f9-4fbb-9330-69ce877ce334",
   "metadata": {},
   "outputs": [],
   "source": [
    "median_age = median_func(ages)\n",
    "median_age"
   ]
  },
  {
   "cell_type": "markdown",
   "id": "5a892420-3bbb-47a3-9749-619984a5088a",
   "metadata": {},
   "source": [
    "5. `range_func()`\n",
    "   - used to understand how spread the values in an attribute are. It is calculated by subtracting the smallest value in the attribute with the biggest value. This makes it prone to outliers, which can lead to wrong interpretation of the data."
   ]
  },
  {
   "cell_type": "code",
   "execution_count": null,
   "id": "7776dfca-e76a-4011-8546-2cd05a24e246",
   "metadata": {},
   "outputs": [],
   "source": [
    "def range_func(values):\n",
    "    return sort_func(values)[-1] - sort_func(values)[0]"
   ]
  },
  {
   "cell_type": "markdown",
   "id": "bf6eeb17-43be-4df0-9778-1724fda93b50",
   "metadata": {},
   "source": [
    "6. `mode_func()`\n",
    "   - find the value in the dataset which has the highest number of occurrences.\n",
    "   - a dataset can be `multi-modal`: there can be more than one values which have the highest frequency."
   ]
  },
  {
   "cell_type": "code",
   "execution_count": null,
   "id": "0795cf27-fb5b-43b6-87bd-f51639a040d8",
   "metadata": {},
   "outputs": [],
   "source": [
    "# calculating mode\n",
    "def mode_func(values):\n",
    "    counts = {}\n",
    "    \n",
    "    for value in values:\n",
    "        counts.update({value:values.count(value)})\n",
    "\n",
    "    max_frequency = sort_func(list(counts.values()))[-1]\n",
    "\n",
    "    mode_values = []\n",
    "    for key, value in counts.items():\n",
    "        if value == max_frequency:\n",
    "            mode_values.append(key)\n",
    "\n",
    "    return mode_values"
   ]
  },
  {
   "cell_type": "markdown",
   "id": "91057e0f-cb73-46c3-ade6-bd62600c0f83",
   "metadata": {},
   "source": [
    "7. `iqr_func()`\n",
    "<ul>\n",
    "       <li>the range of data which comprises of 50% of the data. It does not consider outliers, which makes it a better measure to understand points in our dataset.</li>\n",
    "       <li>calculated by subtracting the value of the first quartile from the value of the third quartile.</li><br>\n",
    "</ul>\n",
    "       a. First Quartile: divides the data into 1:3 ratio.<br>\n",
    "       b. Second Quartile: divides the data into 1:1 ratio. This is equal to the median, as median also divides the dataset into two equal parts.<br>\n",
    "       c. Third Quartile: divides the data into 3:1 ratio.<br>\n",
    "       d. Fourth Quartile: this is the maximum value of the dataset.\n",
    "       - `quartile_func()`"
   ]
  },
  {
   "cell_type": "code",
   "execution_count": null,
   "id": "9e2241b4-23ec-4fdf-954b-413823667825",
   "metadata": {},
   "outputs": [],
   "source": [
    "# calculating quartile\n",
    "def quartile_func(values, quartile=1):\n",
    "    values = sort_func(values)\n",
    "    median_index = count_func(values) // 2\n",
    "    if len(values) % 2 == 0:\n",
    "        if quartile == 1:\n",
    "            return median_func(values[:median_index])\n",
    "        elif quartile == 3:\n",
    "            return median_func(values[median_index:])\n",
    "    else:\n",
    "        if quartile == 1:\n",
    "            return median_func(values[:median_index])\n",
    "        elif quartile == 3:\n",
    "            return median_func(values[median_index+1:])"
   ]
  },
  {
   "cell_type": "code",
   "execution_count": null,
   "id": "e602ba5f-d59f-4a9f-9748-7f8c4e1a836b",
   "metadata": {},
   "outputs": [],
   "source": [
    "quartile_func(ages, quartile=3)"
   ]
  },
  {
   "cell_type": "markdown",
   "id": "b3b1bf44-95c2-48b6-9157-5e8e889439c1",
   "metadata": {},
   "source": [
    "If the dataset has an even number of observations, then the quartiles are calculated by dividing the dataset into two equal parts, then calculating the median of the two parts:\n",
    "\n",
    "Since this data has $12$ values, we find the median of<br>\n",
    "<ul>\n",
    "    <li>the first $6$ values, and then</li>\n",
    "    <li>the final $6$ values</li>\n",
    "</ul>\n",
    "\n",
    "Values: $[11, 11, 14, 12, 9, 13, 13, 4, 6, 8, 13, 9]$\n",
    "\n",
    "First $6$ values: $[4, 6, 8, 9, 9, 11]$<br>\n",
    "Median of these values (first quartile): $8.5$\n",
    "\n",
    "Final $6$ values: $[11, 12, 13, 13, 13, 14]$<br>\n",
    "Median of these values (third quartile): $13.0$\n",
    "\n",
    "Now we simply subtract the median of the first set of values (first quartile) from the median of the final set of values (third quartile) to get the interquartile range:<br>\n",
    "Interquartile Range (IQR): $4.5$\n",
    "\n",
    "If the dataset has an odd number of observations, then the quartiles are calculated by finding the position of the median value, dividing the dataset into two equal parts (without the median value in both parts), then calculating the median of the two parts:<br>\n",
    "Values: $[12, 6, 7, 10, 12, 10, 4, 7, 13]$\n",
    "\n",
    "Since this data has $9$ values, we find the position of the median value \n",
    "\n",
    "Median: $10$\n",
    "\n",
    "Position of the median: $5$<br>\n",
    "First $4$ values: $[4, 6, 7, 7]$<br>\n",
    "Median of these values (first quartile): $6.5$\n",
    "\n",
    "Final $4$ values: $[10, 12, 12, 13]$<br>\n",
    "Median of these values (third quartile): $12.0$\n",
    "\n",
    "Now we simply subtract the median of the first set of values (first quartile) from the median of the final set of values (third quartile) to get the interquartile range:<br>\n",
    "Interquartile Range (IQR): $5.5$"
   ]
  },
  {
   "cell_type": "code",
   "execution_count": null,
   "id": "642c6b37-bb67-4a7f-b165-f6cbea7f571b",
   "metadata": {},
   "outputs": [],
   "source": [
    "def iqr_func(values):\n",
    "    return quartile_func(values, quartile=3) - quartile_func(values)"
   ]
  },
  {
   "cell_type": "code",
   "execution_count": null,
   "id": "2880ba29-db5b-4b35-a080-d14c1d4b7e6f",
   "metadata": {},
   "outputs": [],
   "source": [
    "# even number of observations\n",
    "list_var = [5, 7, 2, 1, 9, 6, 4, 3, 0, 8, 77, -89, 150, -190]\n",
    "print(f'First Quartile: {quartile_func(list_var, 1)}\\nThird Quartile: {quartile_func(list_var, 3)}')\n",
    "\n",
    "# odd number of observations\n",
    "list_var_2 = [5, 7, 2, 1, 9, 6, 4, 77, -89, 150, -190]\n",
    "print(f'First Quartile: {quartile_func(list_var_2, 1)}\\nThird Quartile: {quartile_func(list_var_2, 3)}')"
   ]
  },
  {
   "cell_type": "markdown",
   "id": "f22ee633-622a-4e8a-9fc1-fb353761341b",
   "metadata": {},
   "source": [
    "8. `standard_deviation_func()`\n",
    "    - `variance_func()`: computes the square of difference between the mean and individual data points in the dataset. This represents the scatter or spread of data points from the center of the data.\n",
    "    - since variance is computed in `square` it is not easily interpretable; for example, if we calculate the variance of `Sales` (in dollars), the value would come out in dollars squared - we compute the `square-root` of variance instead.\n",
    "    - `Standard deviation` is simply the square-root of variance. It is an easily interpreted measure of dispersion of data from the central point of the data. "
   ]
  },
  {
   "cell_type": "code",
   "execution_count": null,
   "id": "db22fd9d-ba06-4187-9900-5b7638631886",
   "metadata": {},
   "outputs": [],
   "source": [
    "# variance + standard deviation\n",
    "list_var = [5, 7, 2, 1, 9, 6, 4, 3, 0, 8, 77, -89, 150, -190]\n",
    "\n",
    "def variance_func(values):\n",
    "    x_xbar = 0\n",
    "    \n",
    "    for i in values:\n",
    "        x_xbar += (i - average_func(values)) ** 2\n",
    "        \n",
    "    return x_xbar / (count_func(values) - 1)\n",
    "\n",
    "variance_func(list_var)\n",
    "\n",
    "def standard_deviation_func(values):\n",
    "    return variance_func(values) ** 0.5\n",
    "\n",
    "standard_deviation_func(list_var)"
   ]
  },
  {
   "cell_type": "markdown",
   "id": "7e3deced-446a-487a-8e22-8679d9dbe1f9",
   "metadata": {},
   "source": [
    "### Final Note: Quantiles\n",
    "Quantiles are values which divide the dataset into `n` equal parts. Commonly used quantiles (in order of usage) are:\n",
    "1. `Median`: divides the dataset into 2 equal parts\n",
    "2. `Quartiles`: divides the dataset into 4 equal parts\n",
    "3. `Percentiles`: divides the dataset into 100 equal parts\n",
    "4. `Deciles`: divide the dataset into 10 equal parts\n",
    "\n",
    "\n",
    "#### Relation of Quantiles to Each Other:\n",
    "\n",
    "| Measure A | Measure B |\n",
    "| --- | --- |\n",
    "| Median | 2nd Quartile |\n",
    "| Median | 50th Percentile |\n",
    "| Median | 5th Decile |\n",
    "| 1st Quartile | 25th Percentile |\n",
    "| 2nd Quartile | 50th Percentile |\n",
    "| 2nd Quartile | 5th Decile |\n",
    "| 3rd Quartile | 75th Percentile |\n",
    "| nth Decile | (n * 10)h Percentile |\n",
    "\n",
    "\n",
    "\n",
    "For verification: [Calculator](https://www.calculatorsoup.com/calculators/statistics/mean-median-mode.php)"
   ]
  },
  {
   "cell_type": "code",
   "execution_count": null,
   "id": "98f4f441-6eba-4141-8c78-9692ce3ed23f",
   "metadata": {},
   "outputs": [],
   "source": [
    "full_name = \"Sean O'Connor\"\n",
    "full_name = 'Sean O\\'Connor'\n",
    "print('My name is Puneet Kumar. I am 28 years old.')"
   ]
  },
  {
   "cell_type": "markdown",
   "id": "1913f48b-31fd-4bd8-8bf1-8969daf5fbc0",
   "metadata": {},
   "source": [
    "### Escape Sequence\n",
    "These are a sequence of characters in Python, starting with for backslash `\\`. These allow adding special, non-alphabetical characters to string literals.\n",
    "\n",
    "| Escape Sequence | Meaning |\n",
    "| --- | --- |\n",
    "| `\\\\` | ignore the backslash in this string literal |\n",
    "| `\\'` | ignore apostrophe |\n",
    "| `\\\"` | ignore double-quotes |\n",
    "| `\\n` | new-line character; add a new line in the string literal |"
   ]
  },
  {
   "cell_type": "markdown",
   "id": "f6176b59-754b-40d5-b804-88475d249e82",
   "metadata": {},
   "source": [
    "### Installing required libraries"
   ]
  },
  {
   "cell_type": "code",
   "execution_count": null,
   "id": "c41d76a9-46af-44c6-bd0d-0fc12ecb07b1",
   "metadata": {},
   "outputs": [],
   "source": [
    "# ONLY NEEDS TO BE RUN ONCE\n",
    "!pip install pandas numpy xlrd openpyxl xgboost scikit-learn matplotlib --upgrade --quiet --user"
   ]
  }
 ],
 "metadata": {
  "kernelspec": {
   "display_name": "Python 3 (ipykernel)",
   "language": "python",
   "name": "python3"
  },
  "language_info": {
   "codemirror_mode": {
    "name": "ipython",
    "version": 3
   },
   "file_extension": ".py",
   "mimetype": "text/x-python",
   "name": "python",
   "nbconvert_exporter": "python",
   "pygments_lexer": "ipython3",
   "version": "3.12.4"
  }
 },
 "nbformat": 4,
 "nbformat_minor": 5
}
