{
 "cells": [
  {
   "cell_type": "code",
   "execution_count": null,
   "id": "8e3d7627-b3d5-4415-9c1d-2e6106a2e321",
   "metadata": {},
   "outputs": [],
   "source": [
    "import pandas as pd\n",
    "import warnings\n",
    "import numpy as np\n",
    "\n",
    "warnings.filterwarnings('ignore')"
   ]
  },
  {
   "cell_type": "markdown",
   "id": "2e4873ad-46e1-4aab-a85c-781068b80bf5",
   "metadata": {},
   "source": [
    "### Performing transformations on `survey_data`"
   ]
  },
  {
   "cell_type": "markdown",
   "id": "b7fd93f2-c86a-440e-8ec0-e2a23e986601",
   "metadata": {},
   "source": [
    "#### Step 1. Importing data into environment."
   ]
  },
  {
   "cell_type": "code",
   "execution_count": null,
   "id": "00627320-8a1d-4bdf-9fcd-4caa3a622f1e",
   "metadata": {},
   "outputs": [],
   "source": [
    "survey_data = pd.read_csv(r\"https://raw.githubusercontent.com/puneettrainer/datasets/main/survey_data.csv\")"
   ]
  },
  {
   "cell_type": "markdown",
   "id": "a44db8a3-3787-40b3-974e-60b2a501a0f1",
   "metadata": {},
   "source": [
    "#### Step 2. Understanding the schema of the data.\n",
    "\n",
    "This includes:\n",
    "- understanding the number of rows and columns in the dataset\n",
    "- understanding the data type of each field\n",
    "- checking for null/non-standard values"
   ]
  },
  {
   "cell_type": "code",
   "execution_count": null,
   "id": "4daa78f6-5fd5-4abc-9566-5fdfb2235a25",
   "metadata": {},
   "outputs": [],
   "source": [
    "survey_data.info()"
   ]
  },
  {
   "cell_type": "markdown",
   "id": "11d1648f-749d-4cd5-a942-992ac1521c43",
   "metadata": {},
   "source": [
    "Based on the `info()` method, there are 30 observations/rows (`entries`) and 13 columns in this dataset.\n",
    "\n",
    "The index for this dataframe is the default index provided by pandas.\n",
    "\n",
    "This data has:\n",
    "- 2 `float64` columns: `Professional Experience` and `Notice Period.1`\n",
    "- 2 `int64` columns: `Age` and `Response ID`\n",
    "- remaining 9 columns are `object` type.\n",
    "- 1 null value in the `Education`, `Profession`, `Last Active` and `Notice Period.1` field"
   ]
  },
  {
   "cell_type": "markdown",
   "id": "4db2f3b9-a26e-47bc-8822-f5542ced8e65",
   "metadata": {},
   "source": [
    "#### Another way to get the number of null values in each field in the dataframe:\n",
    "\n",
    "`dataframe_object.isna().sum()`"
   ]
  },
  {
   "cell_type": "code",
   "execution_count": null,
   "id": "e28dec2a-e8e2-44e6-9a0c-e9186a13cd15",
   "metadata": {},
   "outputs": [],
   "source": [
    "survey_data.isna().sum()"
   ]
  },
  {
   "cell_type": "markdown",
   "id": "4d4b1e3f-e145-43c4-ae64-33abdadfb37c",
   "metadata": {},
   "source": [
    "#### Step 3. Getting a preview of the data.\n",
    "\n",
    "For this step we can use `head(n)`, `tail(n)` or `sample(n)` methods. The objective is to get `n` number of random rows to get an idea of how the data is recorded in the dataframe."
   ]
  },
  {
   "cell_type": "code",
   "execution_count": null,
   "id": "4c398244-a172-438b-8b73-e60e6bf71580",
   "metadata": {},
   "outputs": [],
   "source": [
    "survey_data.sample(10)"
   ]
  },
  {
   "cell_type": "markdown",
   "id": "97f5ad92-33e0-4638-b6ed-251e0006f7ba",
   "metadata": {},
   "source": [
    "Based on the data available in the dataframe:<br>\n",
    "`Age` - stores the age of the candidate as a whole number<br>\n",
    "`Gender`- stores the gender of the candidate as `Male` or `Female`<br>\n",
    "`Date of Joining` - stores the date when the candidate joined TrainingYA<br>\n",
    "`Courses Enrolled` - stores the number of courses enrolled in as an integer value<br>\n",
    "`Courses Completed`- stores the number of courses completed as an integer value\n",
    "<br>`Professional Experience` - stores the total number of years of professional experience\n",
    "<br>`Education` - stores the general name of the highest education completed\n",
    "<br>`Profession` - specifies whether the candidate is `Working` or a `Student`\n",
    "<br>`Last Active` - stores the date when the candidate was last employed\n",
    "<br>`Notice Period` - indicates whether the candidate is serving notice period or not\n",
    "<br>`Notice Period.1` - stores the duration of notice period in terms of days\n",
    "<br>`Industry` - stores the general name of the industry in which the candidate is employed in currently\n",
    "<br>`Response ID` - unique identifier assigned to each candidate\n",
    "- we need to convert:\n",
    "    - `Date of Joining` from string object to a date type field\n",
    "    - `Courses Enrolled` from string object to a whole number type field\n",
    "    - `Courses Completed` from string object to a whole number type field\n",
    "    - `Last Active` from string object to a date type field\n",
    "    - `Notice Period` from a string object to a boolean field\n",
    "- rename `Notice Period.1` to an understandable name"
   ]
  },
  {
   "cell_type": "markdown",
   "id": "c778c6d5-2fc8-406e-b2a6-5b59c1d84233",
   "metadata": {},
   "source": [
    "#### `dataframe_object.fillna(rep)`\n",
    "\n",
    "The `fillna(rep)` method is used to replace NaN, NaT, etc. values with `rep`. This is useful when we are performing transformations on the data."
   ]
  },
  {
   "cell_type": "code",
   "execution_count": null,
   "id": "96336353-9789-4cb1-8f4a-64bf2e6fa46d",
   "metadata": {},
   "outputs": [],
   "source": [
    "# replacing nan value with NA\n",
    "survey_data.fillna('NA', inplace=True)"
   ]
  },
  {
   "cell_type": "code",
   "execution_count": null,
   "id": "21851e91-267f-4034-8b50-74511ee71fb0",
   "metadata": {},
   "outputs": [],
   "source": [
    "# checking whether Gender column contains any value other than Male or Female\n",
    "survey_data['Gender'].unique()"
   ]
  },
  {
   "cell_type": "code",
   "execution_count": null,
   "id": "4039d05a-6640-4131-ade3-0f5563d2e5cf",
   "metadata": {},
   "outputs": [],
   "source": [
    "# checking whether the Courses Enrolled column contains any non-numeric value\n",
    "survey_data.loc[survey_data['Courses Enrolled'].str.contains('[^0-9]+', regex=True), :]"
   ]
  },
  {
   "cell_type": "code",
   "execution_count": null,
   "id": "2559c737-786b-4dcb-b87c-8410bb42b1c8",
   "metadata": {},
   "outputs": [],
   "source": [
    "# assigning null where invalid value in Courses Enrolled\n",
    "survey_data.loc[survey_data['Courses Enrolled'].str.contains('[^0-9]+', regex=True), 'Courses Enrolled'] = -1\n",
    "survey_data['Courses Enrolled'] = survey_data['Courses Enrolled'].astype('int')\n",
    "survey_data.loc[survey_data['Courses Enrolled'] == -1, 'Courses Enrolled'] = np.nan"
   ]
  },
  {
   "cell_type": "code",
   "execution_count": null,
   "id": "32780684-94eb-4452-af02-a7add8303a26",
   "metadata": {},
   "outputs": [],
   "source": [
    "# checking whether the Courses Completed column contains any non-numeric value\n",
    "survey_data[survey_data['Courses Completed'].str.contains('[^0-9]+', regex=True)]"
   ]
  },
  {
   "cell_type": "code",
   "execution_count": null,
   "id": "fd30e258-0e6b-4fbd-927c-dc99e94bc7db",
   "metadata": {},
   "outputs": [],
   "source": [
    "# assigning null where invalid value in Courses Completed\n",
    "survey_data.loc[survey_data['Courses Completed'].str.contains('[^0-9]+', regex=True), 'Courses Completed'] = -1\n",
    "survey_data['Courses Completed'] = survey_data['Courses Completed'].astype('int')\n",
    "survey_data.loc[survey_data['Courses Completed'] == -1, 'Courses Completed'] = np.nan"
   ]
  },
  {
   "cell_type": "code",
   "execution_count": null,
   "id": "dbfcf5cb-2678-41da-80e7-562cbce0e1cb",
   "metadata": {},
   "outputs": [],
   "source": [
    "# looking at distinct values in Education\n",
    "survey_data['Education'].unique()"
   ]
  },
  {
   "cell_type": "markdown",
   "id": "6220a077-1daf-4403-8f8e-df8b1162ed45",
   "metadata": {},
   "source": [
    "We need to standardize values in the the Education column as follows:\n",
    "\n",
    "| Value | Standard Value |\n",
    "| --- | --- |\n",
    "| Master of Science (M.Sc.) | M.Sc. |\n",
    "| M.Sc Data Science & Artificial Intelligence | M.Sc. |\n",
    "| Bachelor Of Science | B.Sc. |\n",
    "| Bachelor of science | B.Sc. |\n",
    "| Bachelor's in science | B.Sc. |\n",
    "| bachelors in science | B.Sc. |\n",
    "| M.Tech | M.Tech. |\n",
    "| B. Tech (ME) | B.Tech. |\n",
    "| Btech.| B.Tech. |\n",
    "| Btech(cse) | B.Tech. |\n",
    "| Non-Technical (Masters) | Invalid |\n",
    "| B.A | B.A. |\n",
    "| Bachelor of commerce | B.Com. |\n",
    "| post graduation | Invalid |\n",
    "| Graduate | Invalid |\n",
    "| Data Science | Invalid |\n",
    "| nan | Invalid |\n",
    "| Graduation | Invalid |\n",
    "| MBA | M.B.A. |\n",
    "| BCA | B.C.A. |\n",
    "\n",
    "Based on the above table:\n",
    "- if Education value contains pattern like m____sc___, then `M.Sc.`\n",
    "- if Education value contains pattern like b_____sc____, then `B.Sc.`\n",
    "- if Education value contains pattern like b____a___, then `B.A.`\n",
    "- if Education value contains pattern like b_____tech____, then `B.Tech.`\n",
    "- if Education value contains pattern like m____tech____, then `M.Tech.`\n",
    "- if Education value contains pattern like b____com____, then `B.Com.`\n",
    "- if Education = 'MBA' then `M.B.A.`\n",
    "- if Education = 'BCA' then `B.C.A.`"
   ]
  },
  {
   "cell_type": "code",
   "execution_count": null,
   "id": "93f99794-7775-4b6f-890a-7f508e715a9e",
   "metadata": {},
   "outputs": [],
   "source": [
    "# cleaining up Education column\n",
    "\n",
    "# removing non-alphabetic characters\n",
    "survey_data['Education'] = survey_data['Education'].str.lower().str.replace('[^a-z]+', '', regex=True).str.strip()\n",
    "\n",
    "survey_data.loc[survey_data['Education'] == 'mba', 'Education'] = 'M.B.A.'\n",
    "survey_data.loc[survey_data['Education'] == 'bca', 'Education'] = 'B.C.A.'"
   ]
  },
  {
   "cell_type": "code",
   "execution_count": null,
   "id": "4dc89bed-c1ad-4a8e-b50a-08cd9881cc2b",
   "metadata": {},
   "outputs": [],
   "source": [
    "survey_data.loc[:, 'Education']"
   ]
  },
  {
   "cell_type": "code",
   "execution_count": null,
   "id": "b1c6420c-87c9-44c9-b157-0912c10e727a",
   "metadata": {},
   "outputs": [],
   "source": [
    "survey_data.loc[survey_data['Education'].str.contains('m[a-z]*sc[a-z]*', regex=True), 'Education']"
   ]
  },
  {
   "cell_type": "code",
   "execution_count": null,
   "id": "90e44cb8-9a9b-443e-bfdc-f5834ae45eb2",
   "metadata": {},
   "outputs": [],
   "source": [
    "# assigning correct value to Education column\n",
    "survey_data.loc[survey_data['Education'].str.contains('m[a-z]*sc[a-z]*', regex=True), 'Education'] = 'M.Sc.'"
   ]
  },
  {
   "cell_type": "code",
   "execution_count": null,
   "id": "a198c513-f438-4045-ba61-7740ef79e323",
   "metadata": {},
   "outputs": [],
   "source": [
    "survey_data.loc[survey_data['Education'].str.contains('b[a-z]*sc[a-z]*', regex=True), 'Education']"
   ]
  },
  {
   "cell_type": "code",
   "execution_count": null,
   "id": "c53e1ccd-9142-436f-ac9b-83f503668fa8",
   "metadata": {},
   "outputs": [],
   "source": [
    "survey_data.loc[survey_data['Education'].str.contains('b[a-z]*sc[a-z]*', regex=True), 'Education'] = 'B.Sc.'"
   ]
  },
  {
   "cell_type": "code",
   "execution_count": null,
   "id": "ddbae637-9017-47a2-ab06-7cb531d15f19",
   "metadata": {},
   "outputs": [],
   "source": [
    "survey_data.loc[survey_data['Education'].str.contains('b[a-z]*com[a-z]*', regex=True), 'Education']"
   ]
  },
  {
   "cell_type": "code",
   "execution_count": null,
   "id": "519d9075-071f-4ded-b7f4-a9122605aa12",
   "metadata": {},
   "outputs": [],
   "source": [
    "survey_data.loc[survey_data['Education'].str.contains('b[a-z]*com[a-z]*', regex=True), 'Education'] = 'B.Com.'"
   ]
  },
  {
   "cell_type": "code",
   "execution_count": null,
   "id": "b8877878-2f47-4ae9-89ba-f6ea30dd7f78",
   "metadata": {},
   "outputs": [],
   "source": [
    "survey_data.loc[survey_data['Education'].str.contains('b[a-z]*a[a-z]*', regex=True), 'Education']"
   ]
  },
  {
   "cell_type": "code",
   "execution_count": null,
   "id": "2289356f-99fb-477f-b3e6-7ee2ad5845b3",
   "metadata": {},
   "outputs": [],
   "source": [
    "survey_data.loc[survey_data['Education'].str.contains('b[a-z]*a[a-z]*', regex=True), 'Education'] = 'B.A.'"
   ]
  },
  {
   "cell_type": "code",
   "execution_count": null,
   "id": "ab0cedd7-3b48-4673-b811-634f7c0179dd",
   "metadata": {},
   "outputs": [],
   "source": [
    "survey_data.loc[survey_data['Education'].str.contains('b[a-z]*tech[a-z]*', regex=True), 'Education']"
   ]
  },
  {
   "cell_type": "code",
   "execution_count": null,
   "id": "bc16419d-5700-4626-9875-b82ddd76607e",
   "metadata": {},
   "outputs": [],
   "source": [
    "survey_data.loc[survey_data['Education'].str.contains('b[a-z]*tech[a-z]*', regex=True), 'Education'] = 'B.Tech.'"
   ]
  },
  {
   "cell_type": "code",
   "execution_count": null,
   "id": "5bb67838-666d-4991-ad05-01589dd55733",
   "metadata": {},
   "outputs": [],
   "source": [
    "survey_data.loc[survey_data['Education'].str.contains('m[a-z]*tech[a-z]*', regex=True), 'Education'] = 'M.Tech.'"
   ]
  },
  {
   "cell_type": "code",
   "execution_count": null,
   "id": "f72a5373-13ca-423b-926a-aebd019a7ca1",
   "metadata": {},
   "outputs": [],
   "source": [
    "survey_data.loc[:, 'Education']"
   ]
  },
  {
   "cell_type": "code",
   "execution_count": null,
   "id": "0b89b74a-6420-4147-b51e-c826a96d6bd4",
   "metadata": {},
   "outputs": [],
   "source": [
    "valid_edu = ['M.Tech.', 'B.Tech.', 'B.A.', 'M.B.A.', 'B.C.A.', 'M.Sc.', 'B.Sc.']\n",
    "survey_data.loc[~survey_data['Education'].isin(valid_edu), 'Education'] = ''"
   ]
  },
  {
   "cell_type": "code",
   "execution_count": null,
   "id": "ca9050ba-7cda-4299-b388-6a7664905c44",
   "metadata": {},
   "outputs": [],
   "source": [
    "survey_data.loc[:, 'Education']"
   ]
  },
  {
   "cell_type": "code",
   "execution_count": null,
   "id": "ee0e482b-3dd1-4644-8986-129b422d69b4",
   "metadata": {},
   "outputs": [],
   "source": [
    "# looking at distinct values in Profession\n",
    "survey_data['Profession'].unique()"
   ]
  },
  {
   "cell_type": "code",
   "execution_count": null,
   "id": "83bac752-1296-46ce-9d3f-3be0a552eb51",
   "metadata": {},
   "outputs": [],
   "source": [
    "# looking at distinct values in Industry\n",
    "survey_data['Industry'].unique()"
   ]
  },
  {
   "cell_type": "markdown",
   "id": "6517ea51-a3b3-4363-b7b6-1cee85b9fb2c",
   "metadata": {},
   "source": [
    "Cleansing for the `Industry` column\n",
    "\n",
    "| Value | Standard Value |\n",
    "| --- | --- |\n",
    "| BFSI | |\n",
    "| Computer Application | Invalid |\n",
    "| Healthcare | |\n",
    "| Biotechnology Research\n",
    "| BSC | Invalid |\n",
    "| education | Education |\n",
    "| DATA SCIENCE 360 | Invalid |\n",
    "| Teaching | Education |\n",
    "| BCA (computer application) | Invalid |\n",
    "| STUDENT | Invalid |\n",
    "| PHARMACEUTICAL | Pharmaceutical |\n",
    "| HealthCare | Healthcare |\n",
    "| Supply Chain management | Supply Chain Management |\n",
    "| data science | Invalid |\n",
    "| 360 programme | Invalid |\n",
    "| Naval Architecture | |\n",
    "| telecom | Telecommunications |\n",
    "| Data Science 360 | Invalid |\n",
    "| Insurance Domain and Finance | |\n",
    "| BPO | |\n",
    "| Bcom hons | Invalid |\n",
    "| Data Science | Invalid |\n",
    "| FMCG | |\n",
    "| Data science | Invalid |\n",
    "| B.com(hon) | Invalid |\n",
    "| Applied Physics | Invalid |"
   ]
  },
  {
   "cell_type": "code",
   "execution_count": null,
   "id": "8cf8c484-ab4f-4c23-8aa1-981767f6215c",
   "metadata": {},
   "outputs": [],
   "source": [
    "# cleaining up Education column\n",
    "\n",
    "# removing non-alphabetic characters\n",
    "survey_data['Industry'] = survey_data['Industry'].str.lower().str.replace('[^a-z]+', '', regex=True).str.strip()\n",
    "\n",
    "survey_data"
   ]
  },
  {
   "cell_type": "code",
   "execution_count": null,
   "id": "61ba9222-2d1e-4e8b-a97d-2204371628ff",
   "metadata": {},
   "outputs": [],
   "source": [
    "survey_data"
   ]
  },
  {
   "cell_type": "markdown",
   "id": "fa6a3b71-27a2-4336-a449-39103f6db694",
   "metadata": {},
   "source": [
    "In the `Date of Joining` field, we can see there are two ways in which the date is provided:\n",
    "- DD-MM-YYYY\n",
    "- DD/MM/YYYY\n",
    "\n",
    "There is no direct way to get the various formats in which the date may be entered. When developing an ETL framework, we can add checks ourselves to handle any type of date format and convert it into the correct standard date."
   ]
  },
  {
   "cell_type": "code",
   "execution_count": null,
   "id": "c98e40dd-b317-48d9-b7fd-7c8226a5cfdf",
   "metadata": {},
   "outputs": [],
   "source": [
    "import datetime as dt\n",
    "import re\n",
    "\n",
    "for row in survey_data.index:\n",
    "    if re.match('[0-9]{2}-[0-9]{2}-[0-9]{4}', survey_data.loc[row, 'Date of Joining']):\n",
    "        survey_data.loc[row, 'Date of Joining'] = dt.datetime.strptime(survey_data.loc[row, 'Date of Joining'], '%d-%m-%Y')\n",
    "\n",
    "    elif re.match('[0-9]{2}/[0-9]{2}/[0-9]{4}', survey_data.loc[row, 'Date of Joining']):\n",
    "        survey_data.loc[row, 'Date of Joining'] = dt.datetime.strptime(survey_data.loc[row, 'Date of Joining'], '%m/%d/%Y')\n",
    "\n",
    "    else:\n",
    "        survey_data.loc[row, 'Date of Joining'] = np.nan"
   ]
  },
  {
   "cell_type": "markdown",
   "id": "3f0f10c1-def1-4f00-a0f4-8b2467619cee",
   "metadata": {},
   "source": [
    "### ReGex Reference\n",
    "\n",
    "`ReGex` is a pattern matching framework which allows manipulating strings based on how it \"looks\". It is case-sensitive so we need to take the required steps to make string manipulation easy (by converting to upper or lower case, etc.).\n",
    "\n",
    "#### Syntax:\n",
    "\n",
    "| Symbol | Indication |\n",
    "| --- | --- |\n",
    "| [] | indicates a pattern that will appear in a continuous sequence |\n",
    "| () | allows grouping together character sets |\n",
    "| ? | allows us to specify that part of the sequence is optional |\n",
    "| {n} | indicates the number of characters (n) that will appear in the sequence together |\n",
    "| * | indicates that zero or more characters will appear together |\n",
    "| + | indicates that one or more characters will appear together |\n",
    "| A-Z | indicates that the character(s) belong to the uppercase alphabet character set |\n",
    "| a-z | indicates that the character(s) belong to the lowercase alphabet character set |\n",
    "| 0-9 | indicates that the character(s) belong to the number character set |\n",
    "| ^ | indicates that the following character(s) should not be in the string |\n",
    "\n",
    "\n",
    "[ReGex Reference](https://docs.python.org/3/howto/regex.html#regex-howto)"
   ]
  },
  {
   "cell_type": "code",
   "execution_count": null,
   "id": "b973abed-8586-4826-98a2-8c79babba897",
   "metadata": {},
   "outputs": [],
   "source": [
    "survey_data['Date of Joining'] = pd.to_datetime(survey_data['Date of Joining'])\n",
    "survey_data['Date of Joining']"
   ]
  },
  {
   "cell_type": "code",
   "execution_count": null,
   "id": "7f3aada4-568f-4173-b0b5-815f97c5c096",
   "metadata": {},
   "outputs": [],
   "source": [
    "# when the dates in a column are in the same format, we can directly use pd.to_datetime() to convert the entire column into a standard date column\n",
    "survey_data['Last Active'] = pd.to_datetime(survey_data['Last Active'], format='%d-%m-%Y', errors='coerce')\n",
    "survey_data['Last Active']"
   ]
  },
  {
   "cell_type": "code",
   "execution_count": null,
   "id": "7ca5ce16-4677-4276-a863-f77de4352707",
   "metadata": {},
   "outputs": [],
   "source": [
    "survey_data['Notice Period'] = survey_data['Notice Period'].map({'Yes':True\n",
    "                                                                ,'No':False})\n",
    "survey_data['Notice Period'].astype('bool')\n",
    "survey_data.info()"
   ]
  },
  {
   "cell_type": "code",
   "execution_count": null,
   "id": "b6c355d4-6fd8-47c6-8536-ff43e383211b",
   "metadata": {},
   "outputs": [],
   "source": [
    "# renmaing Notice Period.1 to Notice Period Duration\n",
    "survey_data.rename(columns={'Notice Period.1':'Notice Period Duration'}, inplace=True)\n",
    "\n",
    "# cleaning Notice Period Duration\n",
    "survey_data['Notice Period Duration'] = survey_data['Notice Period Duration'].astype('str')\n",
    "survey_data.loc[~survey_data['Notice Period Duration'].str.contains('([0-9]+.[0-9]+)', regex=True), 'Notice Period Duration'] = -1\n",
    "survey_data['Notice Period Duration'] = survey_data['Notice Period Duration'].astype('float')\n",
    "survey_data.loc[survey_data['Notice Period Duration'] == -1, 'Notice Period Duration'] = np.nan\n",
    "survey_data['Notice Period Duration']"
   ]
  },
  {
   "cell_type": "markdown",
   "id": "d3415218-b96e-447d-9c21-73e5278fa6c0",
   "metadata": {},
   "source": [
    "#### Try to standardize the `Industry` column"
   ]
  },
  {
   "cell_type": "markdown",
   "id": "b11fd37e-1505-4dec-bc7c-ae2b3d12d197",
   "metadata": {},
   "source": [
    "### Final script for cleansing on `survey_data`"
   ]
  },
  {
   "cell_type": "code",
   "execution_count": null,
   "id": "ae3be6ce-4118-4498-bc54-99d56200ab3b",
   "metadata": {},
   "outputs": [],
   "source": [
    "import pandas as pd\n",
    "import warnings\n",
    "import numpy as np\n",
    "import datetime as dt\n",
    "import re\n",
    "\n",
    "warnings.filterwarnings('ignore')\n",
    "\n",
    "# importing data into pandas\n",
    "survey_data = pd.read_csv(r\"E:\\data\\survey_data.csv\")\n",
    "\n",
    "survey_data.fillna('NA', inplace=True)\n",
    "\n",
    "# checking whether Gender column contains any value other than Male or Female\n",
    "survey_data['Gender'].unique()\n",
    "\n",
    "valid_gender = ['Male', 'Female', 'Other']\n",
    "survey_data.loc[~survey_data['Gender'].isin(valid_gender), 'Gender'] = ''\n",
    "\n",
    "# assigning null where invalid value in Courses Enrolled\n",
    "survey_data.loc[survey_data['Courses Enrolled'].str.contains('[^0-9]+', regex=True), 'Courses Enrolled'] = -1\n",
    "survey_data['Courses Enrolled'] = survey_data['Courses Enrolled'].astype('int')\n",
    "survey_data.loc[survey_data['Courses Enrolled'] == -1, 'Courses Enrolled'] = np.nan\n",
    "\n",
    "# assigning null where invalid value in Courses Completed\n",
    "survey_data.loc[survey_data['Courses Completed'].str.contains('[^0-9]+', regex=True), 'Courses Completed'] = -1\n",
    "survey_data['Courses Completed'] = survey_data['Courses Completed'].astype('int')\n",
    "survey_data.loc[survey_data['Courses Completed'] == -1, 'Courses Completed'] = np.nan\n",
    "\n",
    "# cleaining up Education column\n",
    "# removing non-alphabetic characters and converting to lowercase to make checking easier\n",
    "survey_data['Education'] = survey_data['Education'].str.lower().str.replace('[^a-z]+', '', regex=True).str.strip()\n",
    "\n",
    "survey_data.loc[survey_data['Education'] == 'mba', 'Education'] = 'M.B.A.'\n",
    "survey_data.loc[survey_data['Education'] == 'bca', 'Education'] = 'B.C.A.'\n",
    "survey_data.loc[survey_data['Education'].str.contains('m[a-z]*sc[a-z]*', regex=True), 'Education'] = 'M.Sc.'\n",
    "survey_data.loc[survey_data['Education'].str.contains('b[a-z]*sc[a-z]*', regex=True), 'Education'] = 'B.Sc.'\n",
    "survey_data.loc[survey_data['Education'].str.contains('b[a-z]*com[a-z]*', regex=True), 'Education'] = 'B.Com.'\n",
    "survey_data.loc[survey_data['Education'].str.contains('b[a-z]*a[a-z]*', regex=True), 'Education'] = 'B.A.'\n",
    "survey_data.loc[survey_data['Education'].str.contains('b[a-z]*tech[a-z]*', regex=True), 'Education'] = 'B.Tech.'\n",
    "survey_data.loc[survey_data['Education'].str.contains('m[a-z]*tech[a-z]*', regex=True), 'Education'] = 'M.Tech.'\n",
    "\n",
    "valid_education = ['M.Tech.', 'B.Tech.', 'B.A.', 'M.B.A.', 'B.C.A.', 'M.Sc.', 'B.Sc.']\n",
    "survey_data.loc[~survey_data['Education'].isin(valid_education), 'Education'] = ''\n",
    "\n",
    "# cleaning up Profession column\n",
    "valid_profession = ['Student', 'Working']\n",
    "survey_data.loc[~survey_data['Profession'].isin(valid_profession), 'Profession'] = ''\n",
    "\n",
    "# cleaning up Industry column\n",
    "valid_industry = ['bfsi', 'healthcare', 'research', 'education', 'pharmaceutical', 'supply chain management', 'insurance', 'telecommunications', 'insurance']\n",
    "survey_data['Industry'] = survey_data['Industry'].str.lower().str.replace('[^a-z]+', '', regex=True).str.strip()\n",
    "survey_data.loc[~survey_data['Industry'].isin(valid_industry), 'Industry'] = ''\n",
    "survey_data['Industry'] = survey_data['Industry'].str.title()\n",
    "\n",
    "# cleaning up Date of Joining column\n",
    "for row in survey_data.index:\n",
    "    if re.match('[0-9]{2}-[0-9]{2}-[0-9]{4}', survey_data.loc[row, 'Date of Joining']):\n",
    "        survey_data.loc[row, 'Date of Joining'] = dt.datetime.strptime(survey_data.loc[row, 'Date of Joining'], '%d-%m-%Y')\n",
    "\n",
    "    elif re.match('[0-9]{2}/[0-9]{2}/[0-9]{4}', survey_data.loc[row, 'Date of Joining']):\n",
    "        survey_data.loc[row, 'Date of Joining'] = dt.datetime.strptime(survey_data.loc[row, 'Date of Joining'], '%m/%d/%Y')\n",
    "\n",
    "    else:\n",
    "        survey_data.loc[row, 'Date of Joining'] = np.nan\n",
    "\n",
    "# converting Date of Joining from string to date data type\n",
    "survey_data['Date of Joining'] = pd.to_datetime(survey_data['Date of Joining'])\n",
    "\n",
    "# when the dates in a column are in the same format, we can directly use pd.to_datetime() to convert the entire column into a standard date column\n",
    "survey_data['Last Active'] = pd.to_datetime(survey_data['Last Active'], format='%d-%m-%Y', errors='coerce')\n",
    "\n",
    "# cleaning up Notice Period column\n",
    "survey_data['Notice Period'] = survey_data['Notice Period'].map({'Yes':True\n",
    "                                                                ,'No':False})\n",
    "\n",
    "# converting type of Notice Period from string to boolean\n",
    "survey_data['Notice Period'].astype('bool')\n",
    "\n",
    "# renmaing Notice Period.1 to Notice Period Duration\n",
    "survey_data.rename(columns={'Notice Period.1':'Notice Period Duration'}, inplace=True)\n",
    "\n",
    "# # assigning null where invalid value in Notice Period Duration\n",
    "survey_data['Notice Period Duration'] = survey_data['Notice Period Duration'].astype('str')\n",
    "survey_data.loc[~survey_data['Notice Period Duration'].str.contains('([0-9]+.[0-9]+)', regex=True), 'Notice Period Duration'] = -1\n",
    "survey_data['Notice Period Duration'] = survey_data['Notice Period Duration'].astype('float')\n",
    "survey_data.loc[survey_data['Notice Period Duration'] == -1, 'Notice Period Duration'] = np.nan\n",
    "survey_data"
   ]
  }
 ],
 "metadata": {
  "kernelspec": {
   "display_name": "Python 3 (ipykernel)",
   "language": "python",
   "name": "python3"
  },
  "language_info": {
   "codemirror_mode": {
    "name": "ipython",
    "version": 3
   },
   "file_extension": ".py",
   "mimetype": "text/x-python",
   "name": "python",
   "nbconvert_exporter": "python",
   "pygments_lexer": "ipython3",
   "version": "3.12.4"
  }
 },
 "nbformat": 4,
 "nbformat_minor": 5
}
