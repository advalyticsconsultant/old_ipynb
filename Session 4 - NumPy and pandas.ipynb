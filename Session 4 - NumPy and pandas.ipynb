{
 "cells": [
  {
   "cell_type": "markdown",
   "id": "4e544d36-1912-46df-a256-9189abdfad08",
   "metadata": {},
   "source": [
    "### NumPy Arrays\n",
    "\n",
    "NumPy is an array manipulation library in Python, which handles array operations very efficiently by the use of various attributes and methods.\n",
    "- ndarray is a multidimensional container of items of the same size and type.\n",
    "- built on C++\n",
    "| NumPy Array | Python Lists |\n",
    "| --- | --- |\n",
    "| consumes less memory as they only store binary value of array item | consume more memory as they store the size, reference, object value and object type |\n",
    "| doesn't perform type checking when iterating | |\n",
    "| uses contiguous memory | list items are spread across memory |"
   ]
  },
  {
   "cell_type": "code",
   "execution_count": 27,
   "id": "af7daeb4-0471-4a1a-a2f5-a68b16914dc8",
   "metadata": {},
   "outputs": [],
   "source": [
    "import numpy as np\n",
    "import sys"
   ]
  },
  {
   "cell_type": "code",
   "execution_count": 28,
   "id": "772d5d9b-0710-4f86-a1c0-fbcacd294fd3",
   "metadata": {},
   "outputs": [
    {
     "name": "stdout",
     "output_type": "stream",
     "text": [
      "CPU times: total: 15.6 ms\n",
      "Wall time: 37.3 ms\n",
      "CPU times: total: 46.9 ms\n",
      "Wall time: 152 ms\n"
     ]
    }
   ],
   "source": [
    "%time a_list = list(range(1000000))\n",
    "%time a_list = [x + 10 for x in a_list]"
   ]
  },
  {
   "cell_type": "code",
   "execution_count": 29,
   "id": "3fe028f2-b9a8-4cbb-84c3-e7600c265deb",
   "metadata": {},
   "outputs": [
    {
     "data": {
      "text/plain": [
       "8448728"
      ]
     },
     "execution_count": 29,
     "metadata": {},
     "output_type": "execute_result"
    }
   ],
   "source": [
    "sys.getsizeof(a_list)"
   ]
  },
  {
   "cell_type": "markdown",
   "id": "1c25aabe-106f-4fc6-bce1-780da6aec523",
   "metadata": {},
   "source": [
    "### Array Initializing using `np.array()`\n",
    "\n",
    "To create an array, we can simply pass a list of values (or any collection of values) into the `np.array()` function."
   ]
  },
  {
   "cell_type": "code",
   "execution_count": 30,
   "id": "85f0ab6f-0af7-4650-b76d-358e30199505",
   "metadata": {},
   "outputs": [],
   "source": [
    "# Array initialization\n",
    "a_array = np.array(range(1000000))"
   ]
  },
  {
   "cell_type": "code",
   "execution_count": 31,
   "id": "cd35659c-7860-4c7a-8c57-1f2839cc0639",
   "metadata": {},
   "outputs": [
    {
     "name": "stdout",
     "output_type": "stream",
     "text": [
      "CPU times: total: 0 ns\n",
      "Wall time: 3.78 ms\n"
     ]
    },
    {
     "data": {
      "text/plain": [
       "array([     10,      11,      12, ..., 1000007, 1000008, 1000009])"
      ]
     },
     "execution_count": 31,
     "metadata": {},
     "output_type": "execute_result"
    }
   ],
   "source": [
    "%time a_array + 10"
   ]
  },
  {
   "cell_type": "code",
   "execution_count": 32,
   "id": "c6f82ddb-ded4-4440-9a48-3e4a54971dfe",
   "metadata": {},
   "outputs": [
    {
     "data": {
      "text/plain": [
       "0.47345730623592097"
      ]
     },
     "execution_count": 32,
     "metadata": {},
     "output_type": "execute_result"
    }
   ],
   "source": [
    "sys.getsizeof(a_array) / sys.getsizeof(a_list)"
   ]
  },
  {
   "cell_type": "code",
   "execution_count": 33,
   "id": "93ed35a0-d853-42d7-ae89-25b2709f002a",
   "metadata": {},
   "outputs": [],
   "source": [
    "a = [1, 2, 4, 8, 16]\n",
    "array_a = np.array(a)"
   ]
  },
  {
   "cell_type": "code",
   "execution_count": 34,
   "id": "bde1098b-b802-4955-a0f5-c9f7df7e0d37",
   "metadata": {},
   "outputs": [
    {
     "data": {
      "text/plain": [
       "numpy.ndarray"
      ]
     },
     "execution_count": 34,
     "metadata": {},
     "output_type": "execute_result"
    }
   ],
   "source": [
    "type(array_a)"
   ]
  },
  {
   "cell_type": "markdown",
   "id": "f95b9bd8-ce7e-481d-9b34-a01afd7cdca2",
   "metadata": {},
   "source": [
    "### Creating an array of a specific data type"
   ]
  },
  {
   "cell_type": "code",
   "execution_count": 35,
   "id": "8a87f89d-c0b5-4aa2-bdc4-e53683bab171",
   "metadata": {},
   "outputs": [
    {
     "data": {
      "text/plain": [
       "array([ 1,  2,  4,  8, 16], dtype=int8)"
      ]
     },
     "execution_count": 35,
     "metadata": {},
     "output_type": "execute_result"
    }
   ],
   "source": [
    "array_b = np.array(a, dtype='int8')\n",
    "array_b"
   ]
  },
  {
   "cell_type": "markdown",
   "id": "ef74a57e-1039-41c3-b702-3240bd25ad18",
   "metadata": {},
   "source": [
    "### `np.arange(start, stop, step)`\n",
    "\n",
    "This function is similar to the `range()` function, but creates decimal number values instead of only integer values."
   ]
  },
  {
   "cell_type": "code",
   "execution_count": 36,
   "id": "5f82b5dc-e8e4-4427-99dc-644913f31c70",
   "metadata": {},
   "outputs": [
    {
     "data": {
      "text/plain": [
       "array([10. , 10.1, 10.2, 10.3, 10.4, 10.5, 10.6, 10.7, 10.8, 10.9, 11. ,\n",
       "       11.1, 11.2, 11.3, 11.4, 11.5, 11.6, 11.7, 11.8, 11.9, 12. , 12.1,\n",
       "       12.2, 12.3, 12.4, 12.5, 12.6, 12.7, 12.8, 12.9, 13. , 13.1, 13.2,\n",
       "       13.3, 13.4, 13.5, 13.6, 13.7, 13.8, 13.9, 14. , 14.1, 14.2, 14.3,\n",
       "       14.4, 14.5, 14.6, 14.7, 14.8, 14.9, 15. , 15.1, 15.2, 15.3, 15.4,\n",
       "       15.5, 15.6, 15.7, 15.8, 15.9, 16. , 16.1, 16.2, 16.3, 16.4, 16.5,\n",
       "       16.6, 16.7, 16.8, 16.9, 17. , 17.1, 17.2, 17.3, 17.4, 17.5, 17.6,\n",
       "       17.7, 17.8, 17.9, 18. , 18.1, 18.2, 18.3, 18.4, 18.5, 18.6, 18.7,\n",
       "       18.8, 18.9])"
      ]
     },
     "execution_count": 36,
     "metadata": {},
     "output_type": "execute_result"
    }
   ],
   "source": [
    "np.arange(10, 19, 0.1)"
   ]
  },
  {
   "cell_type": "markdown",
   "id": "d48cfdee-06d3-4e2f-9f8c-0fe3f7075493",
   "metadata": {},
   "source": [
    "### `array_object.reshape((dimensions))`\n",
    "\n",
    "The `reshape()` method is used to restructure an array into the specified dimensions.\n",
    "\n",
    "The number of elements in the array should be equal to the product of the dimensions."
   ]
  },
  {
   "cell_type": "code",
   "execution_count": 37,
   "id": "2a58d550-70c3-4047-8942-93b08b9a88da",
   "metadata": {},
   "outputs": [
    {
     "data": {
      "text/plain": [
       "array([ 0,  1,  2,  3,  4,  5,  6,  7,  8,  9, 10, 11, 12, 13, 14, 15])"
      ]
     },
     "execution_count": 37,
     "metadata": {},
     "output_type": "execute_result"
    }
   ],
   "source": [
    "# there are 16 elements in x\n",
    "x = np.arange(0, 16)\n",
    "x"
   ]
  },
  {
   "cell_type": "code",
   "execution_count": 38,
   "id": "45047a84-1474-4845-ba5d-74be159c6c58",
   "metadata": {},
   "outputs": [
    {
     "data": {
      "text/plain": [
       "array([[ 0,  1,  2,  3,  4,  5,  6,  7],\n",
       "       [ 8,  9, 10, 11, 12, 13, 14, 15]])"
      ]
     },
     "execution_count": 38,
     "metadata": {},
     "output_type": "execute_result"
    }
   ],
   "source": [
    "# we can make an array which has 2 rows and 8 columns\n",
    "x.reshape((2, 8))"
   ]
  },
  {
   "cell_type": "code",
   "execution_count": 39,
   "id": "522ce05e-9971-459b-a31c-5c76677356ed",
   "metadata": {},
   "outputs": [
    {
     "data": {
      "text/plain": [
       "array([[ 0,  1],\n",
       "       [ 2,  3],\n",
       "       [ 4,  5],\n",
       "       [ 6,  7],\n",
       "       [ 8,  9],\n",
       "       [10, 11],\n",
       "       [12, 13],\n",
       "       [14, 15]])"
      ]
     },
     "execution_count": 39,
     "metadata": {},
     "output_type": "execute_result"
    }
   ],
   "source": [
    "# or we can make an array which has 8 rows and 2 columns\n",
    "x.reshape((8, 2))"
   ]
  },
  {
   "cell_type": "code",
   "execution_count": 40,
   "id": "dd6e0361-94fa-4aa8-b61f-7ac5f4a7e462",
   "metadata": {},
   "outputs": [
    {
     "data": {
      "text/plain": [
       "array([[[ 0,  1,  2,  3]],\n",
       "\n",
       "       [[ 4,  5,  6,  7]],\n",
       "\n",
       "       [[ 8,  9, 10, 11]],\n",
       "\n",
       "       [[12, 13, 14, 15]]])"
      ]
     },
     "execution_count": 40,
     "metadata": {},
     "output_type": "execute_result"
    }
   ],
   "source": [
    "# we can also make a 3-D array\n",
    "x.reshape((4, 1, 4))"
   ]
  },
  {
   "cell_type": "markdown",
   "id": "973c446c-a889-457b-8af4-28c554bed394",
   "metadata": {},
   "source": [
    "### NumPy Array Attributes"
   ]
  },
  {
   "cell_type": "code",
   "execution_count": 41,
   "id": "56046d78-2cb3-4443-a3c3-dd355ec6cc2e",
   "metadata": {},
   "outputs": [
    {
     "data": {
      "text/plain": [
       "array([[ 0,  1,  2,  3,  4,  5,  6,  7],\n",
       "       [ 8,  9, 10, 11, 12, 13, 14, 15]])"
      ]
     },
     "execution_count": 41,
     "metadata": {},
     "output_type": "execute_result"
    }
   ],
   "source": [
    "array_1 = x.reshape((2, 8))\n",
    "array_2 = x.reshape((4, 1, 4))\n",
    "array_1"
   ]
  },
  {
   "cell_type": "markdown",
   "id": "b97988af-f669-42bf-aa08-cf9f7d042ef9",
   "metadata": {},
   "source": [
    "### `array_object.shape`\n",
    "\n",
    "Tells the dimensions of the array."
   ]
  },
  {
   "cell_type": "code",
   "execution_count": 42,
   "id": "871cb404-8664-4817-afa3-c27fb91229ae",
   "metadata": {},
   "outputs": [
    {
     "data": {
      "text/plain": [
       "(2, 8)"
      ]
     },
     "execution_count": 42,
     "metadata": {},
     "output_type": "execute_result"
    }
   ],
   "source": [
    "array_1.shape"
   ]
  },
  {
   "cell_type": "code",
   "execution_count": 43,
   "id": "dfabb5a9-ed04-4578-8caa-f618888e6dc6",
   "metadata": {},
   "outputs": [
    {
     "data": {
      "text/plain": [
       "(4, 1, 4)"
      ]
     },
     "execution_count": 43,
     "metadata": {},
     "output_type": "execute_result"
    }
   ],
   "source": [
    "array_2.shape"
   ]
  },
  {
   "cell_type": "code",
   "execution_count": 44,
   "id": "3efa8449-dc5f-4f2c-88cc-b9b49ba0ee9e",
   "metadata": {},
   "outputs": [
    {
     "data": {
      "text/plain": [
       "(16,)"
      ]
     },
     "execution_count": 44,
     "metadata": {},
     "output_type": "execute_result"
    }
   ],
   "source": [
    "x.shape"
   ]
  },
  {
   "cell_type": "markdown",
   "id": "d4e919a4-b3e0-4e24-bb22-8296d57ff52f",
   "metadata": {},
   "source": [
    "### `array_object.ndim`\n",
    "\n",
    "Tells the number of dimensions in the array."
   ]
  },
  {
   "cell_type": "code",
   "execution_count": 45,
   "id": "e1d80097-c0d5-443d-a561-b54927936838",
   "metadata": {},
   "outputs": [
    {
     "data": {
      "text/plain": [
       "2"
      ]
     },
     "execution_count": 45,
     "metadata": {},
     "output_type": "execute_result"
    }
   ],
   "source": [
    "array_1.ndim"
   ]
  },
  {
   "cell_type": "code",
   "execution_count": 46,
   "id": "a84aaed1-8244-4fd9-8b0b-80c6a494f713",
   "metadata": {},
   "outputs": [
    {
     "data": {
      "text/plain": [
       "3"
      ]
     },
     "execution_count": 46,
     "metadata": {},
     "output_type": "execute_result"
    }
   ],
   "source": [
    "array_2.ndim"
   ]
  },
  {
   "cell_type": "code",
   "execution_count": 47,
   "id": "64c330f3-98d4-404b-848d-bc17baac0e3b",
   "metadata": {},
   "outputs": [
    {
     "data": {
      "text/plain": [
       "1"
      ]
     },
     "execution_count": 47,
     "metadata": {},
     "output_type": "execute_result"
    }
   ],
   "source": [
    "x.ndim"
   ]
  },
  {
   "cell_type": "markdown",
   "id": "456a6cbb-97f9-4baf-a20f-6557b82d387d",
   "metadata": {},
   "source": [
    "### `array_object.T`\n",
    "\n",
    "Transposes the array."
   ]
  },
  {
   "cell_type": "code",
   "execution_count": 48,
   "id": "1507c83f-47e5-4db3-8a69-e63438b2f2d5",
   "metadata": {},
   "outputs": [
    {
     "data": {
      "text/plain": [
       "array([[ 0,  1,  2,  3,  4,  5,  6,  7],\n",
       "       [ 8,  9, 10, 11, 12, 13, 14, 15]])"
      ]
     },
     "execution_count": 48,
     "metadata": {},
     "output_type": "execute_result"
    }
   ],
   "source": [
    "array_1"
   ]
  },
  {
   "cell_type": "code",
   "execution_count": 49,
   "id": "94209ead-eb43-408c-ab66-daa9ebc907f8",
   "metadata": {},
   "outputs": [
    {
     "data": {
      "text/plain": [
       "array([[ 0,  8],\n",
       "       [ 1,  9],\n",
       "       [ 2, 10],\n",
       "       [ 3, 11],\n",
       "       [ 4, 12],\n",
       "       [ 5, 13],\n",
       "       [ 6, 14],\n",
       "       [ 7, 15]])"
      ]
     },
     "execution_count": 49,
     "metadata": {},
     "output_type": "execute_result"
    }
   ],
   "source": [
    "array_1.T"
   ]
  },
  {
   "cell_type": "markdown",
   "id": "f9b6a216-14ac-4773-a3f9-8b7c94c26a75",
   "metadata": {},
   "source": [
    "### Array Operations"
   ]
  },
  {
   "cell_type": "markdown",
   "id": "699224fd-41f7-4e3a-b304-7ea170f2125d",
   "metadata": {},
   "source": [
    "#### Copies of an array\n",
    "\n",
    "When we assign an array to a new variable and make changes to it, the original array is also changed."
   ]
  },
  {
   "cell_type": "code",
   "execution_count": 50,
   "id": "07e7f26b-65ab-442e-9376-13113c3ae75c",
   "metadata": {},
   "outputs": [
    {
     "data": {
      "text/plain": [
       "array([[ 0,  1,  2,  3,  4,  5,  6,  7],\n",
       "       [ 8,  9, 10, 11, 12, 13, 14, 15]])"
      ]
     },
     "execution_count": 50,
     "metadata": {},
     "output_type": "execute_result"
    }
   ],
   "source": [
    "array_1"
   ]
  },
  {
   "cell_type": "code",
   "execution_count": 51,
   "id": "01910615-4b74-4efa-93b0-6a5e3359ebb3",
   "metadata": {},
   "outputs": [],
   "source": [
    "array_1_copy = array_1"
   ]
  },
  {
   "cell_type": "code",
   "execution_count": 52,
   "id": "6ab718ff-3af0-434d-8753-3a235e6615dd",
   "metadata": {},
   "outputs": [
    {
     "data": {
      "text/plain": [
       "array([[10, 11, 12, 13, 14, 15, 16, 17],\n",
       "       [18, 19, 20, 21, 22, 23, 24, 25]])"
      ]
     },
     "execution_count": 52,
     "metadata": {},
     "output_type": "execute_result"
    }
   ],
   "source": [
    "array_1_copy += 10\n",
    "array_1_copy"
   ]
  },
  {
   "cell_type": "code",
   "execution_count": 53,
   "id": "d1b84b1d-cc11-40dd-87f7-f8ce3a478a08",
   "metadata": {},
   "outputs": [
    {
     "data": {
      "text/plain": [
       "array([[10, 11, 12, 13, 14, 15, 16, 17],\n",
       "       [18, 19, 20, 21, 22, 23, 24, 25]])"
      ]
     },
     "execution_count": 53,
     "metadata": {},
     "output_type": "execute_result"
    }
   ],
   "source": [
    "array_1"
   ]
  },
  {
   "cell_type": "markdown",
   "id": "1aa97fc7-085f-4df3-8c52-568f09f463ed",
   "metadata": {},
   "source": [
    "We use the `copy()` method to make a copy of the array."
   ]
  },
  {
   "cell_type": "code",
   "execution_count": 54,
   "id": "2e3dfcc8-5657-4183-98ac-6ae81cec523a",
   "metadata": {},
   "outputs": [],
   "source": [
    "array_1 = x.reshape((2, 8))\n",
    "array_1_copy = array_1.copy()"
   ]
  },
  {
   "cell_type": "code",
   "execution_count": 55,
   "id": "cd4b54df-f323-46b7-a0a2-baa39ecaefd3",
   "metadata": {},
   "outputs": [
    {
     "data": {
      "text/plain": [
       "array([[10, 11, 12, 13, 14, 15, 16, 17],\n",
       "       [18, 19, 20, 21, 22, 23, 24, 25]])"
      ]
     },
     "execution_count": 55,
     "metadata": {},
     "output_type": "execute_result"
    }
   ],
   "source": [
    "array_1"
   ]
  },
  {
   "cell_type": "code",
   "execution_count": 56,
   "id": "87717604-e5c3-4e03-b268-3640185a8f5d",
   "metadata": {},
   "outputs": [
    {
     "data": {
      "text/plain": [
       "array([[20, 21, 22, 23, 24, 25, 26, 27],\n",
       "       [28, 29, 30, 31, 32, 33, 34, 35]])"
      ]
     },
     "execution_count": 56,
     "metadata": {},
     "output_type": "execute_result"
    }
   ],
   "source": [
    "array_1_copy += 10\n",
    "array_1_copy"
   ]
  },
  {
   "cell_type": "code",
   "execution_count": 57,
   "id": "9adcdabe-ea9d-4342-a20c-31e476f663b5",
   "metadata": {},
   "outputs": [
    {
     "data": {
      "text/plain": [
       "array([[10, 11, 12, 13, 14, 15, 16, 17],\n",
       "       [18, 19, 20, 21, 22, 23, 24, 25]])"
      ]
     },
     "execution_count": 57,
     "metadata": {},
     "output_type": "execute_result"
    }
   ],
   "source": [
    "array_1"
   ]
  },
  {
   "cell_type": "markdown",
   "id": "e9ea31c0-2285-4952-8d6f-a11f4c27223e",
   "metadata": {},
   "source": [
    "### Array methods"
   ]
  },
  {
   "cell_type": "markdown",
   "id": "e3b2289f-9592-43e4-bf0b-c3a0a5694a13",
   "metadata": {},
   "source": [
    "#### `array_object.transpose()`\n",
    "\n",
    "This method transposes an array: converts rows into columns and columns into rows."
   ]
  },
  {
   "cell_type": "code",
   "execution_count": 58,
   "id": "5d0b5f1b-38d6-4fd9-93d8-d40a6cb87c9f",
   "metadata": {},
   "outputs": [
    {
     "data": {
      "text/plain": [
       "array([[10, 18],\n",
       "       [11, 19],\n",
       "       [12, 20],\n",
       "       [13, 21],\n",
       "       [14, 22],\n",
       "       [15, 23],\n",
       "       [16, 24],\n",
       "       [17, 25]])"
      ]
     },
     "execution_count": 58,
     "metadata": {},
     "output_type": "execute_result"
    }
   ],
   "source": [
    "array_1.transpose()"
   ]
  },
  {
   "cell_type": "markdown",
   "id": "aab58f50-38ae-4341-ba2d-5ec9be3d9188",
   "metadata": {},
   "source": [
    "#### `array_object.sort()`\n",
    "\n",
    "This method is used to sort an array.\n",
    "- by default it sorts by rows"
   ]
  },
  {
   "cell_type": "code",
   "execution_count": 59,
   "id": "cbf69e62-f27e-471a-8a14-79cd2fcfab1c",
   "metadata": {},
   "outputs": [
    {
     "data": {
      "text/plain": [
       "array([[ 7,  2,  4,  8],\n",
       "       [ 5, 18,  2, -1]])"
      ]
     },
     "execution_count": 59,
     "metadata": {},
     "output_type": "execute_result"
    }
   ],
   "source": [
    "array_4 = np.array([[7, 2, 4, 8], [5, 18, 2, -1]])\n",
    "array_4"
   ]
  },
  {
   "cell_type": "code",
   "execution_count": 60,
   "id": "cb05992a-cb99-4d8e-aa80-8d2b4cf7259b",
   "metadata": {},
   "outputs": [
    {
     "data": {
      "text/plain": [
       "array([[ 2,  4,  7,  8],\n",
       "       [-1,  2,  5, 18]])"
      ]
     },
     "execution_count": 60,
     "metadata": {},
     "output_type": "execute_result"
    }
   ],
   "source": [
    "array_4.sort()\n",
    "array_4"
   ]
  },
  {
   "cell_type": "markdown",
   "id": "438ca2b6-7f4b-4b93-9292-dae8ea70f0b6",
   "metadata": {},
   "source": [
    "- we can specify which axis to sort along"
   ]
  },
  {
   "cell_type": "code",
   "execution_count": 61,
   "id": "c109f931-065a-4c3c-8d26-2bbcc51be06a",
   "metadata": {},
   "outputs": [
    {
     "data": {
      "text/plain": [
       "array([[-1,  2,  5,  8],\n",
       "       [ 2,  4,  7, 18]])"
      ]
     },
     "execution_count": 61,
     "metadata": {},
     "output_type": "execute_result"
    }
   ],
   "source": [
    "array_4.sort(axis=0)\n",
    "array_4"
   ]
  },
  {
   "cell_type": "markdown",
   "id": "e93bf401-8459-4396-80e6-4db9cb68337d",
   "metadata": {},
   "source": [
    "#### `array_object.resize(r, c)`\n",
    "\n",
    "This method changes the dimensions of an array."
   ]
  },
  {
   "cell_type": "code",
   "execution_count": 62,
   "id": "b02203b7-9ff1-4cda-b45d-d5000049afe9",
   "metadata": {},
   "outputs": [
    {
     "data": {
      "text/plain": [
       "array([[-1,  2],\n",
       "       [ 5,  8],\n",
       "       [ 2,  4],\n",
       "       [ 7, 18]])"
      ]
     },
     "execution_count": 62,
     "metadata": {},
     "output_type": "execute_result"
    }
   ],
   "source": [
    "array_4.resize(4, 2)\n",
    "array_4"
   ]
  },
  {
   "cell_type": "markdown",
   "id": "1c0ebd2c-0d82-4bd4-b38e-65fb1ad3f6c4",
   "metadata": {},
   "source": [
    "#### `array_object.flatten()`\n",
    "\n",
    "Used to create a 1 dimensional copy of an n-dimensional array. It consumes more space as it creates a copy."
   ]
  },
  {
   "cell_type": "code",
   "execution_count": 63,
   "id": "37b69f80-8e84-4ce0-8c8a-44b4febbc5fc",
   "metadata": {},
   "outputs": [
    {
     "data": {
      "text/plain": [
       "array([-1,  2,  5,  8,  2,  4,  7, 18])"
      ]
     },
     "execution_count": 63,
     "metadata": {},
     "output_type": "execute_result"
    }
   ],
   "source": [
    "array_4.flatten()"
   ]
  },
  {
   "cell_type": "markdown",
   "id": "0f489698-211a-4f54-813d-ad2e90e533ed",
   "metadata": {},
   "source": [
    "#### `array_object.ravel()`\n",
    "\n",
    "Similar to the `flatten()` method, but does not create a copy and makes changes to the original array."
   ]
  },
  {
   "cell_type": "code",
   "execution_count": 64,
   "id": "8d44eb34-35c3-4ac0-8a3f-aa61de674a94",
   "metadata": {},
   "outputs": [
    {
     "data": {
      "text/plain": [
       "array([-1,  2,  5,  8,  2,  4,  7, 18])"
      ]
     },
     "execution_count": 64,
     "metadata": {},
     "output_type": "execute_result"
    }
   ],
   "source": [
    "array_4.ravel()"
   ]
  },
  {
   "cell_type": "markdown",
   "id": "bbac3c81-604a-4392-b9a9-6fc6ac5c1596",
   "metadata": {},
   "source": [
    "#### `array_object.sum()`\n",
    "\n",
    "This method calculates the sum of along the specified axis. When no axis is specifies, it calculates the sum of the entire array."
   ]
  },
  {
   "cell_type": "code",
   "execution_count": 65,
   "id": "f87bc704-f5ff-453e-acd2-3eb95df5bfb2",
   "metadata": {},
   "outputs": [
    {
     "data": {
      "text/plain": [
       "45"
      ]
     },
     "execution_count": 65,
     "metadata": {},
     "output_type": "execute_result"
    }
   ],
   "source": [
    "array_4.sum()"
   ]
  },
  {
   "cell_type": "code",
   "execution_count": 66,
   "id": "6fb8f719-684a-4b42-a672-f7eb7d76feef",
   "metadata": {},
   "outputs": [
    {
     "data": {
      "text/plain": [
       "array([ 1, 13,  6, 25])"
      ]
     },
     "execution_count": 66,
     "metadata": {},
     "output_type": "execute_result"
    }
   ],
   "source": [
    "array_4.sum(axis=1)"
   ]
  },
  {
   "cell_type": "code",
   "execution_count": 67,
   "id": "6bb56d75-d816-4319-9e4c-fb00672aabf1",
   "metadata": {},
   "outputs": [
    {
     "data": {
      "text/plain": [
       "array([13, 32])"
      ]
     },
     "execution_count": 67,
     "metadata": {},
     "output_type": "execute_result"
    }
   ],
   "source": [
    "array_4.sum(axis=0)"
   ]
  },
  {
   "cell_type": "markdown",
   "id": "2a6c72b5-6ccc-424f-8d63-ba803f5675ca",
   "metadata": {},
   "source": [
    "#### `np.matmul(array_object_1, array_object_2)`\n",
    "\n",
    "Returns the result of matrix multiplcation."
   ]
  },
  {
   "cell_type": "code",
   "execution_count": 68,
   "id": "041cd196-e215-45ad-9715-0eb4715a1b09",
   "metadata": {},
   "outputs": [
    {
     "name": "stdout",
     "output_type": "stream",
     "text": [
      "a:\n",
      "[[0.58835523 0.61145144 0.64792665]\n",
      " [0.74590975 0.96217479 0.83758703]]\n",
      "b:\n",
      "[[0.02562016 0.65516998]\n",
      " [0.72562518 0.43103449]\n",
      " [0.61924353 0.44186192]]\n",
      "a * b:\n",
      "[[0.85998271 0.93532346]\n",
      " [1.23595894 1.27352601]]\n"
     ]
    }
   ],
   "source": [
    "a = np.random.rand(2, 3)\n",
    "b = np.random.rand(3, 2)\n",
    "\n",
    "print(f'a:\\n{a}\\nb:\\n{b}\\na * b:\\n{np.matmul(a, b)}')"
   ]
  },
  {
   "cell_type": "markdown",
   "id": "3606643b-f634-4f93-8efa-86aad4912f43",
   "metadata": {},
   "source": [
    "#### `@` operator\n",
    "\n",
    "Instead of using `np.matmul()`, we can use the `@` operator to find the matrix multiplcation product of two arrays."
   ]
  },
  {
   "cell_type": "code",
   "execution_count": 69,
   "id": "01665f86-e0da-4c47-9b06-e0523fd3657f",
   "metadata": {},
   "outputs": [
    {
     "name": "stdout",
     "output_type": "stream",
     "text": [
      "a:\n",
      "[[0.58835523 0.61145144 0.64792665]\n",
      " [0.74590975 0.96217479 0.83758703]]\n",
      "b:\n",
      "[[0.02562016 0.65516998]\n",
      " [0.72562518 0.43103449]\n",
      " [0.61924353 0.44186192]]\n",
      "a * b:\n",
      "[[0.85998271 0.93532346]\n",
      " [1.23595894 1.27352601]]\n"
     ]
    }
   ],
   "source": [
    "print(f'a:\\n{a}\\nb:\\n{b}\\na * b:\\n{a @ b}')"
   ]
  },
  {
   "cell_type": "markdown",
   "id": "8525bf11-79cf-4318-83df-5f7902a18f49",
   "metadata": {},
   "source": [
    "### Array Broadcasting\n",
    "\n",
    "Array broadcasting is a method in which a simple mathematical operation is performed across all elements of an array."
   ]
  },
  {
   "cell_type": "code",
   "execution_count": 70,
   "id": "334e9438-9907-4642-93d4-39c7eeba05e9",
   "metadata": {},
   "outputs": [
    {
     "data": {
      "text/plain": [
       "[1, 2, 3, 4, 5]"
      ]
     },
     "execution_count": 70,
     "metadata": {},
     "output_type": "execute_result"
    }
   ],
   "source": [
    "list_var = [1, 2, 3, 4, 5]\n",
    "list_var"
   ]
  },
  {
   "cell_type": "markdown",
   "id": "1033c627-6460-49fa-9311-da19ef5ba1d5",
   "metadata": {},
   "source": [
    "To add 5 to all the elements of the above list, we would need to run a loop"
   ]
  },
  {
   "cell_type": "code",
   "execution_count": 71,
   "id": "14745cea-cf0b-40bd-931f-b78254768778",
   "metadata": {},
   "outputs": [
    {
     "data": {
      "text/plain": [
       "[6, 7, 8, 9, 10]"
      ]
     },
     "execution_count": 71,
     "metadata": {},
     "output_type": "execute_result"
    }
   ],
   "source": [
    "for i in range(len(list_var)):\n",
    "    list_var[i] = list_var[i] + 5\n",
    "\n",
    "list_var"
   ]
  },
  {
   "cell_type": "markdown",
   "id": "4e1e8dc1-e9f1-4845-96ee-84e6171d628c",
   "metadata": {},
   "source": [
    "In case of an array, we can specify this operation without the use of loops"
   ]
  },
  {
   "cell_type": "code",
   "execution_count": 72,
   "id": "5fa461ee-56b6-4f82-9f3c-ad0c380cae31",
   "metadata": {},
   "outputs": [
    {
     "data": {
      "text/plain": [
       "array([ 6,  7,  8,  9, 10])"
      ]
     },
     "execution_count": 72,
     "metadata": {},
     "output_type": "execute_result"
    }
   ],
   "source": [
    "array_var = np.array(list_var)\n",
    "array_var"
   ]
  },
  {
   "cell_type": "code",
   "execution_count": 73,
   "id": "b7bf87b0-b7a9-4c8c-a433-f020a077c836",
   "metadata": {},
   "outputs": [
    {
     "data": {
      "text/plain": [
       "array([11, 12, 13, 14, 15])"
      ]
     },
     "execution_count": 73,
     "metadata": {},
     "output_type": "execute_result"
    }
   ],
   "source": [
    "array_var += 5\n",
    "array_var"
   ]
  },
  {
   "cell_type": "markdown",
   "id": "4565f09e-d601-4278-af8e-6a21a05106ef",
   "metadata": {},
   "source": [
    "In the above statement, we are \"broadcasting\" `5` so that it is added to all the elements in the array. This broadcasting is what makes NumPy very optimized. NumPy is not directly used in general data analysis, as pandas is built on NumPy. All the optimizations developed for NumPy are available in pandas."
   ]
  },
  {
   "cell_type": "markdown",
   "id": "ee35e9a4-a613-45ea-ae09-dccee6287b67",
   "metadata": {},
   "source": [
    "### Other ways to initialize an array"
   ]
  },
  {
   "cell_type": "markdown",
   "id": "6d20e8f8-480e-4d79-933a-feabc51b4729",
   "metadata": {},
   "source": [
    "#### `np.random.rand(r, c)`\n",
    "\n",
    "This function creates an array of dimensions `r` rows and `c` columns. The values of this array are in the range [0, 1)."
   ]
  },
  {
   "cell_type": "code",
   "execution_count": 74,
   "id": "13c5ce82-5ef0-4089-890a-31ae040599a2",
   "metadata": {},
   "outputs": [
    {
     "data": {
      "text/plain": [
       "array([[0.00560478, 0.08293671, 0.09638307, 0.73532143],\n",
       "       [0.57619885, 0.44625321, 0.69472131, 0.4503342 ],\n",
       "       [0.89752081, 0.52645961, 0.32182344, 0.75294222]])"
      ]
     },
     "execution_count": 74,
     "metadata": {},
     "output_type": "execute_result"
    }
   ],
   "source": [
    "np.random.rand(3, 4)"
   ]
  },
  {
   "cell_type": "markdown",
   "id": "59cdf70d-4990-49ef-91aa-b057c91081ca",
   "metadata": {},
   "source": [
    "`np.random.randn(r, c)`\n",
    "\n",
    "This function creates an array of dimensions `r` rows and `c` columns. "
   ]
  },
  {
   "cell_type": "code",
   "execution_count": 75,
   "id": "a7301ce3-39b5-42a5-915f-88c804e82441",
   "metadata": {},
   "outputs": [
    {
     "data": {
      "text/plain": [
       "array([[-0.91202811, -0.19131126, -2.61808894, -1.25174053],\n",
       "       [-0.3498885 ,  0.24950844,  0.14569433, -0.98068742],\n",
       "       [-0.26026517,  0.53697237, -0.21697246,  0.56682613]])"
      ]
     },
     "execution_count": 75,
     "metadata": {},
     "output_type": "execute_result"
    }
   ],
   "source": [
    "np.random.randn(3, 4)"
   ]
  },
  {
   "cell_type": "markdown",
   "id": "5a757cb9-8724-4aaa-a8f1-6a4d7964e600",
   "metadata": {},
   "source": [
    "### `np.random.randint(n, size=(r, c))`\n",
    "\n",
    "This function creates an array with integer elements, with values less than `n` and dimensions `r` rows and `c` columns."
   ]
  },
  {
   "cell_type": "code",
   "execution_count": 76,
   "id": "6e3fb1d3-6586-4660-b628-d0ba86f857ce",
   "metadata": {},
   "outputs": [
    {
     "data": {
      "text/plain": [
       "array([[ 9,  7],\n",
       "       [ 2,  0],\n",
       "       [11,  7]])"
      ]
     },
     "execution_count": 76,
     "metadata": {},
     "output_type": "execute_result"
    }
   ],
   "source": [
    "np.random.randint(15, size=(3, 2))"
   ]
  },
  {
   "cell_type": "markdown",
   "id": "5a6858b3-1f44-41d8-a719-7c8bbbb60a5e",
   "metadata": {},
   "source": [
    "### `np.random.random_sample((r, c))`\n",
    "\n",
    "This function creates an array of `r` rows and `c` columns, with decimal numbers."
   ]
  },
  {
   "cell_type": "code",
   "execution_count": 77,
   "id": "a6c015d9-69c9-4b29-83e0-5f83b8dec5e2",
   "metadata": {},
   "outputs": [
    {
     "data": {
      "text/plain": [
       "array([[0.3345981 , 0.33763025],\n",
       "       [0.65568709, 0.85394378],\n",
       "       [0.62677434, 0.86812818]])"
      ]
     },
     "execution_count": 77,
     "metadata": {},
     "output_type": "execute_result"
    }
   ],
   "source": [
    "np.random.random_sample((3, 2))"
   ]
  },
  {
   "cell_type": "markdown",
   "id": "a928367a-0b6c-4ee8-a040-39b40b40eb01",
   "metadata": {},
   "source": [
    "`np.zeros((r, c))`\n",
    "\n",
    "This function creates an array with `r` rows and `c` columns, with all 0."
   ]
  },
  {
   "cell_type": "code",
   "execution_count": 78,
   "id": "e24447c1-808b-4122-a38d-d0bc25fbf171",
   "metadata": {},
   "outputs": [
    {
     "data": {
      "text/plain": [
       "array([[0., 0.],\n",
       "       [0., 0.],\n",
       "       [0., 0.],\n",
       "       [0., 0.]])"
      ]
     },
     "execution_count": 78,
     "metadata": {},
     "output_type": "execute_result"
    }
   ],
   "source": [
    "np.zeros((4, 2))"
   ]
  },
  {
   "cell_type": "markdown",
   "id": "8395a714-6a72-4f98-8a1a-34c2503e268e",
   "metadata": {},
   "source": [
    "`np.ones((r, c))`\n",
    "\n",
    "This function creates an array of all ones, with `r` rows and `c` columns."
   ]
  },
  {
   "cell_type": "markdown",
   "id": "407601f7-b838-49fc-b25e-e739849924f3",
   "metadata": {},
   "source": [
    "`np.identity(n)`\n",
    "\n",
    "This function creates an identity matrix with `n` rows and columns."
   ]
  },
  {
   "cell_type": "code",
   "execution_count": 79,
   "id": "53069095-a413-409b-bfb2-ed4ec43ff052",
   "metadata": {},
   "outputs": [
    {
     "data": {
      "text/plain": [
       "array([[1., 0., 0., 0., 0., 0., 0.],\n",
       "       [0., 1., 0., 0., 0., 0., 0.],\n",
       "       [0., 0., 1., 0., 0., 0., 0.],\n",
       "       [0., 0., 0., 1., 0., 0., 0.],\n",
       "       [0., 0., 0., 0., 1., 0., 0.],\n",
       "       [0., 0., 0., 0., 0., 1., 0.],\n",
       "       [0., 0., 0., 0., 0., 0., 1.]])"
      ]
     },
     "execution_count": 79,
     "metadata": {},
     "output_type": "execute_result"
    }
   ],
   "source": [
    "np.identity(7)"
   ]
  },
  {
   "cell_type": "markdown",
   "id": "3c83d85e-7e1e-4f9a-9789-f2ba659632c0",
   "metadata": {},
   "source": [
    "`np.eye(n)`\n",
    "\n",
    "Same as `identity(n)`, creates an identity matrix with `n` rows and columns."
   ]
  },
  {
   "cell_type": "code",
   "execution_count": 80,
   "id": "fcbc629a-6ce4-4595-bff5-52c255ab946f",
   "metadata": {},
   "outputs": [
    {
     "data": {
      "text/plain": [
       "array([[1., 0., 0., 0., 0., 0., 0.],\n",
       "       [0., 1., 0., 0., 0., 0., 0.],\n",
       "       [0., 0., 1., 0., 0., 0., 0.],\n",
       "       [0., 0., 0., 1., 0., 0., 0.],\n",
       "       [0., 0., 0., 0., 1., 0., 0.],\n",
       "       [0., 0., 0., 0., 0., 1., 0.],\n",
       "       [0., 0., 0., 0., 0., 0., 1.]])"
      ]
     },
     "execution_count": 80,
     "metadata": {},
     "output_type": "execute_result"
    }
   ],
   "source": [
    "np.eye(7)"
   ]
  },
  {
   "cell_type": "markdown",
   "id": "e5d0bf12-ddc0-4aac-a038-c4f1d69bd1c2",
   "metadata": {},
   "source": [
    "### `np.full((r, c), n)`\n",
    "\n",
    "This function creates an array with `r` rows and `c` columns, which has `n` as elements."
   ]
  },
  {
   "cell_type": "code",
   "execution_count": 81,
   "id": "75e20250-2094-4a21-82de-4e20fd8c7c3d",
   "metadata": {},
   "outputs": [
    {
     "data": {
      "text/plain": [
       "array([[8, 8, 8],\n",
       "       [8, 8, 8]])"
      ]
     },
     "execution_count": 81,
     "metadata": {},
     "output_type": "execute_result"
    }
   ],
   "source": [
    "np.full((2, 3), 8)"
   ]
  },
  {
   "cell_type": "markdown",
   "id": "4df255c0-3926-424b-b618-bc2410c355d5",
   "metadata": {},
   "source": [
    "`np.full_like(array, n)`\n",
    "\n",
    "This function creates an array in the shape of another array, with `n` as its element."
   ]
  },
  {
   "cell_type": "markdown",
   "id": "db44c3e3-0917-4fb5-a195-65a948f459ca",
   "metadata": {},
   "source": [
    "`np.linspace(start, stop, n)`\n",
    "\n",
    "This function creates a one-dimensional array with `n` equally spaced values between `start` and `stop`."
   ]
  },
  {
   "cell_type": "code",
   "execution_count": 82,
   "id": "73d828cd-5532-4d90-b0e4-8c7ceeb87cf2",
   "metadata": {},
   "outputs": [
    {
     "data": {
      "text/plain": [
       "array([10.        , 10.10204082, 10.20408163, 10.30612245, 10.40816327,\n",
       "       10.51020408, 10.6122449 , 10.71428571, 10.81632653, 10.91836735,\n",
       "       11.02040816, 11.12244898, 11.2244898 , 11.32653061, 11.42857143,\n",
       "       11.53061224, 11.63265306, 11.73469388, 11.83673469, 11.93877551,\n",
       "       12.04081633, 12.14285714, 12.24489796, 12.34693878, 12.44897959,\n",
       "       12.55102041, 12.65306122, 12.75510204, 12.85714286, 12.95918367,\n",
       "       13.06122449, 13.16326531, 13.26530612, 13.36734694, 13.46938776,\n",
       "       13.57142857, 13.67346939, 13.7755102 , 13.87755102, 13.97959184,\n",
       "       14.08163265, 14.18367347, 14.28571429, 14.3877551 , 14.48979592,\n",
       "       14.59183673, 14.69387755, 14.79591837, 14.89795918, 15.        ])"
      ]
     },
     "execution_count": 82,
     "metadata": {},
     "output_type": "execute_result"
    }
   ],
   "source": [
    "np.linspace(10, 15, 50)"
   ]
  },
  {
   "cell_type": "markdown",
   "id": "5adc2a85-4850-431c-816f-871f3fafbbea",
   "metadata": {},
   "source": [
    "### pandas\n",
    "\n",
    "`pandas` is a Python library most commonly used for working with tabular data."
   ]
  },
  {
   "cell_type": "code",
   "execution_count": null,
   "id": "87a39771-cd9b-4f53-8eb7-68a7c544c79e",
   "metadata": {},
   "outputs": [],
   "source": [
    "# importing pandas library to the current session\n",
    "import pandas as pd\n",
    "import warnings\n",
    "\n",
    "# specifying Jupyter to ignore warnings, to keep the notebook clean\n",
    "warnings.filterwarnings(\"ignore\")\n",
    "\n",
    "# specifying pandas to display all columns of the dataframe in this notebook\n",
    "pd.set_option(\"display.max_columns\", None)"
   ]
  },
  {
   "cell_type": "code",
   "execution_count": null,
   "id": "1c49335b-cea6-4e59-8d7e-09b71e2ac309",
   "metadata": {},
   "outputs": [],
   "source": [
    "path = r\"E:\\data\\superstore.xls\""
   ]
  },
  {
   "cell_type": "code",
   "execution_count": null,
   "id": "4bb46a8a-e475-4547-a40d-c0da8c0e99cb",
   "metadata": {},
   "outputs": [],
   "source": [
    "# importing our table from the location and storing it in the \"data\" variable\n",
    "# this variable can be anything, superstore_data, superstoredata, sdata\n",
    "data = pd.read_excel(path)\n",
    "data"
   ]
  },
  {
   "cell_type": "code",
   "execution_count": null,
   "id": "8b7e3abc-2b2f-479d-8d1b-651413224df4",
   "metadata": {},
   "outputs": [],
   "source": [
    "# checking the data type of variable data\n",
    "type(data)"
   ]
  },
  {
   "cell_type": "markdown",
   "id": "e086af2d-0ce9-4643-a354-14f125561ea8",
   "metadata": {},
   "source": [
    "### `datafram_obj.info()`\n",
    "- displays the number of records in the data frame\n",
    "- index of fields in the dataframe\n",
    "- name of fields in the dataframe\n",
    "- count of non-null values in each field\n",
    "- data type of each field"
   ]
  },
  {
   "cell_type": "code",
   "execution_count": null,
   "id": "97b58312-2745-4003-b2f2-7ab5cddac523",
   "metadata": {},
   "outputs": [],
   "source": [
    "# getting information about our table\n",
    "data.info()"
   ]
  },
  {
   "cell_type": "markdown",
   "id": "ffd932b4-5537-4f91-bae0-8468c274555d",
   "metadata": {},
   "source": [
    "### `dataframe_obj.describe()`\n",
    "- displays summary statistics of fields in the dataframe\n",
    "- we can use `include` or `exclude` to get summary statistics of particular type of fields\n",
    "    1. `number`: for numeric fields\n",
    "    2. `datetime`: for datetime fields\n",
    "    3. `object`: for string fields"
   ]
  },
  {
   "cell_type": "code",
   "execution_count": null,
   "id": "5b638554-ce5b-44a8-a26b-9cc3f4c4124c",
   "metadata": {},
   "outputs": [],
   "source": [
    "# getting summary statistics of columns\n",
    "data.describe()"
   ]
  },
  {
   "cell_type": "code",
   "execution_count": null,
   "id": "7b0526dd-8393-4d40-9199-13afbe18a230",
   "metadata": {},
   "outputs": [],
   "source": [
    "# getting summary statistics of \"object\" type columns\n",
    "data.describe(include=\"object\")"
   ]
  },
  {
   "cell_type": "code",
   "execution_count": null,
   "id": "e101039d-93f2-40ec-9dff-28133e2aa9bd",
   "metadata": {},
   "outputs": [],
   "source": [
    "# getting summary statistics of \"datetime\" type columns\n",
    "data.describe(include=\"datetime\")"
   ]
  },
  {
   "cell_type": "code",
   "execution_count": null,
   "id": "2a6bbb1c-4fe5-4394-8cf6-595cd80f1794",
   "metadata": {},
   "outputs": [],
   "source": [
    "# getting summary statistics of numeric columns\n",
    "data.describe(include=\"number\")"
   ]
  },
  {
   "cell_type": "markdown",
   "id": "dfc45d84-fe9a-40ba-ab74-fa3f197aaeda",
   "metadata": {},
   "source": [
    "### `dataframe.columns`\n",
    "- the `dataframe.columns` attribute is used to fetch the list of headers."
   ]
  },
  {
   "cell_type": "code",
   "execution_count": null,
   "id": "c04e3626-2894-4ef7-ba51-355293937633",
   "metadata": {},
   "outputs": [],
   "source": [
    "# getting the names of columns in our table\n",
    "data.columns\n",
    "\n",
    "# notice that columns does not have brackets, it is an attribute, not a method"
   ]
  },
  {
   "cell_type": "markdown",
   "id": "3145b775-f749-4d65-a777-0f4bdd67a80a",
   "metadata": {},
   "source": [
    "### `dataframe.shape`\n",
    "- the `dataframe.shape` attribute is used to fetch the number of rows and columns of the dataframe."
   ]
  },
  {
   "cell_type": "code",
   "execution_count": null,
   "id": "22dcf9a0-bb07-4ed9-a5b8-dc3065cee439",
   "metadata": {},
   "outputs": [],
   "source": [
    "data.shape"
   ]
  },
  {
   "cell_type": "markdown",
   "id": "a4aebba3-2f93-47cb-b3b5-36180bf864bd",
   "metadata": {},
   "source": [
    "### `dataframe.index`\n",
    "- this attribute is used to fetch the indices of the dataframe."
   ]
  },
  {
   "cell_type": "code",
   "execution_count": null,
   "id": "db11048f-ed37-4663-9c90-888a75fcad3f",
   "metadata": {},
   "outputs": [],
   "source": [
    "data.index"
   ]
  },
  {
   "cell_type": "markdown",
   "id": "6106cc00-9d80-42b1-931c-3dbe475a2197",
   "metadata": {},
   "source": [
    "### `dataframe.size`\n",
    "- this attribute fetches the total number of cells in a dataframe."
   ]
  },
  {
   "cell_type": "code",
   "execution_count": null,
   "id": "f8dbba1a-19ca-4a95-b702-1a69deb8cfcc",
   "metadata": {},
   "outputs": [],
   "source": [
    "# size tells us the total number of cells in the DataFrame\n",
    "data.size"
   ]
  },
  {
   "cell_type": "markdown",
   "id": "64ee5fc5-fec4-4523-a099-8ac248328e46",
   "metadata": {},
   "source": [
    "### `dataframe.head(n)`\n",
    "- the `head` method is used to fetch `n` number of rows from the start of the dataframe. By default, it fetches 5 rows."
   ]
  },
  {
   "cell_type": "code",
   "execution_count": null,
   "id": "e1baa077-258d-4b03-962e-6c9fad070146",
   "metadata": {},
   "outputs": [],
   "source": [
    "data.head(10)"
   ]
  },
  {
   "cell_type": "markdown",
   "id": "2db8c3e6-5218-40ef-9036-ffbcd9f29509",
   "metadata": {},
   "source": [
    "### `dataframe.tail(n)`\n",
    "- the `tail` method is used to fetch `n` number of rows from the end of the dataframe. By default, it fetches 5 rows."
   ]
  },
  {
   "cell_type": "code",
   "execution_count": null,
   "id": "dc4c25e9-679a-45d7-8197-dc6af95cb0b2",
   "metadata": {},
   "outputs": [],
   "source": [
    "data.tail()"
   ]
  },
  {
   "cell_type": "markdown",
   "id": "b644b285-a1c3-4d33-ba47-33a33920c9cd",
   "metadata": {},
   "source": [
    "### `dataframe.sample(n)`\n",
    "- the `sample` method is used to fetch `n` number of rows, without replacement, from a dataset. It randomly selects the rows, in a way that each row has equal probability of being fetched.\n",
    "- by default, it fetches 1 row."
   ]
  },
  {
   "cell_type": "code",
   "execution_count": null,
   "id": "74f7943e-d13b-4cfa-85e6-32a65f0f46b9",
   "metadata": {},
   "outputs": [],
   "source": [
    "data.sample(5)"
   ]
  },
  {
   "cell_type": "markdown",
   "id": "da075b3e-1660-4846-b99c-1de135ccff1a",
   "metadata": {},
   "source": [
    "### Indexing in `pandas`"
   ]
  },
  {
   "cell_type": "code",
   "execution_count": null,
   "id": "951ed5dc-59f4-4f7f-893b-b60d7525f10d",
   "metadata": {},
   "outputs": [],
   "source": [
    "# getting all rows of only one column\n",
    "data['Region']"
   ]
  },
  {
   "cell_type": "code",
   "execution_count": null,
   "id": "a8c8255e-06dd-4d77-b5c7-e0bc298690db",
   "metadata": {},
   "outputs": [],
   "source": [
    "# we can also use the dot notation\n",
    "data.Region"
   ]
  },
  {
   "cell_type": "code",
   "execution_count": null,
   "id": "9b69dc14-41fc-49f3-92e9-930e5e51b594",
   "metadata": {},
   "outputs": [],
   "source": [
    "# but the dot notation does not work for columns which have spaces in them\n",
    "data.Order Date"
   ]
  },
  {
   "cell_type": "code",
   "execution_count": null,
   "id": "48c8c06d-7826-41fa-940f-22aec37476b8",
   "metadata": {},
   "outputs": [],
   "source": [
    "type(data['Region'])"
   ]
  },
  {
   "cell_type": "code",
   "execution_count": null,
   "id": "b61df043-975b-48d1-bbc0-b2b6003dae0f",
   "metadata": {},
   "outputs": [],
   "source": [
    "# getting all values of more than one columns\n",
    "data[['Postal Code', 'Region', 'Product ID']]"
   ]
  },
  {
   "cell_type": "code",
   "execution_count": null,
   "id": "5aef23fb-009d-44a0-8a10-71af3790126b",
   "metadata": {},
   "outputs": [],
   "source": [
    "# another way to get data of multiple columns, using lists\n",
    "cols = ['Postal Code', 'Region', 'Product ID']\n",
    "\n",
    "data[cols]\n",
    "\n",
    "# these are ways to slice the data: getting some data from our complete data"
   ]
  },
  {
   "cell_type": "code",
   "execution_count": null,
   "id": "51475fe2-49a9-4c08-85da-d6596bde158f",
   "metadata": {},
   "outputs": [],
   "source": [
    "data[\"Discount\"][16]"
   ]
  },
  {
   "cell_type": "code",
   "execution_count": null,
   "id": "661b0de2-3a2f-4aa3-a91d-e10cf19020c5",
   "metadata": {},
   "outputs": [],
   "source": [
    "# now if we want to fetch the first 10 values in the Discount column (this is slicing)\n",
    "data[\"Discount\"][:10]"
   ]
  },
  {
   "cell_type": "code",
   "execution_count": null,
   "id": "29d99874-1bef-4b8a-a7c2-5da6777b3562",
   "metadata": {},
   "outputs": [],
   "source": [
    "# getting filtered data\n",
    "# let's try to fetch all transactions that belong to the South region\n",
    "data[data['Region'] == 'South']"
   ]
  },
  {
   "cell_type": "markdown",
   "id": "ef937d03-971f-4b4d-a007-9521a32b7880",
   "metadata": {},
   "source": [
    "### Keyword and Symbolic Logical Operators\n",
    "\n",
    "| Symbol | Usage |\n",
    "| --- | --- |\n",
    "| `and` | used to implement AND operation when both sides of operator are single values |\n",
    "| `or` | used to implement OR operation when both sides of operator are single values |\n",
    "| `not` | used to implement NOT operation in case of single values |\n",
    "| `&` | used to implement AND operation when both sides of operator are array-like values |\n",
    "| `\\|` | used to implement OR operation when both sides of operator are array-like values |\n",
    "| `~` | used to implement NOT operation with array-like values |"
   ]
  },
  {
   "cell_type": "code",
   "execution_count": null,
   "id": "0543d441-37c5-4d54-a7c9-e394f434767c",
   "metadata": {},
   "outputs": [],
   "source": [
    "# let's try to fetch transactions in the South region and Consumer segment\n",
    "data[data['Region'] == 'South' & data['Segment'] == 'Consumer']"
   ]
  },
  {
   "cell_type": "code",
   "execution_count": null,
   "id": "db8ff90b-cfc1-428b-ad57-4f93e0d8eb5f",
   "metadata": {},
   "outputs": [],
   "source": [
    "data[(data['Region'] == 'South') & (data['Segment'] == 'Consumer')]"
   ]
  },
  {
   "cell_type": "code",
   "execution_count": null,
   "id": "f41d384d-036a-4aa1-a5b5-03bf1229e987",
   "metadata": {},
   "outputs": [],
   "source": [
    "data[data['Region'] == 'South' and data['Segment'] == 'Consumer']"
   ]
  },
  {
   "cell_type": "code",
   "execution_count": null,
   "id": "a0589e33-8ecc-4536-b3b0-924863e22236",
   "metadata": {},
   "outputs": [],
   "source": [
    "data[((data['Region'] == 'South') and (data['Segment'] == 'Consumer'))]"
   ]
  },
  {
   "cell_type": "code",
   "execution_count": null,
   "id": "189d083e-5184-4651-b2a5-6cddc09d8521",
   "metadata": {},
   "outputs": [],
   "source": [
    "# let's try fetch profitable transactions in East and South region\n",
    "data[(data['Profit'] > 0) & (data['Region'].isin(['East', 'South']))]"
   ]
  },
  {
   "cell_type": "code",
   "execution_count": null,
   "id": "7e8a0ac3-70be-477c-80a9-c82da78b3cb3",
   "metadata": {},
   "outputs": [],
   "source": [
    "# using dt functions with datetime columns\n",
    "data['Order Date']"
   ]
  },
  {
   "cell_type": "code",
   "execution_count": null,
   "id": "e0069b7c-7b9d-4604-a8a5-179ab8009770",
   "metadata": {},
   "outputs": [],
   "source": [
    "data['Order Date'].dt.year"
   ]
  },
  {
   "cell_type": "code",
   "execution_count": null,
   "id": "67badd9f-06f2-4f00-b522-8e6c181ef130",
   "metadata": {},
   "outputs": [],
   "source": [
    "data['Order Date'].dt.strftime('%A')"
   ]
  },
  {
   "cell_type": "markdown",
   "id": "f1326148-998c-4d45-896d-e0781c3d1f21",
   "metadata": {},
   "source": [
    "### DateTime Format Specifiers\n",
    "\n",
    "These specifiers can be used in both `.dt.strftime()` and `.dt.strptime()`\n",
    "\n",
    "| Specifier | Value |\n",
    "| --- | --- |\n",
    "| %m | numeric month |\n",
    "| %b | short month name |\n",
    "| %B | full month name |\n",
    "| %y | last two digits of year |\n",
    "| %Y | full year value |\n",
    "| %a | short day name |\n",
    "| %A | full day name |\n",
    "\n",
    "- `strftime` is used to convert datetime type values to a formatted date string value\n",
    "- `strptime` is used to convert string to standard datetime type values\n",
    "\n",
    "[DateTime Documentation](https://docs.python.org/3/library/datetime.html#strftime-and-strptime-behavior)"
   ]
  },
  {
   "cell_type": "markdown",
   "id": "1905b7c4-797d-4fda-8bb7-9cfc93436527",
   "metadata": {},
   "source": [
    "### Indexing with `dataframe.loc`\n",
    "\n",
    "`.loc` is a dataframe attribute used for indexing a dataframe. It makes use of the `names` of rows and columns in a dataframe to fetch values.\n",
    "\n",
    "#### SYNTAX:\n",
    "`dataframe.loc[name_of_row, name_of_columns]`"
   ]
  },
  {
   "cell_type": "code",
   "execution_count": null,
   "id": "3aa1decf-76ab-4f8f-87ae-bca66c8e7010",
   "metadata": {},
   "outputs": [],
   "source": [
    "data.loc[0, 'Profit']"
   ]
  },
  {
   "cell_type": "code",
   "execution_count": null,
   "id": "12a169ae-b4fd-4a1d-967b-565b2bcd42f4",
   "metadata": {},
   "outputs": [],
   "source": [
    "data.loc[:10, ['Profit', 'Discount']]"
   ]
  },
  {
   "cell_type": "code",
   "execution_count": null,
   "id": "888cf22b-fe1a-45b4-bb5b-51a98037597e",
   "metadata": {},
   "outputs": [],
   "source": [
    "summary = data.describe()\n",
    "summary"
   ]
  },
  {
   "cell_type": "code",
   "execution_count": null,
   "id": "c121d255-8fe1-4e65-939e-0ebbb7ec9c83",
   "metadata": {},
   "outputs": [],
   "source": [
    "type(summary)"
   ]
  },
  {
   "cell_type": "code",
   "execution_count": null,
   "id": "b1ab7934-a146-4375-b7b5-0bdd3acdf003",
   "metadata": {},
   "outputs": [],
   "source": [
    "summary['Row ID']"
   ]
  },
  {
   "cell_type": "code",
   "execution_count": null,
   "id": "481538e9-de76-4f73-a918-5c60c77ace1a",
   "metadata": {},
   "outputs": [],
   "source": [
    "summary[['Row ID', 'Sales']]"
   ]
  },
  {
   "cell_type": "code",
   "execution_count": null,
   "id": "a0a97975-69c0-4bd4-9a58-555396db312f",
   "metadata": {},
   "outputs": [],
   "source": [
    "summary.loc[['25%', '50%', '75%'], ['Row ID', 'Sales']]"
   ]
  },
  {
   "cell_type": "code",
   "execution_count": null,
   "id": "f7b0cc24-8c8e-4735-8390-db115bf3cc3c",
   "metadata": {},
   "outputs": [],
   "source": [
    "summary.iloc[3:6, [0, 4]]"
   ]
  },
  {
   "cell_type": "markdown",
   "id": "30d0a061-df67-4d75-8ea4-683dd5812f82",
   "metadata": {},
   "source": [
    "### indexing with `dataframe.iloc`\n",
    "`.iloc` is another attribute which can be used for indexing a dataframe, however, it makes use of the `index` of rows and columns rather than the `names` of rows and columns.\n",
    "\n",
    "#### SYNTAX\n",
    "`dataframe.loc[index_of_row, index_of_columns]`"
   ]
  },
  {
   "cell_type": "code",
   "execution_count": null,
   "id": "bc6c51ce-ac35-44fd-8207-3d31d49fadd4",
   "metadata": {},
   "outputs": [],
   "source": [
    "data.iloc[0, 20]"
   ]
  },
  {
   "cell_type": "code",
   "execution_count": null,
   "id": "9519df3e-717d-4925-bfe0-6de996e8696b",
   "metadata": {},
   "outputs": [],
   "source": [
    "data.iloc[:10, 19:]"
   ]
  },
  {
   "cell_type": "markdown",
   "id": "f109e682-d513-4cc2-9748-0b4e53e652b2",
   "metadata": {},
   "source": [
    "### `.loc[]` vs `.iloc[]`\n",
    "\n",
    "| .loc | .iloc |\n",
    "| --- | --- |\n",
    "| indexing is based on name of rows and columns | indexing is based on index position of rows and columns |\n",
    "| includes the upper limit | does not include upper limit |"
   ]
  },
  {
   "cell_type": "code",
   "execution_count": null,
   "id": "dfaa4386-8749-4c91-a6d6-2a2388f7e65c",
   "metadata": {},
   "outputs": [],
   "source": [
    "data.loc[data['Profit'] <= 0, 'Profitable'] = False\n",
    "data.loc[data['Profit'] > 0, 'Profitable'] = True\n",
    "data"
   ]
  }
 ],
 "metadata": {
  "kernelspec": {
   "display_name": "Python 3 (ipykernel)",
   "language": "python",
   "name": "python3"
  },
  "language_info": {
   "codemirror_mode": {
    "name": "ipython",
    "version": 3
   },
   "file_extension": ".py",
   "mimetype": "text/x-python",
   "name": "python",
   "nbconvert_exporter": "python",
   "pygments_lexer": "ipython3",
   "version": "3.12.4"
  }
 },
 "nbformat": 4,
 "nbformat_minor": 5
}
