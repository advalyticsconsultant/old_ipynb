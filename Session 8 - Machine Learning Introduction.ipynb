{
 "cells": [
  {
   "cell_type": "markdown",
   "id": "b79a2a3f-d649-4d2b-996e-c616456787db",
   "metadata": {},
   "source": [
    "# Machine Learning\n",
    "\n",
    "Machine learning is a field in data science which allows developing programs that can `learn` from patterns in data to make decisions. These decisions can be predicting how profitable the next transaction will be, whether the next transaction will be returned or not, etc.\n",
    "\n",
    "## Supervised Machine Learning\n",
    "These are machine learning algorithms which make decisions based on relationships identified between the input and the target variable by the data scientist.\n",
    "\n",
    "It can be broadly be of two types:\n",
    "1. Regression: predicting a numeric value\n",
    "2. Classification: predicting a label value\n",
    "\n",
    "## Unsupervised Machine Learning\n",
    "These are machine learning algorithms which identify relationships between data points and make decisions based on these extracted relations.\n",
    "\n",
    "- k-Means Clustering is an unsupervised machine learning algorithm which creates clusters of data points which have similar properties and predicts which cluster a data point would belong to based on these properties."
   ]
  },
  {
   "cell_type": "code",
   "execution_count": null,
   "id": "46b0a8fc-13b6-4968-b6f2-353f650a48e1",
   "metadata": {},
   "outputs": [],
   "source": [
    "for x in range(1, 11):\n",
    "    print(f'2 x {x} = {2 * x}')"
   ]
  },
  {
   "cell_type": "code",
   "execution_count": null,
   "id": "f8f0c509-55c6-431f-a656-0fa8d43939de",
   "metadata": {},
   "outputs": [],
   "source": [
    "def double(x):\n",
    "    return x * 2"
   ]
  },
  {
   "cell_type": "code",
   "execution_count": null,
   "id": "9408cc11-6b6c-457b-af8b-ecd242e536bd",
   "metadata": {},
   "outputs": [],
   "source": [
    "double(100)"
   ]
  },
  {
   "cell_type": "markdown",
   "id": "210e6814-9eca-4949-9b99-d7e490c470a3",
   "metadata": {},
   "source": [
    "Sales = 5400\n",
    "Price = ?"
   ]
  },
  {
   "cell_type": "markdown",
   "id": "14c47f1e-7091-4b7f-bf1c-aac818d06ace",
   "metadata": {},
   "source": [
    "# Correlation\n",
    "\n",
    "Correlation is a measure of the influence of one numeric variable on another. It quantifies the impact one measure has on another and also tells us the direction of the impact.\n",
    "\n",
    "| Value | Inference |\n",
    "| --- | --- |\n",
    "| 1 | y increases as x increases |\n",
    "| 0 | y is not impacted by x |\n",
    "| -1 | y increases as x decreases |"
   ]
  },
  {
   "cell_type": "code",
   "execution_count": null,
   "id": "46de0afd-bb9c-4359-81ca-ee18ff3113a4",
   "metadata": {},
   "outputs": [],
   "source": [
    "import numpy as np\n",
    "import pandas as pd\n",
    "import matplotlib.pyplot as plt"
   ]
  },
  {
   "cell_type": "code",
   "execution_count": null,
   "id": "110299cf-52ba-478a-8467-1a958214a5be",
   "metadata": {},
   "outputs": [],
   "source": [
    "ice_cream_data = pd.read_csv(r\"https://raw.githubusercontent.com/puneettrainer/datasets/main/ice_cream.csv\")"
   ]
  },
  {
   "cell_type": "code",
   "execution_count": null,
   "id": "ff5e13ee-8c4d-4b97-a43b-1ca277d4e66a",
   "metadata": {},
   "outputs": [],
   "source": [
    "plt.figure(figsize=(15, 5))\n",
    "plt.scatter(ice_cream_data['Temperature'], ice_cream_data['Profit'])\n",
    "plt.title('Profit by Temperature')\n",
    "plt.xlabel('Temperature')\n",
    "plt.ylabel('Profit')\n",
    "plt.show()"
   ]
  },
  {
   "cell_type": "code",
   "execution_count": null,
   "id": "c9a15000-0aca-4270-92cb-ba87cade41d9",
   "metadata": {},
   "outputs": [],
   "source": [
    "ice_cream_data.corr()"
   ]
  },
  {
   "cell_type": "code",
   "execution_count": null,
   "id": "4f92a3b1-8e00-452c-8176-a5f995173c7e",
   "metadata": {},
   "outputs": [],
   "source": [
    "def scatter_plot(data, x, y):\n",
    "    plt.figure(figsize=(15, 5))\n",
    "    plt.scatter(data[x], data[y])\n",
    "    plt.title(x + ' by ' + y)\n",
    "    plt.xlabel(x)\n",
    "    plt.ylabel(y)\n",
    "    plt.show()"
   ]
  },
  {
   "cell_type": "code",
   "execution_count": null,
   "id": "c9c54da3-51f1-4f88-a456-d60bbd25e563",
   "metadata": {},
   "outputs": [],
   "source": [
    "scatter_plot(ice_cream_data, 'Temperature', 'Temperature')"
   ]
  },
  {
   "cell_type": "code",
   "execution_count": null,
   "id": "ac2b8e71-bac4-48d2-ba26-7edbc13d351a",
   "metadata": {},
   "outputs": [],
   "source": [
    "orders = pd.read_excel(r\"E:\\data\\superstore.xls\")"
   ]
  },
  {
   "cell_type": "code",
   "execution_count": null,
   "id": "7311719e-0400-473e-a76d-63b982fddad1",
   "metadata": {},
   "outputs": [],
   "source": [
    "orders.corr()"
   ]
  },
  {
   "cell_type": "markdown",
   "id": "c868cbfe-cea8-4c74-9983-b1961ff27885",
   "metadata": {},
   "source": [
    "### `dataframe_obj.corr(numeric_only)`\n",
    "\n",
    "`corr()` is a a dataframe method which calculates the correlation between all the fields in the dataframe.\n",
    "- if the dataframe contains non-numeric fields, this will throw an error\n",
    "- we can exclude non-numeric fields for the `corr()` method by specifying `numeric_only` argument as `True`"
   ]
  },
  {
   "cell_type": "code",
   "execution_count": null,
   "id": "29a93228-5641-416a-b871-c319466ec185",
   "metadata": {},
   "outputs": [],
   "source": [
    "orders.corr(numeric_only=True)"
   ]
  },
  {
   "cell_type": "code",
   "execution_count": null,
   "id": "e5ecf1f9-71cc-43e3-940b-4cdcf5fb56f0",
   "metadata": {},
   "outputs": [],
   "source": [
    "orders[['Sales', 'Quantity', 'Discount', 'Profit']].corr()"
   ]
  },
  {
   "cell_type": "code",
   "execution_count": null,
   "id": "277edb76-0fa9-4b86-9f4b-e13db0dcec26",
   "metadata": {},
   "outputs": [],
   "source": [
    "scatter_plot(orders, 'Sales', 'Profit')"
   ]
  },
  {
   "cell_type": "code",
   "execution_count": null,
   "id": "3d48164a-2352-455e-b29a-7809dd372192",
   "metadata": {},
   "outputs": [],
   "source": [
    "scatter_plot(orders, 'Discount', 'Profit')"
   ]
  },
  {
   "cell_type": "code",
   "execution_count": null,
   "id": "e62635ff-d1b0-4363-9941-355b48b2ab46",
   "metadata": {},
   "outputs": [],
   "source": [
    "scatter_plot(orders, 'Quantity', 'Profit')"
   ]
  },
  {
   "cell_type": "code",
   "execution_count": null,
   "id": "c51372d8-8154-4a2f-905f-06995e1861e7",
   "metadata": {},
   "outputs": [],
   "source": [
    "scatter_plot(orders.loc[orders['Sales'] <= 5500], 'Sales', 'Profit')"
   ]
  },
  {
   "cell_type": "markdown",
   "id": "e496638c-c2f1-44db-a88e-076c92ee7411",
   "metadata": {},
   "source": [
    "# Linear Regression\n",
    "\n",
    "Linear Regression is a supervised learning algorithm which is used to predict numeric values. It creates a numeric relation between the input variables and the target variable and tries to find the best mathematical relation (equation) to predict future values.\n",
    "\n",
    "Since it creates a mathematical relation between the inputs and the target, all inputs in a linear regression algorithm are numeric/continuous."
   ]
  },
  {
   "cell_type": "markdown",
   "id": "3bb89779-4353-449f-8b7f-658001e06d65",
   "metadata": {},
   "source": [
    "## Linear Regression from Scratch"
   ]
  },
  {
   "cell_type": "code",
   "execution_count": null,
   "id": "36972bfb-0aff-439b-9e0f-7fb649f8f7e3",
   "metadata": {},
   "outputs": [],
   "source": [
    "plt.figure(figsize=(15, 5))\n",
    "plt.scatter(orders['Sales'], orders['Profit'])\n",
    "plt.plot([orders['Sales'].min(), orders['Sales'].max()], [orders['Profit'].min(), orders['Profit'].max()], color='orange')\n",
    "plt.title('Profit by Sales')\n",
    "plt.xlabel('Sales')\n",
    "plt.ylabel('Profit')\n",
    "plt.show()"
   ]
  },
  {
   "cell_type": "markdown",
   "id": "03f8dfc2-f203-45b7-8c0c-b2852af958c3",
   "metadata": {},
   "source": [
    "# $y = m * x + c$\n",
    "\n",
    "$y \\implies$ target value<br>\n",
    "$m \\implies$ slope of the line, weight by which to multiple $x$<br>\n",
    "$x \\implies$ input variable, value which we know on the basis of which we want to predict<br>\n",
    "$c \\implies$ in case of Linear Regression, $c$ is the bias\n",
    "\n",
    "[Equation of a Line](https://www.mathsisfun.com/equation_of_line.html)"
   ]
  },
  {
   "cell_type": "code",
   "execution_count": null,
   "id": "b2ed6c59-f9bc-4fa3-bd38-f0e85b76c6a8",
   "metadata": {},
   "outputs": [],
   "source": [
    "def prediction(x, weight):\n",
    "    return x * weight"
   ]
  },
  {
   "cell_type": "code",
   "execution_count": null,
   "id": "65dd637b-ccd8-4a17-b878-a7d7adb1b620",
   "metadata": {},
   "outputs": [],
   "source": [
    "linreg_data = orders[['Sales', 'Profit']]\n",
    "linreg_data"
   ]
  },
  {
   "cell_type": "code",
   "execution_count": null,
   "id": "b6ef1a94-619d-4833-92e9-a9275c25e01c",
   "metadata": {
    "scrolled": true
   },
   "outputs": [],
   "source": [
    "plt.figure(figsize=(15, 5))\n",
    "plt.scatter(linreg_data['Sales'], linreg_data['Profit'])\n",
    "plt.title('Profit by Sales')\n",
    "plt.xlabel('Sales')\n",
    "plt.ylabel('Profit')\n",
    "\n",
    "for w in np.arange(0.1, 1.3, 0.2):\n",
    "    plt.plot(linreg_data['Sales'], prediction(linreg_data['Sales'], w), label=f'{w:.2f}')\n",
    "plt.legend()\n",
    "plt.show()"
   ]
  },
  {
   "cell_type": "code",
   "execution_count": null,
   "id": "6bd030b3-2955-4f5e-b7b6-7b695d6facc1",
   "metadata": {},
   "outputs": [],
   "source": [
    "linreg_data['Prediction'] = linreg_data['Sales'] * 0.5\n",
    "linreg_data"
   ]
  },
  {
   "cell_type": "markdown",
   "id": "786df702-d6aa-454c-b92d-4cec0aef0a5b",
   "metadata": {},
   "source": [
    "## Evaluation Metrics\n",
    "\n",
    "Evaluation metrics are scoring methods which quantify how well our model is performing."
   ]
  },
  {
   "cell_type": "markdown",
   "id": "23aa98b2-d54a-4791-8dfa-eae44345dbf5",
   "metadata": {},
   "source": [
    "### Mean Absolute Error\n",
    "\n",
    "Mean Absolute Error is an evaluation metric which calculates the average absolute difference between the predicted value and the actual value. It only tells how far the model predicts the target from the actual value, but does not tell whether the prediction is an overestimation or underestimation. A good MAE score is close to zero.\n",
    "\n",
    "#### Mean Absolute Error, MAE = $\\frac{\\sum | actual - prediction |}{observations}$\n",
    "\n",
    "| Advantages | Disadvantage |\n",
    "| --- | --- |\n",
    "| easy to understand; has the same unit as that of the target value | does not indicate whether the model is overestimating or underestimating |\n",
    "| gives the same weight to all values, so outliers don't impact the final score | if the data has outliers, this may not give the most accurate score |"
   ]
  },
  {
   "cell_type": "code",
   "execution_count": null,
   "id": "48982cf2-6c48-457b-b548-2613102e13e2",
   "metadata": {},
   "outputs": [],
   "source": [
    "def mae(actual, prediction):\n",
    "    return np.abs(actual - prediction).sum() / len(actual)"
   ]
  },
  {
   "cell_type": "code",
   "execution_count": null,
   "id": "47ea6d45-176e-4b51-9d4b-99efc05ad89d",
   "metadata": {},
   "outputs": [],
   "source": [
    "mae(linreg_data['Profit'], linreg_data['Prediction'])"
   ]
  },
  {
   "cell_type": "markdown",
   "id": "79675e31-5591-4a03-9e65-7306008e9760",
   "metadata": {},
   "source": [
    "### Mean Squared Error\n",
    "\n",
    "Mean Squared Error is another evaluation metric which scores the performance of a model. It gives more weight to errors providing more accuracy to the final score. Since it is prone to outliers, it can also be misleading (a good model may get a bad MSE score). A good MSE score is close to zero. \n",
    "\n",
    "#### Mean Squared Error, MAE = $\\frac{\\sum ( actual - prediction ) ^ 2}{observations}$\n",
    "\n",
    "| Advantages | Disadvantage |\n",
    "| --- | --- |\n",
    "| gives more weight to bigger errors; sensitive to outliers | has squared units (e.g. if target is $dollar$, then score is $dollar^2$) |"
   ]
  },
  {
   "cell_type": "code",
   "execution_count": null,
   "id": "519e953b-8c0e-4efd-b059-cdfda3c25ea8",
   "metadata": {},
   "outputs": [],
   "source": [
    "def mse(actual, prediction):\n",
    "    return ((actual - prediction) ** 2).sum() / len(actual)"
   ]
  },
  {
   "cell_type": "code",
   "execution_count": null,
   "id": "78c8e6f4-c238-45c6-8a12-a7852ed82350",
   "metadata": {},
   "outputs": [],
   "source": [
    "mse(linreg_data['Profit'], linreg_data['Prediction'])"
   ]
  },
  {
   "cell_type": "markdown",
   "id": "8c60d820-d795-4d19-b9cd-f32069567546",
   "metadata": {},
   "source": [
    "### Root Mean Square Error\n",
    "\n",
    "Root Mean Square Error is an improvisation of the MSE, we simply calculate the square-root of the MSE. It has the same advantages and disadvantages as `MSE`. A good RMSE score is close to zero.\n",
    "\n",
    "#### Root Mean Absolute Error, RMSE = $\\sqrt{\\frac{\\sum ( actual - prediction ) ^ 2}{observations}}$"
   ]
  },
  {
   "cell_type": "code",
   "execution_count": null,
   "id": "f7044157-cb4c-4f99-8a7a-5d3e51850cf8",
   "metadata": {},
   "outputs": [],
   "source": [
    "def rmse(actual, prediction):\n",
    "    return mse(actual, prediction) ** 0.5"
   ]
  },
  {
   "cell_type": "code",
   "execution_count": null,
   "id": "f4540694-6efa-4cf0-8558-36349896d590",
   "metadata": {},
   "outputs": [],
   "source": [
    "rmse(linreg_data['Profit'], linreg_data['Prediction'])"
   ]
  },
  {
   "cell_type": "markdown",
   "id": "f6f63043-5c39-4b7b-bd57-d8e1ec78e288",
   "metadata": {},
   "source": [
    "### Coefficient of Determination $R^2$\n",
    "\n",
    "$R^2$ is a metric which tells us on a scale of 0 to 1 how much an input variable impacts the target variable. It does not tell us the direction in which the input influences the target or how good the model is, rather it just explains how strongly the input variable is impacting the target.\n",
    "\n",
    "#### Coefficient of Determination, $R^2$ = 1 - $\\frac{\\sum{(actual - prediction)}^2}{\\sum{(actual - avg(actual))}^2}$\n",
    "\n",
    "| $R^2$ | Inference |\n",
    "| --- | --- |\n",
    "| close to 1 | model is efficiently using the input variables to predict target |\n",
    "| close to 0 | model is not efficiently using the input variabes to predict target |\n",
    "| negative | model is not using the relation between input and target to make prediction |"
   ]
  },
  {
   "cell_type": "code",
   "execution_count": null,
   "id": "61dd1b84-68d1-4179-a7b7-bbb0f025ba66",
   "metadata": {},
   "outputs": [],
   "source": [
    "def r_squared(actual, prediction):\n",
    "    residual_sum_squares = ((actual - prediction) ** 2).sum()\n",
    "    total_sum_squares = ((actual - actual.mean()) ** 2).sum()\n",
    "    return 1 - (residual_sum_squares / total_sum_squares)"
   ]
  },
  {
   "cell_type": "code",
   "execution_count": null,
   "id": "6ad1a441-9d6f-446e-a8d7-8403d6033459",
   "metadata": {},
   "outputs": [],
   "source": [
    "r_squared(linreg_data['Profit'], linreg_data['Prediction'])"
   ]
  },
  {
   "cell_type": "markdown",
   "id": "cd049c19-de51-4f31-98ca-d229d2deaaea",
   "metadata": {},
   "source": [
    "### Adjusted $R^2$\n",
    "\n",
    "Adjusted $R^2$ is a metric which tells us on a scale of 0 to 1 how much every input variable impacts the target variable. In case of $R^2$, if we add more input variables to our model, it may not accurately show any difference or tell us whether the model improved of worsened because of the added variable. Adjusted $R^2$ overcomes this limitation.\n",
    "\n",
    "#### $Adjusted$ $R^2$, $R^2_{adj}$ = 1 - $\\frac{(1- R^2 )(observations-1)}{observations - variables - 1}$"
   ]
  },
  {
   "cell_type": "code",
   "execution_count": null,
   "id": "eab8d41e-22de-4006-a68e-2b1300ea052d",
   "metadata": {},
   "outputs": [],
   "source": [
    "def adjusted_r2(actual, prediction, inputs):\n",
    "    return 1 - ((1 - r_squared(actual, prediction)) * (len(actual) - 1)) / (len(actual) - inputs - 1)"
   ]
  },
  {
   "cell_type": "code",
   "execution_count": null,
   "id": "7f51e6c2-ae3c-4b65-93ff-1f70e9a4b763",
   "metadata": {},
   "outputs": [],
   "source": [
    "adjusted_r2(linreg_data['Profit'], linreg_data['Prediction'], 1)"
   ]
  }
 ],
 "metadata": {
  "kernelspec": {
   "display_name": "Python 3 (ipykernel)",
   "language": "python",
   "name": "python3"
  },
  "language_info": {
   "codemirror_mode": {
    "name": "ipython",
    "version": 3
   },
   "file_extension": ".py",
   "mimetype": "text/x-python",
   "name": "python",
   "nbconvert_exporter": "python",
   "pygments_lexer": "ipython3",
   "version": "3.12.4"
  }
 },
 "nbformat": 4,
 "nbformat_minor": 5
}
