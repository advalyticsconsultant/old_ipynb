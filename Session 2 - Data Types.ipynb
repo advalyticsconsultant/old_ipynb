{
 "cells": [
  {
   "cell_type": "code",
   "execution_count": 1,
   "id": "1f3dc7ae-d43d-4344-85ea-5f128a816505",
   "metadata": {},
   "outputs": [],
   "source": [
    "full_name = 'Puneet Kumar'"
   ]
  },
  {
   "cell_type": "code",
   "execution_count": 2,
   "id": "f75c7e83-a2ae-4591-b198-6aa562b768f9",
   "metadata": {},
   "outputs": [
    {
     "data": {
      "text/plain": [
       "12"
      ]
     },
     "execution_count": 2,
     "metadata": {},
     "output_type": "execute_result"
    }
   ],
   "source": [
    "# fetching number of characters in a string\n",
    "len(full_name)"
   ]
  },
  {
   "cell_type": "markdown",
   "id": "d40bd265-4384-494e-9ad6-a6a6af6a78d0",
   "metadata": {},
   "source": [
    "### `len()` function\n",
    "\n",
    "#### `len()` is a general function in the Python standard library (we don't need to import any library to use it) which returns the length/magnitude of an object."
   ]
  },
  {
   "cell_type": "code",
   "execution_count": 7,
   "id": "f621f671-5cfa-47f8-b050-81fe383f74f9",
   "metadata": {},
   "outputs": [
    {
     "data": {
      "text/plain": [
       "True"
      ]
     },
     "execution_count": 7,
     "metadata": {},
     "output_type": "execute_result"
    }
   ],
   "source": [
    "# using in operator with strings\n",
    "'Kumar' in full_name"
   ]
  },
  {
   "cell_type": "code",
   "execution_count": 8,
   "id": "ec0b1568-a61a-4d4a-b886-04bd92be19e7",
   "metadata": {},
   "outputs": [
    {
     "data": {
      "text/plain": [
       "False"
      ]
     },
     "execution_count": 8,
     "metadata": {},
     "output_type": "execute_result"
    }
   ],
   "source": [
    "'Sachin' in full_name"
   ]
  },
  {
   "cell_type": "markdown",
   "id": "1ac07fd8-1dc6-4a5c-b181-c428d81df1af",
   "metadata": {},
   "source": [
    "### `in` operator\n",
    "#### `in` is a keyword operator which simply checks whether the value in the RHS contains the value in the LHS"
   ]
  },
  {
   "cell_type": "markdown",
   "id": "64a0662e-7243-4596-afe6-1e41fa1d3ec3",
   "metadata": {},
   "source": [
    "### Indexing in Python\n",
    "#### Python supports indexing in iterable objects, which allows us to access a part (or subset) of the object. Mostly, syntax for indexing is similar across Python. Indexing starts with 0.\n",
    "\n",
    "#### For example, in the string literal stored in the variable `full_name`, `'P'` is the first letter, `'u'` is the second letter, etc. But for Python (and most programming languages), `'P'` is the zeroth letter, `'u'` is the first letter, etc.\n",
    "\n",
    "| String | Human Position | Computer Position | Negative Index |\n",
    "| --- | --- | --- | --- |\n",
    "| `P` | 1 | 0 | -12 |\n",
    "| `u` | 2 | 1 | -11 |\n",
    "| `n` | 3 | 2 | -10 |\n",
    "| `e` | 4 | 3 | -9 |\n",
    "| `e` | 5 | 4 | -8 |\n",
    "| `t` | 6 | 5 | -7 |\n",
    "| ` ` | 7 | 6 | -6 |\n",
    "| `K` | 8 | 7 | -5 |\n",
    "| `u` | 9 | 8 | -4 |\n",
    "| `m` | 10 | 9 | -3 |\n",
    "| `a` | 11 | 10 | -2 |\n",
    "| `r` | 12 | 11 | -1 |\n",
    "\n",
    "#### Indexing can be done by using square-brackets (`[]`) with the iterable object. Within the square-brackets, we specify the position of the part that we want."
   ]
  },
  {
   "cell_type": "code",
   "execution_count": 9,
   "id": "ac9d7f66-f801-4b24-a9af-97d7f16bd54f",
   "metadata": {},
   "outputs": [
    {
     "data": {
      "text/plain": [
       "'P'"
      ]
     },
     "execution_count": 9,
     "metadata": {},
     "output_type": "execute_result"
    }
   ],
   "source": [
    "full_name[0]"
   ]
  },
  {
   "cell_type": "markdown",
   "id": "e1189e59-a52c-4291-8aad-9f8eb28fba67",
   "metadata": {},
   "source": [
    "#### When we specify only one number, we only fetch a single part of the iterable object"
   ]
  },
  {
   "cell_type": "code",
   "execution_count": 11,
   "id": "2332868b-89d9-4801-94fb-26f62de32212",
   "metadata": {},
   "outputs": [
    {
     "data": {
      "text/plain": [
       "'Puneet '"
      ]
     },
     "execution_count": 11,
     "metadata": {},
     "output_type": "execute_result"
    }
   ],
   "source": [
    "full_name[:6]"
   ]
  },
  {
   "cell_type": "markdown",
   "id": "8f1f709e-fc28-4ded-87b6-ab165314a33f",
   "metadata": {},
   "source": [
    "#### When we specify the index with a number after a colon, we fetch the parts of the iterable up to, but not including, that position.<br><br>Python understands `full_name[:6]` as `full_name[0:6:1]`"
   ]
  },
  {
   "cell_type": "code",
   "execution_count": 16,
   "id": "fa49bc35-c830-435f-829a-e7c9c0be6fe8",
   "metadata": {},
   "outputs": [
    {
     "data": {
      "text/plain": [
       "' Kumar'"
      ]
     },
     "execution_count": 16,
     "metadata": {},
     "output_type": "execute_result"
    }
   ],
   "source": [
    "full_name[6:13]"
   ]
  },
  {
   "cell_type": "markdown",
   "id": "10112bb2-dec8-46c1-a8d7-130087f8bf86",
   "metadata": {},
   "source": [
    "#### We can also specify Python, to skip an iteration by passing an increment value."
   ]
  },
  {
   "cell_type": "code",
   "execution_count": 17,
   "id": "040381c1-76bd-44a0-b335-f1a85e3fcebc",
   "metadata": {},
   "outputs": [
    {
     "data": {
      "text/plain": [
       "'Pne ua'"
      ]
     },
     "execution_count": 17,
     "metadata": {},
     "output_type": "execute_result"
    }
   ],
   "source": [
    "# fetching every second letter in full_name from start to end\n",
    "full_name[0:12:2]"
   ]
  },
  {
   "cell_type": "markdown",
   "id": "d641fe95-24c4-4414-ab53-cf83f2ad218f",
   "metadata": {},
   "source": [
    "#### Index Notation: `iterable[start:stop:increment]`\n",
    "\n",
    "#### We can also use negative indices to fetch the values of an iterable from the end."
   ]
  },
  {
   "cell_type": "code",
   "execution_count": 9,
   "id": "eccfbde1-f360-4de7-b60d-2d94aaa01cc8",
   "metadata": {},
   "outputs": [
    {
     "data": {
      "text/plain": [
       "'r'"
      ]
     },
     "execution_count": 9,
     "metadata": {},
     "output_type": "execute_result"
    }
   ],
   "source": [
    "full_name[-1]"
   ]
  },
  {
   "cell_type": "code",
   "execution_count": 10,
   "id": "1bd57dbc-484e-4bd2-9755-5d9d87659c07",
   "metadata": {},
   "outputs": [
    {
     "data": {
      "text/plain": [
       "'m'"
      ]
     },
     "execution_count": 10,
     "metadata": {},
     "output_type": "execute_result"
    }
   ],
   "source": [
    "full_name[-3]"
   ]
  },
  {
   "cell_type": "code",
   "execution_count": 11,
   "id": "1c29a292-752f-49cc-adde-9226d40b1d14",
   "metadata": {},
   "outputs": [
    {
     "data": {
      "text/plain": [
       "'Puneet Kuma'"
      ]
     },
     "execution_count": 11,
     "metadata": {},
     "output_type": "execute_result"
    }
   ],
   "source": [
    "full_name[:-1]"
   ]
  },
  {
   "cell_type": "code",
   "execution_count": 18,
   "id": "f10fedb9-374a-4b62-b498-4517d3cea66e",
   "metadata": {},
   "outputs": [
    {
     "data": {
      "text/plain": [
       "'ramuK teenuP'"
      ]
     },
     "execution_count": 18,
     "metadata": {},
     "output_type": "execute_result"
    }
   ],
   "source": [
    "# and we can use negative increment value to reverse a string\n",
    "full_name[::-1]"
   ]
  },
  {
   "cell_type": "code",
   "execution_count": 19,
   "id": "b378fede-adf1-4b37-9107-fdc9470840bc",
   "metadata": {},
   "outputs": [
    {
     "data": {
      "text/plain": [
       "'puneet kumar'"
      ]
     },
     "execution_count": 19,
     "metadata": {},
     "output_type": "execute_result"
    }
   ],
   "source": [
    "# lower() method is used to convert the string to lower case\n",
    "full_name.lower()"
   ]
  },
  {
   "cell_type": "code",
   "execution_count": 20,
   "id": "0b1dd411-a158-4a8b-9418-935d59c5363e",
   "metadata": {},
   "outputs": [
    {
     "data": {
      "text/plain": [
       "'PUNEET KUMAR'"
      ]
     },
     "execution_count": 20,
     "metadata": {},
     "output_type": "execute_result"
    }
   ],
   "source": [
    "# upper() method is used to convert the string to upper case\n",
    "full_name.upper()"
   ]
  },
  {
   "cell_type": "code",
   "execution_count": 23,
   "id": "56c2cfe5-474a-455b-846c-1c279962afce",
   "metadata": {},
   "outputs": [
    {
     "data": {
      "text/plain": [
       "6"
      ]
     },
     "execution_count": 23,
     "metadata": {},
     "output_type": "execute_result"
    }
   ],
   "source": [
    "# find() method is used to return the index of the character that we specify\n",
    "full_name.find(' ')"
   ]
  },
  {
   "cell_type": "code",
   "execution_count": 24,
   "id": "eecd3b12-aecf-4c3b-a56f-c7da99a4f5a5",
   "metadata": {},
   "outputs": [
    {
     "data": {
      "text/plain": [
       "'Puneet'"
      ]
     },
     "execution_count": 24,
     "metadata": {},
     "output_type": "execute_result"
    }
   ],
   "source": [
    "# using find method to fetch the first name and the last name from full name\n",
    "full_name = 'Puneet Kumar'\n",
    "first_name = full_name[:full_name.find(' ')]\n",
    "first_name"
   ]
  },
  {
   "cell_type": "code",
   "execution_count": 26,
   "id": "c5f055d6-f801-41a4-a0c7-fc490a8cae42",
   "metadata": {},
   "outputs": [
    {
     "data": {
      "text/plain": [
       "'Kumar'"
      ]
     },
     "execution_count": 26,
     "metadata": {},
     "output_type": "execute_result"
    }
   ],
   "source": [
    "# here we specify full_name.find(' ') + 1, instead of full_name.find(' ')\n",
    "# because we want to fetch all the characters after index of space\n",
    "last_name = full_name[full_name.find(' ') + 1:]\n",
    "last_name"
   ]
  },
  {
   "cell_type": "code",
   "execution_count": 27,
   "id": "51775c87-afe5-40c9-a689-1b2c9ac555c8",
   "metadata": {
    "collapsed": true,
    "jupyter": {
     "outputs_hidden": true
    }
   },
   "outputs": [
    {
     "name": "stdout",
     "output_type": "stream",
     "text": [
      "Puneet Kumar\n"
     ]
    }
   ],
   "source": [
    "# rewriting the above code with variables to make it more readable\n",
    "space_index = full_name.find(' ')\n",
    "first_name = full_name[:space_index]\n",
    "last_name = full_name[space_index + 1:]\n",
    "print(first_name, last_name)"
   ]
  },
  {
   "cell_type": "markdown",
   "id": "eac93de8-b9a5-4104-a3c3-0df47ef9915a",
   "metadata": {},
   "source": [
    "#### In a Jupter Notebook, if we write an expression or a variable name at the end of the cell, it displays the result or value of the variable in the output."
   ]
  },
  {
   "cell_type": "code",
   "execution_count": 28,
   "id": "748c707f-f4c0-4388-9ab6-57dcfac8264a",
   "metadata": {},
   "outputs": [
    {
     "data": {
      "text/plain": [
       "30.416666666666668"
      ]
     },
     "execution_count": 28,
     "metadata": {},
     "output_type": "execute_result"
    }
   ],
   "source": [
    "365 / 12"
   ]
  },
  {
   "cell_type": "code",
   "execution_count": 29,
   "id": "039a4ca0-18b1-4098-bb0f-ee3d1b191e79",
   "metadata": {},
   "outputs": [
    {
     "data": {
      "text/plain": [
       "'Puneet Kumar'"
      ]
     },
     "execution_count": 29,
     "metadata": {},
     "output_type": "execute_result"
    }
   ],
   "source": [
    "full_name"
   ]
  },
  {
   "cell_type": "code",
   "execution_count": 34,
   "id": "670351a6-1ee7-4c46-82cd-45796aafd1f5",
   "metadata": {},
   "outputs": [
    {
     "data": {
      "text/plain": [
       "1"
      ]
     },
     "execution_count": 34,
     "metadata": {},
     "output_type": "execute_result"
    }
   ],
   "source": [
    "first_name\n",
    "# last_name\n",
    "# full_name"
   ]
  },
  {
   "cell_type": "markdown",
   "id": "f99d19e7-e650-44c1-a4a7-aeeacac19cbe",
   "metadata": {},
   "source": [
    "#### This is not a reliable way to display values in the Jupyter Notebook. Instead, we use the `print()` function to display values."
   ]
  },
  {
   "cell_type": "code",
   "execution_count": 36,
   "id": "8dca3514-401e-4971-b4b2-7802969267af",
   "metadata": {},
   "outputs": [
    {
     "name": "stdout",
     "output_type": "stream",
     "text": [
      "Puneet\n",
      "Kumar\n",
      "Puneet Kumar\n"
     ]
    },
    {
     "data": {
      "text/plain": [
       "10"
      ]
     },
     "execution_count": 36,
     "metadata": {},
     "output_type": "execute_result"
    }
   ],
   "source": [
    "print(first_name)\n",
    "1+2\n",
    "print(last_name)\n",
    "b = 7+3\n",
    "\n",
    "print(full_name)\n",
    "b"
   ]
  },
  {
   "cell_type": "code",
   "execution_count": 38,
   "id": "adc3881a-79ea-4245-87a4-90056a81e702",
   "metadata": {},
   "outputs": [],
   "source": [
    "def name_splitter(full_name):\n",
    "    space_index = full_name.find(' ')\n",
    "    first_name = full_name[:space_index]\n",
    "    last_name = full_name[space_index + 1:]\n",
    "    return first_name, last_name"
   ]
  },
  {
   "cell_type": "code",
   "execution_count": 39,
   "id": "203c2188-d6eb-4ccb-9f12-909814eea562",
   "metadata": {},
   "outputs": [
    {
     "data": {
      "text/plain": [
       "('Puneet', 'Kumar')"
      ]
     },
     "execution_count": 39,
     "metadata": {},
     "output_type": "execute_result"
    }
   ],
   "source": [
    "name_splitter(full_name)"
   ]
  },
  {
   "cell_type": "code",
   "execution_count": 42,
   "id": "fd32a871-b1b1-4b64-adb1-af771486ac97",
   "metadata": {},
   "outputs": [
    {
     "data": {
      "text/plain": [
       "('Harshvardhan', 'Kumar Singh Barodia')"
      ]
     },
     "execution_count": 42,
     "metadata": {},
     "output_type": "execute_result"
    }
   ],
   "source": [
    "new_full_name = 'Harshvardhan Kumar Singh Barodia'\n",
    "name_splitter(new_full_name)"
   ]
  },
  {
   "cell_type": "markdown",
   "id": "d01a65a8-b29a-46d7-99ff-10ad4dc72f16",
   "metadata": {},
   "source": [
    "#### Clearly, our `name_splitter()` function only works well with full names which are made of two words, or in terms of Python, only for strings which have only one ` ` delimiting the name."
   ]
  },
  {
   "cell_type": "code",
   "execution_count": 43,
   "id": "d1bab44c-cfab-434a-bce0-9027867cf7d2",
   "metadata": {},
   "outputs": [],
   "source": [
    "# to make a more reliable name splitter, we can use the split() method\n",
    "def name_splitter(full_name):\n",
    "    delimiter = ' '\n",
    "    name_list = full_name.split(delimiter)\n",
    "\n",
    "    return name_list[0], name_list[-1]"
   ]
  },
  {
   "cell_type": "code",
   "execution_count": 44,
   "id": "e33cc5cc-4f81-480e-b088-9e02d29d46f9",
   "metadata": {},
   "outputs": [
    {
     "data": {
      "text/plain": [
       "('Puneet', 'Kumar')"
      ]
     },
     "execution_count": 44,
     "metadata": {},
     "output_type": "execute_result"
    }
   ],
   "source": [
    "full_name = 'Puneet Kumar'\n",
    "name_splitter(full_name)"
   ]
  },
  {
   "cell_type": "code",
   "execution_count": 45,
   "id": "0ff252b6-57f6-4fa2-88ab-ae18d2a81886",
   "metadata": {},
   "outputs": [
    {
     "data": {
      "text/plain": [
       "('Stefani', 'Germanotta')"
      ]
     },
     "execution_count": 45,
     "metadata": {},
     "output_type": "execute_result"
    }
   ],
   "source": [
    "full_name_2 = 'Stefani Joanne Angelina Germanotta'\n",
    "name_splitter(full_name_2)"
   ]
  },
  {
   "cell_type": "code",
   "execution_count": 49,
   "id": "458575ce-9226-4b63-b81e-fee127af9e01",
   "metadata": {},
   "outputs": [
    {
     "data": {
      "text/plain": [
       "('Kumar,Puneet', 'Kumar,Puneet')"
      ]
     },
     "execution_count": 49,
     "metadata": {},
     "output_type": "execute_result"
    }
   ],
   "source": [
    "# what if in our dataset, names are delimited by ',' instead of space\n",
    "full_name_3 = 'Kumar,Puneet'\n",
    "name_splitter(full_name_3)"
   ]
  },
  {
   "cell_type": "code",
   "execution_count": 50,
   "id": "879596d6-3f9d-4ea4-9930-fab4e6819bfc",
   "metadata": {},
   "outputs": [],
   "source": [
    "# we need a way to sepcify a delimiter so that this function is more general purpose\n",
    "# we can do this by specifying a default argument in our function definition\n",
    "def name_splitter(full_name, delimiter = ' '):\n",
    "    first_name = full_name.split(delimiter)[0]\n",
    "    last_name = full_name.split(delimiter)[-1]\n",
    "    return first_name, last_name"
   ]
  },
  {
   "cell_type": "code",
   "execution_count": 51,
   "id": "2d1471c7-f98b-4a71-a7c5-c3bbbb249694",
   "metadata": {},
   "outputs": [
    {
     "data": {
      "text/plain": [
       "('Puneet', 'Kumar')"
      ]
     },
     "execution_count": 51,
     "metadata": {},
     "output_type": "execute_result"
    }
   ],
   "source": [
    "name_splitter(full_name)"
   ]
  },
  {
   "cell_type": "code",
   "execution_count": 52,
   "id": "98792cb7-7508-478e-b904-8e0e3379b767",
   "metadata": {},
   "outputs": [
    {
     "data": {
      "text/plain": [
       "('Kumar', 'Puneet')"
      ]
     },
     "execution_count": 52,
     "metadata": {},
     "output_type": "execute_result"
    }
   ],
   "source": [
    "name_splitter(full_name_3, delimiter=',')"
   ]
  },
  {
   "cell_type": "code",
   "execution_count": 33,
   "id": "2f53051b-b4b6-4b17-88ae-43b3aa551f2b",
   "metadata": {},
   "outputs": [
    {
     "data": {
      "text/plain": [
       "('Stefani', 'Germanotta')"
      ]
     },
     "execution_count": 33,
     "metadata": {},
     "output_type": "execute_result"
    }
   ],
   "source": [
    "name_splitter(full_name_2)"
   ]
  },
  {
   "cell_type": "markdown",
   "id": "c1ff607c-ccb9-410d-9765-885d17c02a6c",
   "metadata": {},
   "source": [
    "### Tuples\n",
    "\n",
    "Tuples are ordered collection of values that cannot be modified.\n",
    "- `collection of values`: it can store more than one value\n",
    "- `ordered`: means that an index value is fixed for each value in the tuple\n",
    "- `cannot be modified`: we cannot change the value at an index in the tuple, or add values to the tuple after it is defined\n",
    "- denoted by `()`\n",
    "- can store any type of data"
   ]
  },
  {
   "cell_type": "code",
   "execution_count": 54,
   "id": "6cb2b142-ee66-43db-bdaf-fda72e73d94f",
   "metadata": {},
   "outputs": [
    {
     "data": {
      "text/plain": [
       "('Puneet Kumar', 28, 7.5)"
      ]
     },
     "execution_count": 54,
     "metadata": {},
     "output_type": "execute_result"
    }
   ],
   "source": [
    "bio_1 = ('Puneet Kumar', 28, 7.5)\n",
    "bio_1"
   ]
  },
  {
   "cell_type": "code",
   "execution_count": 57,
   "id": "0e04e341-d233-4226-ad34-f1008a5c9906",
   "metadata": {},
   "outputs": [
    {
     "data": {
      "text/plain": [
       "7.5"
      ]
     },
     "execution_count": 57,
     "metadata": {},
     "output_type": "execute_result"
    }
   ],
   "source": [
    "# since a tuple is ordered, we can use indexes to access specific values in the tuple\n",
    "bio_1[2]"
   ]
  },
  {
   "cell_type": "code",
   "execution_count": 58,
   "id": "96ae2b1b-d8eb-47d9-9ada-fa91a1c571d0",
   "metadata": {},
   "outputs": [
    {
     "ename": "TypeError",
     "evalue": "'tuple' object does not support item assignment",
     "output_type": "error",
     "traceback": [
      "\u001b[1;31m---------------------------------------------------------------------------\u001b[0m",
      "\u001b[1;31mTypeError\u001b[0m                                 Traceback (most recent call last)",
      "Cell \u001b[1;32mIn[58], line 2\u001b[0m\n\u001b[0;32m      1\u001b[0m \u001b[38;5;66;03m# but since tuples cannot be modified, we cannot overwrite a value at an index\u001b[39;00m\n\u001b[1;32m----> 2\u001b[0m bio_1[\u001b[38;5;241m0\u001b[39m] \u001b[38;5;241m=\u001b[39m \u001b[38;5;124m'\u001b[39m\u001b[38;5;124mSachin Gupta\u001b[39m\u001b[38;5;124m'\u001b[39m\n",
      "\u001b[1;31mTypeError\u001b[0m: 'tuple' object does not support item assignment"
     ]
    }
   ],
   "source": [
    "# but since tuples cannot be modified, we cannot overwrite a value at an index\n",
    "bio_1[0] = 'Sachin Gupta'"
   ]
  },
  {
   "cell_type": "code",
   "execution_count": null,
   "id": "83ce1167-41ac-4812-9b48-08ea00ee55d3",
   "metadata": {},
   "outputs": [],
   "source": [
    "# tuples support only two methods\n",
    "# tuple_obj.count(value) - returns the number of times value occurs in tuple_obj\n",
    "bio_1.count('Puneet Kumar')"
   ]
  },
  {
   "cell_type": "code",
   "execution_count": null,
   "id": "34c55873-0583-4102-842a-70a15c944212",
   "metadata": {},
   "outputs": [],
   "source": [
    "# tuple_obj.index(value) - returns the first index of value in tuple_obj \n",
    "bio_1.index(28)"
   ]
  },
  {
   "cell_type": "code",
   "execution_count": 59,
   "id": "d8a65188-2712-4ea6-9cf9-c858e1bc9cdd",
   "metadata": {},
   "outputs": [
    {
     "data": {
      "text/plain": [
       "0"
      ]
     },
     "execution_count": 59,
     "metadata": {},
     "output_type": "execute_result"
    }
   ],
   "source": [
    "bio_2 = (28, 28, 3, 27)\n",
    "bio_2.index(28)"
   ]
  },
  {
   "cell_type": "code",
   "execution_count": 61,
   "id": "128f48f1-57b5-4bd6-a05b-efdee8730d9f",
   "metadata": {},
   "outputs": [
    {
     "data": {
      "text/plain": [
       "3"
      ]
     },
     "execution_count": 61,
     "metadata": {},
     "output_type": "execute_result"
    }
   ],
   "source": [
    "len(bio_1)"
   ]
  },
  {
   "cell_type": "markdown",
   "id": "3c111a6b-21e8-4502-974f-faa852842c09",
   "metadata": {},
   "source": [
    "### We can check whether a value is in a tuple or not using the in operator"
   ]
  },
  {
   "cell_type": "code",
   "execution_count": 62,
   "id": "f2d96602-5d1d-43d1-a06e-9f071bc771ca",
   "metadata": {},
   "outputs": [
    {
     "data": {
      "text/plain": [
       "True"
      ]
     },
     "execution_count": 62,
     "metadata": {},
     "output_type": "execute_result"
    }
   ],
   "source": [
    "28 in bio_2"
   ]
  },
  {
   "cell_type": "code",
   "execution_count": 63,
   "id": "e067bdd8-ed25-4467-af52-2790643fe16c",
   "metadata": {},
   "outputs": [
    {
     "data": {
      "text/plain": [
       "False"
      ]
     },
     "execution_count": 63,
     "metadata": {},
     "output_type": "execute_result"
    }
   ],
   "source": [
    "10 in bio_2"
   ]
  },
  {
   "cell_type": "markdown",
   "id": "501f86e4-5681-4764-9769-d8865b059a83",
   "metadata": {},
   "source": [
    "### Lists\n",
    "Lists are an ordered collection of values that can be modified.\n",
    "- `collection of values`: can store multiple objects of any data type\n",
    "- `can be modified`: we can overwrite a value at a specific index\n",
    "- `ordered`: each value in a list has a fixed index/position\n",
    "- denoted by `[]`"
   ]
  },
  {
   "cell_type": "code",
   "execution_count": 65,
   "id": "35cb9a1b-c978-4fca-8d3a-6a611100c735",
   "metadata": {},
   "outputs": [],
   "source": [
    "subjects = ['Alteryx', 'Python', 'SQL', 'Tableau', 'Power BI']"
   ]
  },
  {
   "cell_type": "code",
   "execution_count": 66,
   "id": "ad06f30a-d9f0-4d93-9888-8bb4e9f42ee3",
   "metadata": {},
   "outputs": [
    {
     "data": {
      "text/plain": [
       "['Alteryx', 'Python', 'SQL', 'Tableau', 'Power BI']"
      ]
     },
     "execution_count": 66,
     "metadata": {},
     "output_type": "execute_result"
    }
   ],
   "source": [
    "subjects"
   ]
  },
  {
   "cell_type": "code",
   "execution_count": 67,
   "id": "0c3c9901-b939-4bde-986c-77f123cea5e2",
   "metadata": {},
   "outputs": [
    {
     "data": {
      "text/plain": [
       "['SAS', 'Python', 'SQL', 'Tableau', 'Power BI']"
      ]
     },
     "execution_count": 67,
     "metadata": {},
     "output_type": "execute_result"
    }
   ],
   "source": [
    "subjects[0] = 'SAS'\n",
    "subjects"
   ]
  },
  {
   "cell_type": "code",
   "execution_count": 68,
   "id": "24e0177e-8631-4867-9764-9512827c204d",
   "metadata": {},
   "outputs": [
    {
     "data": {
      "text/plain": [
       "['Puneet Kumar', 28, ['Alteryx', 'Python'], 7.5]"
      ]
     },
     "execution_count": 68,
     "metadata": {},
     "output_type": "execute_result"
    }
   ],
   "source": [
    "bio = ['Puneet Kumar', 28, ['Alteryx', 'Python'], 7.5]\n",
    "bio"
   ]
  },
  {
   "cell_type": "code",
   "execution_count": 69,
   "id": "e29e3e36-27f7-4023-8575-787c8b147ffd",
   "metadata": {},
   "outputs": [
    {
     "data": {
      "text/plain": [
       "'Puneet Kumar'"
      ]
     },
     "execution_count": 69,
     "metadata": {},
     "output_type": "execute_result"
    }
   ],
   "source": [
    "bio[0]"
   ]
  },
  {
   "cell_type": "code",
   "execution_count": 70,
   "id": "cba99863-594c-42a9-a0b6-e40761b66c92",
   "metadata": {},
   "outputs": [
    {
     "data": {
      "text/plain": [
       "28"
      ]
     },
     "execution_count": 70,
     "metadata": {},
     "output_type": "execute_result"
    }
   ],
   "source": [
    "bio[1]"
   ]
  },
  {
   "cell_type": "code",
   "execution_count": 71,
   "id": "faf93184-818e-4739-828b-f81e9a6ec432",
   "metadata": {},
   "outputs": [
    {
     "data": {
      "text/plain": [
       "['Alteryx', 'Python']"
      ]
     },
     "execution_count": 71,
     "metadata": {},
     "output_type": "execute_result"
    }
   ],
   "source": [
    "bio[2]"
   ]
  },
  {
   "cell_type": "code",
   "execution_count": 72,
   "id": "df439e5f-0229-4b81-b37f-24696d9e2d24",
   "metadata": {},
   "outputs": [
    {
     "data": {
      "text/plain": [
       "7.5"
      ]
     },
     "execution_count": 72,
     "metadata": {},
     "output_type": "execute_result"
    }
   ],
   "source": [
    "bio[3]"
   ]
  },
  {
   "cell_type": "code",
   "execution_count": 73,
   "id": "7e784b29-3499-48da-8c9d-3feb47435d08",
   "metadata": {},
   "outputs": [
    {
     "data": {
      "text/plain": [
       "['Alteryx', 'Python']"
      ]
     },
     "execution_count": 73,
     "metadata": {},
     "output_type": "execute_result"
    }
   ],
   "source": [
    "# multiple indices: in our list, the 3rd value is a list of subjects\n",
    "bio[2]"
   ]
  },
  {
   "cell_type": "code",
   "execution_count": 74,
   "id": "c6f4f34e-eaf4-4ef7-8093-01470358d1c4",
   "metadata": {},
   "outputs": [
    {
     "data": {
      "text/plain": [
       "'Alteryx'"
      ]
     },
     "execution_count": 74,
     "metadata": {},
     "output_type": "execute_result"
    }
   ],
   "source": [
    "# what if we want to access a specific subject in this list of subjects\n",
    "# (e.g. second subject)?\n",
    "# this can be done by specifying the index of that subject (e.g. 1),\n",
    "# within the index of the list in bio\n",
    "bio[2][0]"
   ]
  },
  {
   "cell_type": "code",
   "execution_count": 76,
   "id": "285be4b7-352e-4961-a4ef-95b5b3e536bb",
   "metadata": {},
   "outputs": [
    {
     "data": {
      "text/plain": [
       "4"
      ]
     },
     "execution_count": 76,
     "metadata": {},
     "output_type": "execute_result"
    }
   ],
   "source": [
    "len(bio)"
   ]
  },
  {
   "cell_type": "code",
   "execution_count": 79,
   "id": "972fc5ba-1caa-4dc7-be73-8bdea5553c70",
   "metadata": {},
   "outputs": [
    {
     "data": {
      "text/plain": [
       "[7.5, ['Alteryx', 'Python'], 28, 'Puneet Kumar']"
      ]
     },
     "execution_count": 79,
     "metadata": {},
     "output_type": "execute_result"
    }
   ],
   "source": [
    "# reverse a list\n",
    "bio[::-1]"
   ]
  },
  {
   "cell_type": "code",
   "execution_count": 80,
   "id": "ae9d441c-78c0-4238-9b42-db53b14dd4a2",
   "metadata": {},
   "outputs": [
    {
     "data": {
      "text/plain": [
       "['Puneet Kumar', 28, ['Alteryx', 'Python'], 7.5]"
      ]
     },
     "execution_count": 80,
     "metadata": {},
     "output_type": "execute_result"
    }
   ],
   "source": [
    "bio"
   ]
  },
  {
   "cell_type": "code",
   "execution_count": 81,
   "id": "d2116c91-f7f5-465f-8448-58da2da20470",
   "metadata": {},
   "outputs": [],
   "source": [
    "# we can also use list_obj.reverse() to reverse the order of a list\n",
    "# but this will overwrite the original list\n",
    "bio.reverse()"
   ]
  },
  {
   "cell_type": "code",
   "execution_count": 82,
   "id": "99b6fd02-346c-4606-bf54-cc4209baaf31",
   "metadata": {},
   "outputs": [
    {
     "data": {
      "text/plain": [
       "[7.5, ['Alteryx', 'Python'], 28, 'Puneet Kumar']"
      ]
     },
     "execution_count": 82,
     "metadata": {},
     "output_type": "execute_result"
    }
   ],
   "source": [
    "bio"
   ]
  },
  {
   "cell_type": "code",
   "execution_count": 83,
   "id": "2fe8785e-f910-425c-957c-deeefee45586",
   "metadata": {},
   "outputs": [
    {
     "data": {
      "text/plain": [
       "1"
      ]
     },
     "execution_count": 83,
     "metadata": {},
     "output_type": "execute_result"
    }
   ],
   "source": [
    "# list_obj.count(value) returns the number of times value is specified in list_obj \n",
    "bio.count(28)"
   ]
  },
  {
   "cell_type": "code",
   "execution_count": 84,
   "id": "899fb3f4-7b89-4f32-a895-fff56fde2fde",
   "metadata": {},
   "outputs": [
    {
     "data": {
      "text/plain": [
       "2"
      ]
     },
     "execution_count": 84,
     "metadata": {},
     "output_type": "execute_result"
    }
   ],
   "source": [
    "# list_obj.index(value) returns the first index of value in list_obj\n",
    "bio.index(28)"
   ]
  },
  {
   "cell_type": "code",
   "execution_count": 85,
   "id": "e88c90d5-9922-48bd-9f23-6070169b3475",
   "metadata": {},
   "outputs": [
    {
     "data": {
      "text/plain": [
       "[7.5, ['Alteryx', 'Python'], 28, 'Puneet Kumar', 'male']"
      ]
     },
     "execution_count": 85,
     "metadata": {},
     "output_type": "execute_result"
    }
   ],
   "source": [
    "# list_obj.append(value) is used to add value to list_obj\n",
    "bio.append('male')\n",
    "bio"
   ]
  },
  {
   "cell_type": "code",
   "execution_count": 86,
   "id": "2b236ca5-beb4-42f5-b729-03be16f090a7",
   "metadata": {},
   "outputs": [],
   "source": [
    "# let's say we want to add elements from another list to a list\n",
    "skills = ['Data Analysis', 'Machine Learning Engineer', 'Business Analysis']"
   ]
  },
  {
   "cell_type": "code",
   "execution_count": 87,
   "id": "7e5aa289-46f3-4fab-9ae2-534c44b218dc",
   "metadata": {},
   "outputs": [
    {
     "data": {
      "text/plain": [
       "[7.5,\n",
       " ['Alteryx', 'Python'],\n",
       " 28,\n",
       " 'Puneet Kumar',\n",
       " 'male',\n",
       " ['Data Analysis', 'Machine Learning Engineer', 'Business Analysis']]"
      ]
     },
     "execution_count": 87,
     "metadata": {},
     "output_type": "execute_result"
    }
   ],
   "source": [
    "bio.append(skills)\n",
    "bio"
   ]
  },
  {
   "cell_type": "markdown",
   "id": "939849bf-38d7-402a-b3c0-17ce62fcd1f5",
   "metadata": {},
   "source": [
    "#### When we use append() to add values to a list, those values are added as a single element."
   ]
  },
  {
   "cell_type": "code",
   "execution_count": 88,
   "id": "69dc2779-ef1f-435f-a7fe-3820fdae9383",
   "metadata": {},
   "outputs": [
    {
     "data": {
      "text/plain": [
       "[1, 2, 3, 4, 5, 6]"
      ]
     },
     "execution_count": 88,
     "metadata": {},
     "output_type": "execute_result"
    }
   ],
   "source": [
    "# we can also combine lists using +\n",
    "x = [1, 2, 3]\n",
    "y = [4, 5, 6]\n",
    "x + y"
   ]
  },
  {
   "cell_type": "code",
   "execution_count": 89,
   "id": "c87c4694-ba1b-4d3e-865c-5179609b5845",
   "metadata": {},
   "outputs": [
    {
     "data": {
      "text/plain": [
       "[7.5, ['Alteryx', 'Python'], 28, 'Puneet Kumar', 'male']"
      ]
     },
     "execution_count": 89,
     "metadata": {},
     "output_type": "execute_result"
    }
   ],
   "source": [
    "# let's try removing skills from our list\n",
    "# this can be done using the list_obj.remove() method\n",
    "bio.remove(skills)\n",
    "bio"
   ]
  },
  {
   "cell_type": "code",
   "execution_count": 121,
   "id": "3b9c36bb-4ca8-47db-a6d5-f8374ab82458",
   "metadata": {},
   "outputs": [
    {
     "data": {
      "text/plain": [
       "[7.5,\n",
       " ['Alteryx', 'Python'],\n",
       " 28,\n",
       " 'Puneet Kumar',\n",
       " 'male',\n",
       " 'Data Analysis',\n",
       " 'Machine Learning Engineer',\n",
       " 'Business Analysis']"
      ]
     },
     "execution_count": 121,
     "metadata": {},
     "output_type": "execute_result"
    }
   ],
   "source": [
    "# let's try adding the values in skills as individual elements to bio\n",
    "bio.extend(skills)\n",
    "bio"
   ]
  },
  {
   "cell_type": "markdown",
   "id": "5af867e4-a383-407e-9ea2-677ecd6a006a",
   "metadata": {},
   "source": [
    "1. Create a new list (bio) with the following elements:\n",
    "    1. Full name\n",
    "    2. Age\n",
    "    3. list of 3 skills\n",
    "2. Try to add 2 new skills to the list of skills in bio"
   ]
  },
  {
   "cell_type": "code",
   "execution_count": 122,
   "id": "cc4320c4-1ce9-42b9-a76e-bdd87ecbb5f4",
   "metadata": {},
   "outputs": [
    {
     "data": {
      "text/plain": [
       "['Puneet Kumar', 28, ['Coding', 'Baking', 'Learning']]"
      ]
     },
     "execution_count": 122,
     "metadata": {},
     "output_type": "execute_result"
    }
   ],
   "source": [
    "bio = ['Puneet Kumar', 28, ['Coding', 'Baking', 'Learning']]\n",
    "bio"
   ]
  },
  {
   "cell_type": "code",
   "execution_count": 123,
   "id": "3c6840c8-0b55-4814-be3b-f960c0d4bea2",
   "metadata": {},
   "outputs": [
    {
     "data": {
      "text/plain": [
       "['Puneet Kumar',\n",
       " 28,\n",
       " ['Coding', 'Baking', 'Learning', 'Driving', 'Problem-solving']]"
      ]
     },
     "execution_count": 123,
     "metadata": {},
     "output_type": "execute_result"
    }
   ],
   "source": [
    "new_skills = ['Driving', 'Problem-solving']\n",
    "bio[2].extend(new_skills)\n",
    "bio"
   ]
  },
  {
   "cell_type": "markdown",
   "id": "4c3b44f8-b025-44a8-a3b9-f4545fe2cc3a",
   "metadata": {},
   "source": [
    "### We can check whether a value is in a list or not using the in operator"
   ]
  },
  {
   "cell_type": "code",
   "execution_count": 125,
   "id": "1a354965-d883-4a73-b996-bcac895fbba6",
   "metadata": {},
   "outputs": [
    {
     "data": {
      "text/plain": [
       "True"
      ]
     },
     "execution_count": 125,
     "metadata": {},
     "output_type": "execute_result"
    }
   ],
   "source": [
    "'Coding' in bio[2]"
   ]
  },
  {
   "cell_type": "code",
   "execution_count": 126,
   "id": "4cb9ab02-a282-4ad0-95b3-af303979a897",
   "metadata": {},
   "outputs": [
    {
     "data": {
      "text/plain": [
       "False"
      ]
     },
     "execution_count": 126,
     "metadata": {},
     "output_type": "execute_result"
    }
   ],
   "source": [
    "'Accounting' in bio[2]"
   ]
  },
  {
   "cell_type": "markdown",
   "id": "a6cf7bf2-4d31-4536-819b-308e413b1aaa",
   "metadata": {},
   "source": [
    "### Dictionaries\n",
    "Dictionaries are unordered collection of values, stored as key-value pairs.\n",
    "- `unordered`: values in a dictionary don't have a position/index like strings, lists or tuples\n",
    "- `key-value pairs`: values in a dictionary are accessed using keys\n",
    "- denoted by `{}`"
   ]
  },
  {
   "cell_type": "code",
   "execution_count": 64,
   "id": "db934d99-8789-4746-83b2-b42a3cd85826",
   "metadata": {},
   "outputs": [
    {
     "data": {
      "text/plain": [
       "{'full_name': 'Puneet Kumar',\n",
       " 'age': 28,\n",
       " 'skills': ['Coding', 'Baking', 'Learning', 'Driving', 'Problem-solving']}"
      ]
     },
     "execution_count": 64,
     "metadata": {},
     "output_type": "execute_result"
    }
   ],
   "source": [
    "# creating a dictionary\n",
    "bio = {'full_name':'Puneet Kumar'\n",
    "      ,'age':28\n",
    "      ,'skills':['Coding', 'Baking', 'Learning', 'Driving', 'Problem-solving']}\n",
    "bio"
   ]
  },
  {
   "cell_type": "code",
   "execution_count": 65,
   "id": "115cfa2f-e51e-4e84-9926-9503492ca57a",
   "metadata": {},
   "outputs": [
    {
     "data": {
      "text/plain": [
       "'Puneet Kumar'"
      ]
     },
     "execution_count": 65,
     "metadata": {},
     "output_type": "execute_result"
    }
   ],
   "source": [
    "# using keys to access values\n",
    "bio['full_name']"
   ]
  },
  {
   "cell_type": "code",
   "execution_count": 66,
   "id": "50aeb2f0-08cd-4b4d-82e1-fa1381d8b1fe",
   "metadata": {},
   "outputs": [
    {
     "data": {
      "text/plain": [
       "28"
      ]
     },
     "execution_count": 66,
     "metadata": {},
     "output_type": "execute_result"
    }
   ],
   "source": [
    "bio['age']"
   ]
  },
  {
   "cell_type": "code",
   "execution_count": 67,
   "id": "d9a74b8d-5853-4806-a3e5-2b1f908a7a13",
   "metadata": {},
   "outputs": [
    {
     "data": {
      "text/plain": [
       "{'full_name': 'Sachin Gupta',\n",
       " 'age': 28,\n",
       " 'skills': ['Coding', 'Baking', 'Learning', 'Driving', 'Problem-solving']}"
      ]
     },
     "execution_count": 67,
     "metadata": {},
     "output_type": "execute_result"
    }
   ],
   "source": [
    "# dictionaries can be modified\n",
    "bio['full_name'] = 'Sachin Gupta'\n",
    "bio"
   ]
  },
  {
   "cell_type": "code",
   "execution_count": 68,
   "id": "829fcd82-763b-458e-a76a-f39be300c0a1",
   "metadata": {},
   "outputs": [
    {
     "data": {
      "text/plain": [
       "{'full_name': 'Sachin Gupta',\n",
       " 'age': 28,\n",
       " 'skills': ['Coding', 'Baking', 'Learning', 'Driving', 'Problem-solving'],\n",
       " 'gender': 'male'}"
      ]
     },
     "execution_count": 68,
     "metadata": {},
     "output_type": "execute_result"
    }
   ],
   "source": [
    "# we can also add new key-value pairs to a dictionary\n",
    "bio.update({'gender':'male'})\n",
    "bio"
   ]
  },
  {
   "cell_type": "code",
   "execution_count": 69,
   "id": "3f9c932f-8759-42f9-85a0-478d469bae86",
   "metadata": {},
   "outputs": [
    {
     "data": {
      "text/plain": [
       "dict_keys(['full_name', 'age', 'skills', 'gender'])"
      ]
     },
     "execution_count": 69,
     "metadata": {},
     "output_type": "execute_result"
    }
   ],
   "source": [
    "# we can get a list of keys in a dictionary using dictionary_obj.keys()\n",
    "bio.keys()"
   ]
  },
  {
   "cell_type": "code",
   "execution_count": 70,
   "id": "0f0e7905-6a0b-4248-8ae7-be58764f8e07",
   "metadata": {},
   "outputs": [
    {
     "data": {
      "text/plain": [
       "dict_values(['Sachin Gupta', 28, ['Coding', 'Baking', 'Learning', 'Driving', 'Problem-solving'], 'male'])"
      ]
     },
     "execution_count": 70,
     "metadata": {},
     "output_type": "execute_result"
    }
   ],
   "source": [
    "# we can get a list of values in a dictionary using dictionary_obj.values()\n",
    "bio.values()"
   ]
  },
  {
   "cell_type": "code",
   "execution_count": 71,
   "id": "951af97e-dd10-49ab-8503-bcfd9857287f",
   "metadata": {},
   "outputs": [
    {
     "data": {
      "text/plain": [
       "dict_items([('full_name', 'Sachin Gupta'), ('age', 28), ('skills', ['Coding', 'Baking', 'Learning', 'Driving', 'Problem-solving']), ('gender', 'male')])"
      ]
     },
     "execution_count": 71,
     "metadata": {},
     "output_type": "execute_result"
    }
   ],
   "source": [
    "# we can get each key-value pair as a list of tuples using dictionary_obj.items()\n",
    "bio.items()"
   ]
  },
  {
   "cell_type": "markdown",
   "id": "eec2a48f-384a-4b55-b3a3-0d7e14529f85",
   "metadata": {},
   "source": [
    "1. Create a dictionary (`tech`) which has each course that you have completed at TrainingYA as keys and your rating in the technology as a decimal value as values.\n",
    "2. Add this dictionary to your bio dictionary (key should be `skills`)\n",
    "3. Also add your employment status to the bio dictionary (key should `employed`, should be either True or False)"
   ]
  },
  {
   "cell_type": "code",
   "execution_count": 72,
   "id": "1b091067-295f-4b8c-82a6-77e60892254b",
   "metadata": {},
   "outputs": [
    {
     "data": {
      "text/plain": [
       "{'full_name': 'Sachin Gupta',\n",
       " 'age': 28,\n",
       " 'skills': {'Alteryx': 10,\n",
       "  'SQL': 10,\n",
       "  'Python': 7,\n",
       "  'Tableau': 10,\n",
       "  'Power BI': 7,\n",
       "  'Excel': 5},\n",
       " 'gender': 'male',\n",
       " 'employed': True}"
      ]
     },
     "execution_count": 72,
     "metadata": {},
     "output_type": "execute_result"
    }
   ],
   "source": [
    "tech = {'Alteryx':10, 'SQL':10, 'Python':7, 'Tableau':10, 'Power BI':7, 'Excel':5}\n",
    "bio.update({'skills':tech})\n",
    "bio.update({'employed':True})\n",
    "\n",
    "bio"
   ]
  },
  {
   "cell_type": "markdown",
   "id": "2a186eb8-b4ed-482f-a5e3-114e3255f4cb",
   "metadata": {},
   "source": [
    "### Sets\n",
    "Sets are unordered collection of values of the same data type. They cannot be modified.\n",
    "- `unordered`: values in a set are unordered, they don't have a fixed position. This is why we cannot index a set\n",
    "- denoted by `{}`\n",
    "- cannot store duplicate values"
   ]
  },
  {
   "cell_type": "code",
   "execution_count": 73,
   "id": "5eaec9d0-fcc6-47b7-a00e-5381f585c73d",
   "metadata": {},
   "outputs": [
    {
     "data": {
      "text/plain": [
       "{21, 23, 25, 28, 29, 34}"
      ]
     },
     "execution_count": 73,
     "metadata": {},
     "output_type": "execute_result"
    }
   ],
   "source": [
    "ages = {23, 25, 28, 21, 23, 29, 34, 23}\n",
    "ages"
   ]
  },
  {
   "cell_type": "code",
   "execution_count": 74,
   "id": "aeee28be-e345-4126-a1a1-7319229b7fd8",
   "metadata": {},
   "outputs": [
    {
     "ename": "TypeError",
     "evalue": "'set' object is not subscriptable",
     "output_type": "error",
     "traceback": [
      "\u001b[1;31m---------------------------------------------------------------------------\u001b[0m",
      "\u001b[1;31mTypeError\u001b[0m                                 Traceback (most recent call last)",
      "Cell \u001b[1;32mIn[74], line 1\u001b[0m\n\u001b[1;32m----> 1\u001b[0m \u001b[43mages\u001b[49m\u001b[43m[\u001b[49m\u001b[38;5;241;43m0\u001b[39;49m\u001b[43m]\u001b[49m\n",
      "\u001b[1;31mTypeError\u001b[0m: 'set' object is not subscriptable"
     ]
    }
   ],
   "source": [
    "ages[0]"
   ]
  },
  {
   "cell_type": "code",
   "execution_count": 75,
   "id": "d732788d-52a6-4f80-af4b-b6136022c7b0",
   "metadata": {},
   "outputs": [
    {
     "data": {
      "text/plain": [
       "{'full_name': 'Sachin Gupta',\n",
       " 'age': 28,\n",
       " 'skills': {'Alteryx': 10,\n",
       "  'SQL': 10,\n",
       "  'Python': 7,\n",
       "  'Tableau': 10,\n",
       "  'Power BI': 7,\n",
       "  'Excel': 5},\n",
       " 'gender': 'male',\n",
       " 'employed': True}"
      ]
     },
     "execution_count": 75,
     "metadata": {},
     "output_type": "execute_result"
    }
   ],
   "source": [
    "bio"
   ]
  },
  {
   "cell_type": "markdown",
   "id": "b3626d4c-53d7-4d49-8429-9d4d34ff8cb6",
   "metadata": {},
   "source": [
    "### Types of Statements\n",
    "In a code, each line is called a statement. Type of a statement is basically the value we get when the statement is evaluated."
   ]
  },
  {
   "cell_type": "code",
   "execution_count": 76,
   "id": "57e558d5-d321-4eda-a04a-59ae049c261c",
   "metadata": {},
   "outputs": [],
   "source": [
    "# mathematical or arithmetic statement\n",
    "age = 28 # this is an assignment statement, because we are assigning a value to a variable\n",
    "years = 10 # this is an assignment statement"
   ]
  },
  {
   "cell_type": "code",
   "execution_count": 77,
   "id": "7549132e-7dfb-4a47-ad28-aecb9091a906",
   "metadata": {},
   "outputs": [
    {
     "data": {
      "text/plain": [
       "38"
      ]
     },
     "execution_count": 77,
     "metadata": {},
     "output_type": "execute_result"
    }
   ],
   "source": [
    "age + years"
   ]
  },
  {
   "cell_type": "markdown",
   "id": "e5466f96-ab1d-4743-a362-4663968c714a",
   "metadata": {},
   "source": [
    "#### The above statement is a mathematical statement because when the statement is evaluated, we get a numeric value."
   ]
  },
  {
   "cell_type": "code",
   "execution_count": 78,
   "id": "adf925a0-7258-4ecb-b0f7-a5d9c4327ca4",
   "metadata": {},
   "outputs": [
    {
     "data": {
      "text/plain": [
       "False"
      ]
     },
     "execution_count": 78,
     "metadata": {},
     "output_type": "execute_result"
    }
   ],
   "source": [
    "age + years > 40"
   ]
  },
  {
   "cell_type": "markdown",
   "id": "e6874a56-50e0-4b42-8ed8-0fcf89f73ba6",
   "metadata": {},
   "source": [
    "#### The above statement is a Boolean statement, because the final result is a Boolean value.\n",
    "\n",
    "#### In Python, any statement or function/method that returns a value is a True Boolean statement. Just because a value exists, the statement automatically evaluates to `True`."
   ]
  },
  {
   "cell_type": "code",
   "execution_count": 79,
   "id": "2b541da2-2481-4c7e-a8a0-8759167ef1ba",
   "metadata": {},
   "outputs": [
    {
     "data": {
      "text/plain": [
       "{'full_name': 'Sachin Gupta',\n",
       " 'age': 28,\n",
       " 'skills': {'Alteryx': 10,\n",
       "  'SQL': 10,\n",
       "  'Python': 7,\n",
       "  'Tableau': 10,\n",
       "  'Power BI': 7,\n",
       "  'Excel': 5},\n",
       " 'gender': 'male',\n",
       " 'employed': True}"
      ]
     },
     "execution_count": 79,
     "metadata": {},
     "output_type": "execute_result"
    }
   ],
   "source": [
    "bio"
   ]
  },
  {
   "cell_type": "code",
   "execution_count": 80,
   "id": "102e0084-bc20-48b8-8e93-bdd8ff19df15",
   "metadata": {},
   "outputs": [
    {
     "name": "stdout",
     "output_type": "stream",
     "text": [
      "{'full_name': 'Sachin Gupta', 'age': 28, 'skills': {'Alteryx': 10, 'SQL': 10, 'Python': 7, 'Tableau': 10, 'Power BI': 7, 'Excel': 5}, 'gender': 'male', 'employed': True}\n"
     ]
    }
   ],
   "source": [
    "print(bio)"
   ]
  },
  {
   "cell_type": "code",
   "execution_count": 81,
   "id": "bcc39314-03c7-4f30-b8d3-884a217206a3",
   "metadata": {},
   "outputs": [
    {
     "data": {
      "text/plain": [
       "dict"
      ]
     },
     "execution_count": 81,
     "metadata": {},
     "output_type": "execute_result"
    }
   ],
   "source": [
    "type(bio)"
   ]
  },
  {
   "cell_type": "code",
   "execution_count": 82,
   "id": "d8a3d7cc-8e9a-4a6c-891d-3d46be943a3b",
   "metadata": {},
   "outputs": [
    {
     "name": "stdout",
     "output_type": "stream",
     "text": [
      "{'full_name': 'Sachin Gupta', 'age': 28, 'skills': {'Alteryx': 10, 'SQL': 10, 'Python': 7, 'Tableau': 10, 'Power BI': 7, 'Excel': 5}, 'gender': 'male', 'employed': True}\n"
     ]
    }
   ],
   "source": [
    "if print(bio):\n",
    "    print('printing from inside if block')"
   ]
  },
  {
   "cell_type": "code",
   "execution_count": 83,
   "id": "33b8e034-6b83-4bad-9996-03692b0ab750",
   "metadata": {},
   "outputs": [
    {
     "name": "stdout",
     "output_type": "stream",
     "text": [
      "{'full_name': 'Sachin Gupta', 'age': 28, 'skills': {'Alteryx': 10, 'SQL': 10, 'Python': 7, 'Tableau': 10, 'Power BI': 7, 'Excel': 5}, 'gender': 'male', 'employed': True}\n",
      "printing from inside if block\n"
     ]
    }
   ],
   "source": [
    "if not print(bio):\n",
    "    print('printing from inside if block')"
   ]
  },
  {
   "cell_type": "code",
   "execution_count": 84,
   "id": "0f11a3ce-6910-4e16-a311-ab213303e077",
   "metadata": {},
   "outputs": [
    {
     "name": "stdout",
     "output_type": "stream",
     "text": [
      "printing from inside if block\n"
     ]
    }
   ],
   "source": [
    "if type(bio):\n",
    "    print('printing from inside if block')"
   ]
  },
  {
   "cell_type": "code",
   "execution_count": 85,
   "id": "61461b51-d1fe-4451-8840-84d0a80d0b0e",
   "metadata": {},
   "outputs": [],
   "source": [
    "if not type(bio):\n",
    "    print('printing from inside if block')"
   ]
  }
 ],
 "metadata": {
  "kernelspec": {
   "display_name": "Python 3 (ipykernel)",
   "language": "python",
   "name": "python3"
  },
  "language_info": {
   "codemirror_mode": {
    "name": "ipython",
    "version": 3
   },
   "file_extension": ".py",
   "mimetype": "text/x-python",
   "name": "python",
   "nbconvert_exporter": "python",
   "pygments_lexer": "ipython3",
   "version": "3.12.4"
  }
 },
 "nbformat": 4,
 "nbformat_minor": 5
}
